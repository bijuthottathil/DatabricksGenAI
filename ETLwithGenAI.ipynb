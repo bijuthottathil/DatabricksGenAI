{
 "cells": [
  {
   "cell_type": "markdown",
   "metadata": {
    "application/vnd.databricks.v1+cell": {
     "cellMetadata": {},
     "inputWidgets": {},
     "nuid": "4a33f23c-9b26-44cf-bec1-bac9c4646e61",
     "showTitle": false,
     "title": ""
    }
   },
   "source": [
    "Automating ETL (Extract, Transform, Load) processes and data engineering tasks."
   ]
  },
  {
   "cell_type": "code",
   "execution_count": 0,
   "metadata": {
    "application/vnd.databricks.v1+cell": {
     "cellMetadata": {
      "byteLimit": 2048000,
      "rowLimit": 10000
     },
     "inputWidgets": {},
     "nuid": "15a6861d-c640-4379-86aa-25123b1dbd15",
     "showTitle": false,
     "title": ""
    }
   },
   "outputs": [
    {
     "output_type": "stream",
     "name": "stdout",
     "output_type": "stream",
     "text": [
      "Collecting transformers\n  Obtaining dependency information for transformers from https://files.pythonhosted.org/packages/31/6d/09a57274b45a411e6cc62122a032dd4f7cc6fb9e5323d4376ccc1d74bc56/transformers-4.45.0-py3-none-any.whl.metadata\n  Downloading transformers-4.45.0-py3-none-any.whl.metadata (44 kB)\n\u001B[?25l     \u001B[90m━━━━━━━━━━━━━━━━━━━━━━━━━━━━━━━━━━━━━━━━\u001B[0m \u001B[32m0.0/44.4 kB\u001B[0m \u001B[31m?\u001B[0m eta \u001B[36m-:--:--\u001B[0m\n\u001B[2K     \u001B[90m━━━━━━━━━━━━━━━━━━━━━━━━━━━━━━━━━━━━━━━━\u001B[0m \u001B[32m44.4/44.4 kB\u001B[0m \u001B[31m1.1 MB/s\u001B[0m eta \u001B[36m0:00:00\u001B[0m\n\u001B[?25hRequirement already satisfied: filelock in /databricks/python3/lib/python3.11/site-packages (from transformers) (3.13.4)\nCollecting huggingface-hub<1.0,>=0.23.2 (from transformers)\n  Obtaining dependency information for huggingface-hub<1.0,>=0.23.2 from https://files.pythonhosted.org/packages/5f/f1/15dc793cb109a801346f910a6b350530f2a763a6e83b221725a0bcc1e297/huggingface_hub-0.25.1-py3-none-any.whl.metadata\n  Downloading huggingface_hub-0.25.1-py3-none-any.whl.metadata (13 kB)\nRequirement already satisfied: numpy>=1.17 in /databricks/python3/lib/python3.11/site-packages (from transformers) (1.23.5)\nRequirement already satisfied: packaging>=20.0 in /databricks/python3/lib/python3.11/site-packages (from transformers) (23.2)\nRequirement already satisfied: pyyaml>=5.1 in /databricks/python3/lib/python3.11/site-packages (from transformers) (6.0)\nCollecting regex!=2019.12.17 (from transformers)\n  Obtaining dependency information for regex!=2019.12.17 from https://files.pythonhosted.org/packages/e9/5c/8b385afbfacb853730682c57be56225f9fe275c5bf02ac1fc88edbff316d/regex-2024.9.11-cp311-cp311-manylinux_2_17_x86_64.manylinux2014_x86_64.whl.metadata\n  Downloading regex-2024.9.11-cp311-cp311-manylinux_2_17_x86_64.manylinux2014_x86_64.whl.metadata (40 kB)\n\u001B[?25l     \u001B[90m━━━━━━━━━━━━━━━━━━━━━━━━━━━━━━━━━━━━━━━━\u001B[0m \u001B[32m0.0/40.5 kB\u001B[0m \u001B[31m?\u001B[0m eta \u001B[36m-:--:--\u001B[0m\n\u001B[2K     \u001B[90m━━━━━━━━━━━━━━━━━━━━━━━━━━━━━━━━━━━━━━━━\u001B[0m \u001B[32m40.5/40.5 kB\u001B[0m \u001B[31m3.4 MB/s\u001B[0m eta \u001B[36m0:00:00\u001B[0m\n\u001B[?25hRequirement already satisfied: requests in /databricks/python3/lib/python3.11/site-packages (from transformers) (2.31.0)\nCollecting tokenizers<0.21,>=0.20 (from transformers)\n  Obtaining dependency information for tokenizers<0.21,>=0.20 from https://files.pythonhosted.org/packages/a5/0e/e4421e6b8c8b3ae093bef22faa28c50d7dbd654f661edc5f5880a93dbf10/tokenizers-0.20.0-cp311-cp311-manylinux_2_17_x86_64.manylinux2014_x86_64.whl.metadata\n  Downloading tokenizers-0.20.0-cp311-cp311-manylinux_2_17_x86_64.manylinux2014_x86_64.whl.metadata (6.7 kB)\nCollecting safetensors>=0.4.1 (from transformers)\n  Obtaining dependency information for safetensors>=0.4.1 from https://files.pythonhosted.org/packages/e6/ee/69e498a892f208bd1da4104d4b9be887f8611bf4942144718b6738482250/safetensors-0.4.5-cp311-cp311-manylinux_2_17_x86_64.manylinux2014_x86_64.whl.metadata\n  Downloading safetensors-0.4.5-cp311-cp311-manylinux_2_17_x86_64.manylinux2014_x86_64.whl.metadata (3.8 kB)\nCollecting tqdm>=4.27 (from transformers)\n  Obtaining dependency information for tqdm>=4.27 from https://files.pythonhosted.org/packages/48/5d/acf5905c36149bbaec41ccf7f2b68814647347b72075ac0b1fe3022fdc73/tqdm-4.66.5-py3-none-any.whl.metadata\n  Downloading tqdm-4.66.5-py3-none-any.whl.metadata (57 kB)\n\u001B[?25l     \u001B[90m━━━━━━━━━━━━━━━━━━━━━━━━━━━━━━━━━━━━━━━━\u001B[0m \u001B[32m0.0/57.6 kB\u001B[0m \u001B[31m?\u001B[0m eta \u001B[36m-:--:--\u001B[0m\n\u001B[2K     \u001B[90m━━━━━━━━━━━━━━━━━━━━━━━━━━━━━━━━━━━━━━━━\u001B[0m \u001B[32m57.6/57.6 kB\u001B[0m \u001B[31m4.2 MB/s\u001B[0m eta \u001B[36m0:00:00\u001B[0m\n\u001B[?25hCollecting fsspec>=2023.5.0 (from huggingface-hub<1.0,>=0.23.2->transformers)\n  Obtaining dependency information for fsspec>=2023.5.0 from https://files.pythonhosted.org/packages/1d/a0/6aaea0c2fbea2f89bfd5db25fb1e3481896a423002ebe4e55288907a97a3/fsspec-2024.9.0-py3-none-any.whl.metadata\n  Downloading fsspec-2024.9.0-py3-none-any.whl.metadata (11 kB)\nRequirement already satisfied: typing-extensions>=3.7.4.3 in /databricks/python3/lib/python3.11/site-packages (from huggingface-hub<1.0,>=0.23.2->transformers) (4.10.0)\nRequirement already satisfied: charset-normalizer<4,>=2 in /databricks/python3/lib/python3.11/site-packages (from requests->transformers) (2.0.4)\nRequirement already satisfied: idna<4,>=2.5 in /databricks/python3/lib/python3.11/site-packages (from requests->transformers) (3.4)\nRequirement already satisfied: urllib3<3,>=1.21.1 in /databricks/python3/lib/python3.11/site-packages (from requests->transformers) (1.26.16)\nRequirement already satisfied: certifi>=2017.4.17 in /databricks/python3/lib/python3.11/site-packages (from requests->transformers) (2023.7.22)\nDownloading transformers-4.45.0-py3-none-any.whl (9.9 MB)\n\u001B[?25l   \u001B[90m━━━━━━━━━━━━━━━━━━━━━━━━━━━━━━━━━━━━━━━━\u001B[0m \u001B[32m0.0/9.9 MB\u001B[0m \u001B[31m?\u001B[0m eta \u001B[36m-:--:--\u001B[0m\n\u001B[2K   \u001B[91m╸\u001B[0m\u001B[90m━━━━━━━━━━━━━━━━━━━━━━━━━━━━━━━━━━━━━━━\u001B[0m \u001B[32m0.2/9.9 MB\u001B[0m \u001B[31m5.1 MB/s\u001B[0m eta \u001B[36m0:00:02\u001B[0m\n\u001B[2K   \u001B[91m━━\u001B[0m\u001B[91m╸\u001B[0m\u001B[90m━━━━━━━━━━━━━━━━━━━━━━━━━━━━━━━━━━━━━\u001B[0m \u001B[32m0.6/9.9 MB\u001B[0m \u001B[31m9.2 MB/s\u001B[0m eta \u001B[36m0:00:02\u001B[0m\n\u001B[2K   \u001B[91m━━━━━━\u001B[0m\u001B[91m╸\u001B[0m\u001B[90m━━━━━━━━━━━━━━━━━━━━━━━━━━━━━━━━━\u001B[0m \u001B[32m1.7/9.9 MB\u001B[0m \u001B[31m16.4 MB/s\u001B[0m eta \u001B[36m0:00:01\u001B[0m\n\u001B[2K   \u001B[91m━━━━━━━━━━━━\u001B[0m\u001B[91m╸\u001B[0m\u001B[90m━━━━━━━━━━━━━━━━━━━━━━━━━━━\u001B[0m \u001B[32m3.1/9.9 MB\u001B[0m \u001B[31m23.7 MB/s\u001B[0m eta \u001B[36m0:00:01\u001B[0m\n\u001B[2K   \u001B[91m━━━━━━━━━━━━━━\u001B[0m\u001B[90m╺\u001B[0m\u001B[90m━━━━━━━━━━━━━━━━━━━━━━━━━\u001B[0m \u001B[32m3.5/9.9 MB\u001B[0m \u001B[31m20.1 MB/s\u001B[0m eta \u001B[36m0:00:01\u001B[0m\n\u001B[2K   \u001B[91m━━━━━━━━━━━━━━━━━━━━━━━━━━━\u001B[0m\u001B[91m╸\u001B[0m\u001B[90m━━━━━━━━━━━━\u001B[0m \u001B[32m6.8/9.9 MB\u001B[0m \u001B[31m33.0 MB/s\u001B[0m eta \u001B[36m0:00:01\u001B[0m\n\u001B[2K   \u001B[91m━━━━━━━━━━━━━━━━━━━━━━━━━━━━━━━━━━━━━━\u001B[0m\u001B[91m╸\u001B[0m\u001B[90m━\u001B[0m \u001B[32m9.5/9.9 MB\u001B[0m \u001B[31m39.4 MB/s\u001B[0m eta \u001B[36m0:00:01\u001B[0m\n\u001B[2K   \u001B[91m━━━━━━━━━━━━━━━━━━━━━━━━━━━━━━━━━━━━━━━\u001B[0m\u001B[91m╸\u001B[0m \u001B[32m9.9/9.9 MB\u001B[0m \u001B[31m40.2 MB/s\u001B[0m eta \u001B[36m0:00:01\u001B[0m\n\u001B[2K   \u001B[90m━━━━━━━━━━━━━━━━━━━━━━━━━━━━━━━━━━━━━━━━\u001B[0m \u001B[32m9.9/9.9 MB\u001B[0m \u001B[31m35.6 MB/s\u001B[0m eta \u001B[36m0:00:00\u001B[0m\n\u001B[?25hDownloading huggingface_hub-0.25.1-py3-none-any.whl (436 kB)\n\u001B[?25l   \u001B[90m━━━━━━━━━━━━━━━━━━━━━━━━━━━━━━━━━━━━━━━━\u001B[0m \u001B[32m0.0/436.4 kB\u001B[0m \u001B[31m?\u001B[0m eta \u001B[36m-:--:--\u001B[0m\n\u001B[2K   \u001B[90m━━━━━━━━━━━━━━━━━━━━━━━━━━━━━━━━━━━━━━━━\u001B[0m \u001B[32m436.4/436.4 kB\u001B[0m \u001B[31m43.6 MB/s\u001B[0m eta \u001B[36m0:00:00\u001B[0m\n\u001B[?25hDownloading regex-2024.9.11-cp311-cp311-manylinux_2_17_x86_64.manylinux2014_x86_64.whl (792 kB)\n\u001B[?25l   \u001B[90m━━━━━━━━━━━━━━━━━━━━━━━━━━━━━━━━━━━━━━━━\u001B[0m \u001B[32m0.0/792.8 kB\u001B[0m \u001B[31m?\u001B[0m eta \u001B[36m-:--:--\u001B[0m\n\u001B[2K   \u001B[90m━━━━━━━━━━━━━━━━━━━━━━━━━━━━━━━━━━━━━━━━\u001B[0m \u001B[32m792.8/792.8 kB\u001B[0m \u001B[31m64.8 MB/s\u001B[0m eta \u001B[36m0:00:00\u001B[0m\n\u001B[?25hDownloading safetensors-0.4.5-cp311-cp311-manylinux_2_17_x86_64.manylinux2014_x86_64.whl (435 kB)\n\u001B[?25l   \u001B[90m━━━━━━━━━━━━━━━━━━━━━━━━━━━━━━━━━━━━━━━━\u001B[0m \u001B[32m0.0/435.0 kB\u001B[0m \u001B[31m?\u001B[0m eta \u001B[36m-:--:--\u001B[0m\n\u001B[2K   \u001B[90m━━━━━━━━━━━━━━━━━━━━━━━━━━━━━━━━━━━━━━━━\u001B[0m \u001B[32m435.0/435.0 kB\u001B[0m \u001B[31m50.6 MB/s\u001B[0m eta \u001B[36m0:00:00\u001B[0m\n\u001B[?25hDownloading tokenizers-0.20.0-cp311-cp311-manylinux_2_17_x86_64.manylinux2014_x86_64.whl (2.9 MB)\n\u001B[?25l   \u001B[90m━━━━━━━━━━━━━━━━━━━━━━━━━━━━━━━━━━━━━━━━\u001B[0m \u001B[32m0.0/2.9 MB\u001B[0m \u001B[31m?\u001B[0m eta \u001B[36m-:--:--\u001B[0m\n\u001B[2K   \u001B[91m━━━━━━━━━━━━━━━━━━━━━━━━━━━━━━━━━━━━━\u001B[0m\u001B[90m╺\u001B[0m\u001B[90m━━\u001B[0m \u001B[32m2.7/2.9 MB\u001B[0m \u001B[31m81.9 MB/s\u001B[0m eta \u001B[36m0:00:01\u001B[0m\n\u001B[2K   \u001B[90m━━━━━━━━━━━━━━━━━━━━━━━━━━━━━━━━━━━━━━━━\u001B[0m \u001B[32m2.9/2.9 MB\u001B[0m \u001B[31m60.7 MB/s\u001B[0m eta \u001B[36m0:00:00\u001B[0m\n\u001B[?25hDownloading tqdm-4.66.5-py3-none-any.whl (78 kB)\n\u001B[?25l   \u001B[90m━━━━━━━━━━━━━━━━━━━━━━━━━━━━━━━━━━━━━━━━\u001B[0m \u001B[32m0.0/78.4 kB\u001B[0m \u001B[31m?\u001B[0m eta \u001B[36m-:--:--\u001B[0m\n\u001B[2K   \u001B[90m━━━━━━━━━━━━━━━━━━━━━━━━━━━━━━━━━━━━━━━━\u001B[0m \u001B[32m78.4/78.4 kB\u001B[0m \u001B[31m16.3 MB/s\u001B[0m eta \u001B[36m0:00:00\u001B[0m\n\u001B[?25hDownloading fsspec-2024.9.0-py3-none-any.whl (179 kB)\n\u001B[?25l   \u001B[90m━━━━━━━━━━━━━━━━━━━━━━━━━━━━━━━━━━━━━━━━\u001B[0m \u001B[32m0.0/179.3 kB\u001B[0m \u001B[31m?\u001B[0m eta \u001B[36m-:--:--\u001B[0m\n\u001B[2K   \u001B[90m━━━━━━━━━━━━━━━━━━━━━━━━━━━━━━━━━━━━━━━━\u001B[0m \u001B[32m179.3/179.3 kB\u001B[0m \u001B[31m31.2 MB/s\u001B[0m eta \u001B[36m0:00:00\u001B[0m\n\u001B[?25hInstalling collected packages: tqdm, safetensors, regex, fsspec, huggingface-hub, tokenizers, transformers\nSuccessfully installed fsspec-2024.9.0 huggingface-hub-0.25.1 regex-2024.9.11 safetensors-0.4.5 tokenizers-0.20.0 tqdm-4.66.5 transformers-4.45.0\n\u001B[43mNote: you may need to restart the kernel using %restart_python or dbutils.library.restartPython() to use updated packages.\u001B[0m\nCollecting torch\n  Obtaining dependency information for torch from https://files.pythonhosted.org/packages/ea/ea/4ab009e953bca6ff35ad75b8ab58c0923308636c182c145dc63084f7d136/torch-2.4.1-cp311-cp311-manylinux1_x86_64.whl.metadata\n  Downloading torch-2.4.1-cp311-cp311-manylinux1_x86_64.whl.metadata (26 kB)\nRequirement already satisfied: filelock in /databricks/python3/lib/python3.11/site-packages (from torch) (3.13.4)\nRequirement already satisfied: typing-extensions>=4.8.0 in /databricks/python3/lib/python3.11/site-packages (from torch) (4.10.0)\nCollecting sympy (from torch)\n  Obtaining dependency information for sympy from https://files.pythonhosted.org/packages/99/ff/c87e0622b1dadea79d2fb0b25ade9ed98954c9033722eb707053d310d4f3/sympy-1.13.3-py3-none-any.whl.metadata\n  Downloading sympy-1.13.3-py3-none-any.whl.metadata (12 kB)\nCollecting networkx (from torch)\n  Obtaining dependency information for networkx from https://files.pythonhosted.org/packages/38/e9/5f72929373e1a0e8d142a130f3f97e6ff920070f87f91c4e13e40e0fba5a/networkx-3.3-py3-none-any.whl.metadata\n  Downloading networkx-3.3-py3-none-any.whl.metadata (5.1 kB)\nCollecting jinja2 (from torch)\n  Obtaining dependency information for jinja2 from https://files.pythonhosted.org/packages/31/80/3a54838c3fb461f6fec263ebf3a3a41771bd05190238de3486aae8540c36/jinja2-3.1.4-py3-none-any.whl.metadata\n  Downloading jinja2-3.1.4-py3-none-any.whl.metadata (2.6 kB)\nRequirement already satisfied: fsspec in /local_disk0/.ephemeral_nfs/envs/pythonEnv-25bc4018-83b4-4550-99fe-5b9d573e81ae/lib/python3.11/site-packages (from torch) (2024.9.0)\nCollecting nvidia-cuda-nvrtc-cu12==12.1.105 (from torch)\n  Obtaining dependency information for nvidia-cuda-nvrtc-cu12==12.1.105 from https://files.pythonhosted.org/packages/b6/9f/c64c03f49d6fbc56196664d05dba14e3a561038a81a638eeb47f4d4cfd48/nvidia_cuda_nvrtc_cu12-12.1.105-py3-none-manylinux1_x86_64.whl.metadata\n  Downloading nvidia_cuda_nvrtc_cu12-12.1.105-py3-none-manylinux1_x86_64.whl.metadata (1.5 kB)\nCollecting nvidia-cuda-runtime-cu12==12.1.105 (from torch)\n  Obtaining dependency information for nvidia-cuda-runtime-cu12==12.1.105 from https://files.pythonhosted.org/packages/eb/d5/c68b1d2cdfcc59e72e8a5949a37ddb22ae6cade80cd4a57a84d4c8b55472/nvidia_cuda_runtime_cu12-12.1.105-py3-none-manylinux1_x86_64.whl.metadata\n  Downloading nvidia_cuda_runtime_cu12-12.1.105-py3-none-manylinux1_x86_64.whl.metadata (1.5 kB)\nCollecting nvidia-cuda-cupti-cu12==12.1.105 (from torch)\n  Obtaining dependency information for nvidia-cuda-cupti-cu12==12.1.105 from https://files.pythonhosted.org/packages/7e/00/6b218edd739ecfc60524e585ba8e6b00554dd908de2c9c66c1af3e44e18d/nvidia_cuda_cupti_cu12-12.1.105-py3-none-manylinux1_x86_64.whl.metadata\n  Downloading nvidia_cuda_cupti_cu12-12.1.105-py3-none-manylinux1_x86_64.whl.metadata (1.6 kB)\nCollecting nvidia-cudnn-cu12==9.1.0.70 (from torch)\n  Obtaining dependency information for nvidia-cudnn-cu12==9.1.0.70 from https://files.pythonhosted.org/packages/9f/fd/713452cd72343f682b1c7b9321e23829f00b842ceaedcda96e742ea0b0b3/nvidia_cudnn_cu12-9.1.0.70-py3-none-manylinux2014_x86_64.whl.metadata\n  Downloading nvidia_cudnn_cu12-9.1.0.70-py3-none-manylinux2014_x86_64.whl.metadata (1.6 kB)\nCollecting nvidia-cublas-cu12==12.1.3.1 (from torch)\n  Obtaining dependency information for nvidia-cublas-cu12==12.1.3.1 from https://files.pythonhosted.org/packages/37/6d/121efd7382d5b0284239f4ab1fc1590d86d34ed4a4a2fdb13b30ca8e5740/nvidia_cublas_cu12-12.1.3.1-py3-none-manylinux1_x86_64.whl.metadata\n  Downloading nvidia_cublas_cu12-12.1.3.1-py3-none-manylinux1_x86_64.whl.metadata (1.5 kB)\nCollecting nvidia-cufft-cu12==11.0.2.54 (from torch)\n  Obtaining dependency information for nvidia-cufft-cu12==11.0.2.54 from https://files.pythonhosted.org/packages/86/94/eb540db023ce1d162e7bea9f8f5aa781d57c65aed513c33ee9a5123ead4d/nvidia_cufft_cu12-11.0.2.54-py3-none-manylinux1_x86_64.whl.metadata\n  Downloading nvidia_cufft_cu12-11.0.2.54-py3-none-manylinux1_x86_64.whl.metadata (1.5 kB)\nCollecting nvidia-curand-cu12==10.3.2.106 (from torch)\n  Obtaining dependency information for nvidia-curand-cu12==10.3.2.106 from https://files.pythonhosted.org/packages/44/31/4890b1c9abc496303412947fc7dcea3d14861720642b49e8ceed89636705/nvidia_curand_cu12-10.3.2.106-py3-none-manylinux1_x86_64.whl.metadata\n  Downloading nvidia_curand_cu12-10.3.2.106-py3-none-manylinux1_x86_64.whl.metadata (1.5 kB)\nCollecting nvidia-cusolver-cu12==11.4.5.107 (from torch)\n  Obtaining dependency information for nvidia-cusolver-cu12==11.4.5.107 from https://files.pythonhosted.org/packages/bc/1d/8de1e5c67099015c834315e333911273a8c6aaba78923dd1d1e25fc5f217/nvidia_cusolver_cu12-11.4.5.107-py3-none-manylinux1_x86_64.whl.metadata\n  Downloading nvidia_cusolver_cu12-11.4.5.107-py3-none-manylinux1_x86_64.whl.metadata (1.6 kB)\nCollecting nvidia-cusparse-cu12==12.1.0.106 (from torch)\n  Obtaining dependency information for nvidia-cusparse-cu12==12.1.0.106 from https://files.pythonhosted.org/packages/65/5b/cfaeebf25cd9fdec14338ccb16f6b2c4c7fa9163aefcf057d86b9cc248bb/nvidia_cusparse_cu12-12.1.0.106-py3-none-manylinux1_x86_64.whl.metadata\n  Downloading nvidia_cusparse_cu12-12.1.0.106-py3-none-manylinux1_x86_64.whl.metadata (1.6 kB)\nCollecting nvidia-nccl-cu12==2.20.5 (from torch)\n  Obtaining dependency information for nvidia-nccl-cu12==2.20.5 from https://files.pythonhosted.org/packages/4b/2a/0a131f572aa09f741c30ccd45a8e56316e8be8dfc7bc19bf0ab7cfef7b19/nvidia_nccl_cu12-2.20.5-py3-none-manylinux2014_x86_64.whl.metadata\n  Downloading nvidia_nccl_cu12-2.20.5-py3-none-manylinux2014_x86_64.whl.metadata (1.8 kB)\nCollecting nvidia-nvtx-cu12==12.1.105 (from torch)\n  Obtaining dependency information for nvidia-nvtx-cu12==12.1.105 from https://files.pythonhosted.org/packages/da/d3/8057f0587683ed2fcd4dbfbdfdfa807b9160b809976099d36b8f60d08f03/nvidia_nvtx_cu12-12.1.105-py3-none-manylinux1_x86_64.whl.metadata\n  Downloading nvidia_nvtx_cu12-12.1.105-py3-none-manylinux1_x86_64.whl.metadata (1.7 kB)\nCollecting triton==3.0.0 (from torch)\n  Obtaining dependency information for triton==3.0.0 from https://files.pythonhosted.org/packages/33/3e/a2f59384587eff6aeb7d37b6780de7fedd2214935e27520430ca9f5b7975/triton-3.0.0-1-cp311-cp311-manylinux2014_x86_64.manylinux_2_17_x86_64.whl.metadata\n  Downloading triton-3.0.0-1-cp311-cp311-manylinux2014_x86_64.manylinux_2_17_x86_64.whl.metadata (1.3 kB)\nCollecting nvidia-nvjitlink-cu12 (from nvidia-cusolver-cu12==11.4.5.107->torch)\n  Obtaining dependency information for nvidia-nvjitlink-cu12 from https://files.pythonhosted.org/packages/a8/48/a9775d377cb95585fb188b469387f58ba6738e268de22eae2ad4cedb2c41/nvidia_nvjitlink_cu12-12.6.68-py3-none-manylinux2014_x86_64.whl.metadata\n  Downloading nvidia_nvjitlink_cu12-12.6.68-py3-none-manylinux2014_x86_64.whl.metadata (1.5 kB)\nCollecting MarkupSafe>=2.0 (from jinja2->torch)\n  Obtaining dependency information for MarkupSafe>=2.0 from https://files.pythonhosted.org/packages/97/18/c30da5e7a0e7f4603abfc6780574131221d9148f323752c2755d48abad30/MarkupSafe-2.1.5-cp311-cp311-manylinux_2_17_x86_64.manylinux2014_x86_64.whl.metadata\n  Downloading MarkupSafe-2.1.5-cp311-cp311-manylinux_2_17_x86_64.manylinux2014_x86_64.whl.metadata (3.0 kB)\nCollecting mpmath<1.4,>=1.1.0 (from sympy->torch)\n  Obtaining dependency information for mpmath<1.4,>=1.1.0 from https://files.pythonhosted.org/packages/43/e3/7d92a15f894aa0c9c4b49b8ee9ac9850d6e63b03c9c32c0367a13ae62209/mpmath-1.3.0-py3-none-any.whl.metadata\n  Downloading mpmath-1.3.0-py3-none-any.whl.metadata (8.6 kB)\nDownloading torch-2.4.1-cp311-cp311-manylinux1_x86_64.whl (797.1 MB)\n\u001B[?25l   \u001B[90m━━━━━━━━━━━━━━━━━━━━━━━━━━━━━━━━━━━━━━━━\u001B[0m \u001B[32m0.0/797.1 MB\u001B[0m \u001B[31m?\u001B[0m eta \u001B[36m-:--:--\u001B[0m\n\u001B[2K   \u001B[90m━━━━━━━━━━━━━━━━━━━━━━━━━━━━━━━━━━━━━━━━\u001B[0m \u001B[32m0.1/797.1 MB\u001B[0m \u001B[31m4.1 MB/s\u001B[0m eta \u001B[36m0:03:16\u001B[0m\n\u001B[2K   \u001B[90m━━━━━━━━━━━━━━━━━━━━━━━━━━━━━━━━━━━━━━━━\u001B[0m \u001B[32m0.4/797.1 MB\u001B[0m \u001B[31m6.2 MB/s\u001B[0m eta \u001B[36m0:02:09\u001B[0m\n\u001B[2K   \u001B[90m━━━━━━━━━━━━━━━━━━━━━━━━━━━━━━━━━━━━━━━━\u001B[0m \u001B[32m1.5/797.1 MB\u001B[0m \u001B[31m15.0 MB/s\u001B[0m eta \u001B[36m0:00:54\u001B[0m\n\u001B[2K   \u001B[90m━━━━━━━━━━━━━━━━━━━━━━━━━━━━━━━━━━━━━━━━\u001B[0m \u001B[32m3.8/797.1 MB\u001B[0m \u001B[31m27.4 MB/s\u001B[0m eta \u001B[36m0:00:29\u001B[0m\n\u001B[2K   \u001B[90m━━━━━━━━━━━━━━━━━━━━━━━━━━━━━━━━━━━━━━━━\u001B[0m \u001B[32m7.1/797.1 MB\u001B[0m \u001B[31m43.4 MB/s\u001B[0m eta \u001B[36m0:00:19\u001B[0m\n\u001B[2K   \u001B[91m╸\u001B[0m\u001B[90m━━━━━━━━━━━━━━━━━━━━━━━━━━━━━━━━━━━━━━━\u001B[0m \u001B[32m10.2/797.1 MB\u001B[0m \u001B[31m51.8 MB/s\u001B[0m eta \u001B[36m0:00:16\u001B[0m\n\u001B[2K   \u001B[91m╸\u001B[0m\u001B[90m━━━━━━━━━━━━━━━━━━━━━━━━━━━━━━━━━━━━━━━\u001B[0m \u001B[32m14.1/797.1 MB\u001B[0m \u001B[31m99.3 MB/s\u001B[0m eta \u001B[36m0:00:08\u001B[0m\n\u001B[2K   \u001B[91m╸\u001B[0m\u001B[90m━━━━━━━━━━━━━━━━━━━━━━━━━━━━━━━━━━━━━━━\u001B[0m \u001B[32m16.2/797.1 MB\u001B[0m \u001B[31m80.3 MB/s\u001B[0m eta \u001B[36m0:00:10\u001B[0m\n\u001B[2K   \u001B[91m━\u001B[0m\u001B[90m╺\u001B[0m\u001B[90m━━━━━━━━━━━━━━━━━━━━━━━━━━━━━━━━━━━━━━\u001B[0m \u001B[32m20.6/797.1 MB\u001B[0m \u001B[31m103.8 MB/s\u001B[0m eta \u001B[36m0:00:08\u001B[0m\n\u001B[2K   \u001B[91m━\u001B[0m\u001B[90m╺\u001B[0m\u001B[90m━━━━━━━━━━━━━━━━━━━━━━━━━━━━━━━━━━━━━━\u001B[0m \u001B[32m24.4/797.1 MB\u001B[0m \u001B[31m100.7 MB/s\u001B[0m eta \u001B[36m0:00:08\u001B[0m\n\u001B[2K   \u001B[91m━\u001B[0m\u001B[90m╺\u001B[0m\u001B[90m━━━━━━━━━━━━━━━━━━━━━━━━━━━━━━━━━━━━━━\u001B[0m \u001B[32m29.1/797.1 MB\u001B[0m \u001B[31m127.2 MB/s\u001B[0m eta \u001B[36m0:00:07\u001B[0m\n\u001B[2K   \u001B[91m━\u001B[0m\u001B[91m╸\u001B[0m\u001B[90m━━━━━━━━━━━━━━━━━━━━━━━━━━━━━━━━━━━━━━\u001B[0m \u001B[32m32.9/797.1 MB\u001B[0m \u001B[31m126.3 MB/s\u001B[0m eta \u001B[36m0:00:07\u001B[0m\n\u001B[2K   \u001B[91m━\u001B[0m\u001B[91m╸\u001B[0m\u001B[90m━━━━━━━━━━━━━━━━━━━━━━━━━━━━━━━━━━━━━━\u001B[0m \u001B[32m35.8/797.1 MB\u001B[0m \u001B[31m105.1 MB/s\u001B[0m eta \u001B[36m0:00:08\u001B[0m\n\u001B[2K   \u001B[91m━\u001B[0m\u001B[91m╸\u001B[0m\u001B[90m━━━━━━━━━━━━━━━━━━━━━━━━━━━━━━━━━━━━━━\u001B[0m \u001B[32m38.0/797.1 MB\u001B[0m \u001B[31m90.6 MB/s\u001B[0m eta \u001B[36m0:00:09\u001B[0m\n\u001B[2K   \u001B[91m━\u001B[0m\u001B[91m╸\u001B[0m\u001B[90m━━━━━━━━━━━━━━━━━━━━━━━━━━━━━━━━━━━━━━\u001B[0m \u001B[32m39.0/797.1 MB\u001B[0m \u001B[31m84.9 MB/s\u001B[0m eta \u001B[36m0:00:09\u001B[0m\n\u001B[2K   \u001B[91m━━\u001B[0m\u001B[90m╺\u001B[0m\u001B[90m━━━━━━━━━━━━━━━━━━━━━━━━━━━━━━━━━━━━━\u001B[0m \u001B[32m42.9/797.1 MB\u001B[0m \u001B[31m70.6 MB/s\u001B[0m eta \u001B[36m0:00:11\u001B[0m\n\u001B[2K   \u001B[91m━━\u001B[0m\u001B[90m╺\u001B[0m\u001B[90m━━━━━━━━━━━━━━━━━━━━━━━━━━━━━━━━━━━━━\u001B[0m \u001B[32m45.1/797.1 MB\u001B[0m \u001B[31m72.7 MB/s\u001B[0m eta \u001B[36m0:00:11\u001B[0m\n\u001B[2K   \u001B[91m━━\u001B[0m\u001B[90m╺\u001B[0m\u001B[90m━━━━━━━━━━━━━━━━━━━━━━━━━━━━━━━━━━━━━\u001B[0m \u001B[32m47.2/797.1 MB\u001B[0m \u001B[31m69.2 MB/s\u001B[0m eta \u001B[36m0:00:11\u001B[0m\n\u001B[2K   \u001B[91m━━\u001B[0m\u001B[90m╺\u001B[0m\u001B[90m━━━━━━━━━━━━━━━━━━━━━━━━━━━━━━━━━━━━━\u001B[0m \u001B[32m49.6/797.1 MB\u001B[0m \u001B[31m76.4 MB/s\u001B[0m eta \u001B[36m0:00:10\u001B[0m\n\u001B[2K   \u001B[91m━━\u001B[0m\u001B[91m╸\u001B[0m\u001B[90m━━━━━━━━━━━━━━━━━━━━━━━━━━━━━━━━━━━━━\u001B[0m \u001B[32m51.7/797.1 MB\u001B[0m \u001B[31m62.9 MB/s\u001B[0m eta \u001B[36m0:00:12\u001B[0m\n\u001B[2K   \u001B[91m━━\u001B[0m\u001B[91m╸\u001B[0m\u001B[90m━━━━━━━━━━━━━━━━━━━━━━━━━━━━━━━━━━━━━\u001B[0m \u001B[32m54.0/797.1 MB\u001B[0m \u001B[31m65.6 MB/s\u001B[0m eta \u001B[36m0:00:12\u001B[0m\n\u001B[2K   \u001B[91m━━\u001B[0m\u001B[91m╸\u001B[0m\u001B[90m━━━━━━━━━━━━━━━━━━━━━━━━━━━━━━━━━━━━━\u001B[0m \u001B[32m56.1/797.1 MB\u001B[0m \u001B[31m64.3 MB/s\u001B[0m eta \u001B[36m0:00:12\u001B[0m\n\u001B[2K   \u001B[91m━━\u001B[0m\u001B[91m╸\u001B[0m\u001B[90m━━━━━━━━━━━━━━━━━━━━━━━━━━━━━━━━━━━━━\u001B[0m \u001B[32m58.2/797.1 MB\u001B[0m \u001B[31m62.7 MB/s\u001B[0m eta \u001B[36m0:00:12\u001B[0m\n\u001B[2K   \u001B[91m━━━\u001B[0m\u001B[90m╺\u001B[0m\u001B[90m━━━━━━━━━━━━━━━━━━━━━━━━━━━━━━━━━━━━\u001B[0m \u001B[32m60.6/797.1 MB\u001B[0m \u001B[31m64.2 MB/s\u001B[0m eta \u001B[36m0:00:12\u001B[0m\n\u001B[2K   \u001B[91m━━━\u001B[0m\u001B[90m╺\u001B[0m\u001B[90m━━━━━━━━━━━━━━━━━━━━━━━━━━━━━━━━━━━━\u001B[0m \u001B[32m62.8/797.1 MB\u001B[0m \u001B[31m63.1 MB/s\u001B[0m eta \u001B[36m0:00:12\u001B[0m\n\u001B[2K   \u001B[91m━━━\u001B[0m\u001B[90m╺\u001B[0m\u001B[90m━━━━━━━━━━━━━━━━━━━━━━━━━━━━━━━━━━━━\u001B[0m \u001B[32m64.9/797.1 MB\u001B[0m \u001B[31m64.3 MB/s\u001B[0m eta \u001B[36m0:00:12\u001B[0m\n\u001B[2K   \u001B[91m━━━\u001B[0m\u001B[90m╺\u001B[0m\u001B[90m━━━━━━━━━━━━━━━━━━━━━━━━━━━━━━━━━━━━\u001B[0m \u001B[32m66.9/797.1 MB\u001B[0m \u001B[31m63.3 MB/s\u001B[0m eta \u001B[36m0:00:12\u001B[0m\n\u001B[2K   \u001B[91m━━━\u001B[0m\u001B[90m╺\u001B[0m\u001B[90m━━━━━━━━━━━━━━━━━━━━━━━━━━━━━━━━━━━━\u001B[0m \u001B[32m69.4/797.1 MB\u001B[0m \u001B[31m63.5 MB/s\u001B[0m eta \u001B[36m0:00:12\u001B[0m\n\u001B[2K   \u001B[91m━━━\u001B[0m\u001B[91m╸\u001B[0m\u001B[90m━━━━━━━━━━━━━━━━━━━━━━━━━━━━━━━━━━━━\u001B[0m \u001B[32m71.5/797.1 MB\u001B[0m \u001B[31m63.1 MB/s\u001B[0m eta \u001B[36m0:00:12\u001B[0m\n\u001B[2K   \u001B[91m━━━\u001B[0m\u001B[91m╸\u001B[0m\u001B[90m━━━━━━━━━━━━━━━━━━━━━━━━━━━━━━━━━━━━\u001B[0m \u001B[32m73.9/797.1 MB\u001B[0m \u001B[31m64.5 MB/s\u001B[0m eta \u001B[36m0:00:12\u001B[0m\n\u001B[2K   \u001B[91m━━━\u001B[0m\u001B[91m╸\u001B[0m\u001B[90m━━━━━━━━━━━━━━━━━━━━━━━━━━━━━━━━━━━━\u001B[0m \u001B[32m76.0/797.1 MB\u001B[0m \u001B[31m65.8 MB/s\u001B[0m eta \u001B[36m0:00:11\u001B[0m\n\u001B[2K   \u001B[91m━━━\u001B[0m\u001B[91m╸\u001B[0m\u001B[90m━━━━━━━━━━━━━━━━━━━━━━━━━━━━━━━━━━━━\u001B[0m \u001B[32m78.5/797.1 MB\u001B[0m \u001B[31m66.9 MB/s\u001B[0m eta \u001B[36m0:00:11\u001B[0m\n\u001B[2K   \u001B[91m━━━━\u001B[0m\u001B[90m╺\u001B[0m\u001B[90m━━━━━━━━━━━━━━━━━━━━━━━━━━━━━━━━━━━\u001B[0m \u001B[32m80.7/797.1 MB\u001B[0m \u001B[31m66.3 MB/s\u001B[0m eta \u001B[36m0:00:11\u001B[0m\n\u001B[2K   \u001B[91m━━━━\u001B[0m\u001B[90m╺\u001B[0m\u001B[90m━━━━━━━━━━━━━━━━━━━━━━━━━━━━━━━━━━━\u001B[0m \u001B[32m82.0/797.1 MB\u001B[0m \u001B[31m65.6 MB/s\u001B[0m eta \u001B[36m0:00:11\u001B[0m\n\u001B[2K   \u001B[91m━━━━\u001B[0m\u001B[90m╺\u001B[0m\u001B[90m━━━━━━━━━━━━━━━━━━━━━━━━━━━━━━━━━━━\u001B[0m \u001B[32m84.8/797.1 MB\u001B[0m \u001B[31m63.4 MB/s\u001B[0m eta \u001B[36m0:00:12\u001B[0m\n\u001B[2K   \u001B[91m━━━━\u001B[0m\u001B[90m╺\u001B[0m\u001B[90m━━━━━━━━━━━━━━━━━━━━━━━━━━━━━━━━━━━\u001B[0m \u001B[32m86.4/797.1 MB\u001B[0m \u001B[31m60.0 MB/s\u001B[0m eta \u001B[36m0:00:12\u001B[0m\n\u001B[2K   \u001B[91m━━━━\u001B[0m\u001B[90m╺\u001B[0m\u001B[90m━━━━━━━━━━━━━━━━━━━━━━━━━━━━━━━━━━━\u001B[0m \u001B[32m88.0/797.1 MB\u001B[0m \u001B[31m56.3 MB/s\u001B[0m eta \u001B[36m0:00:13\u001B[0m\n\u001B[2K   \u001B[91m━━━━\u001B[0m\u001B[90m╺\u001B[0m\u001B[90m━━━━━━━━━━━━━━━━━━━━━━━━━━━━━━━━━━━\u001B[0m \u001B[32m89.6/797.1 MB\u001B[0m \u001B[31m53.2 MB/s\u001B[0m eta \u001B[36m0:00:14\u001B[0m\n\u001B[2K   \u001B[91m━━━━\u001B[0m\u001B[91m╸\u001B[0m\u001B[90m━━━━━━━━━━━━━━━━━━━━━━━━━━━━━━━━━━━\u001B[0m \u001B[32m91.3/797.1 MB\u001B[0m \u001B[31m50.5 MB/s\u001B[0m eta \u001B[36m0:00:14\u001B[0m\n\u001B[2K   \u001B[91m━━━━\u001B[0m\u001B[91m╸\u001B[0m\u001B[90m━━━━━━━━━━━━━━━━━━━━━━━━━━━━━━━━━━━\u001B[0m \u001B[32m92.8/797.1 MB\u001B[0m \u001B[31m52.6 MB/s\u001B[0m eta \u001B[36m0:00:14\u001B[0m\n\u001B[2K   \u001B[91m━━━━\u001B[0m\u001B[91m╸\u001B[0m\u001B[90m━━━━━━━━━━━━━━━━━━━━━━━━━━━━━━━━━━━\u001B[0m \u001B[32m94.5/797.1 MB\u001B[0m \u001B[31m46.7 MB/s\u001B[0m eta \u001B[36m0:00:16\u001B[0m\n\u001B[2K   \u001B[91m━━━━\u001B[0m\u001B[91m╸\u001B[0m\u001B[90m━━━━━━━━━━━━━━━━━━━━━━━━━━━━━━━━━━━\u001B[0m \u001B[32m95.8/797.1 MB\u001B[0m \u001B[31m45.4 MB/s\u001B[0m eta \u001B[36m0:00:16\u001B[0m\n\u001B[2K   \u001B[91m━━━━\u001B[0m\u001B[91m╸\u001B[0m\u001B[90m━━━━━━━━━━━━━━━━━━━━━━━━━━━━━━━━━━━\u001B[0m \u001B[32m97.0/797.1 MB\u001B[0m \u001B[31m43.9 MB/s\u001B[0m eta \u001B[36m0:00:16\u001B[0m\n\u001B[2K   \u001B[91m━━━━\u001B[0m\u001B[91m╸\u001B[0m\u001B[90m━━━━━━━━━━━━━━━━━━━━━━━━━━━━━━━━━━━\u001B[0m \u001B[32m98.0/797.1 MB\u001B[0m \u001B[31m41.2 MB/s\u001B[0m eta \u001B[36m0:00:17\u001B[0m\n\u001B[2K   \u001B[91m━━━━\u001B[0m\u001B[91m╸\u001B[0m\u001B[90m━━━━━━━━━━━━━━━━━━━━━━━━━━━━━━━━━━━\u001B[0m \u001B[32m99.3/797.1 MB\u001B[0m \u001B[31m40.5 MB/s\u001B[0m eta \u001B[36m0:00:18\u001B[0m\n\u001B[2K   \u001B[91m━━━━━\u001B[0m\u001B[90m╺\u001B[0m\u001B[90m━━━━━━━━━━━━━━━━━━━━━━━━━━━━━━━━━━\u001B[0m \u001B[32m100.4/797.1 MB\u001B[0m \u001B[31m38.6 MB/s\u001B[0m eta \u001B[36m0:00:19\u001B[0m\n\u001B[2K   \u001B[91m━━━━━\u001B[0m\u001B[90m╺\u001B[0m\u001B[90m━━━━━━━━━━━━━━━━━━━━━━━━━━━━━━━━━━\u001B[0m \u001B[32m101.7/797.1 MB\u001B[0m \u001B[31m37.3 MB/s\u001B[0m eta \u001B[36m0:00:19\u001B[0m\n\u001B[2K   \u001B[91m━━━━━\u001B[0m\u001B[90m╺\u001B[0m\u001B[90m━━━━━━━━━━━━━━━━━━━━━━━━━━━━━━━━━━\u001B[0m \u001B[32m102.7/797.1 MB\u001B[0m \u001B[31m36.2 MB/s\u001B[0m eta \u001B[36m0:00:20\u001B[0m\n\u001B[2K   \u001B[91m━━━━━\u001B[0m\u001B[90m╺\u001B[0m\u001B[90m━━━━━━━━━━━━━━━━━━━━━━━━━━━━━━━━━━\u001B[0m \u001B[32m104.0/797.1 MB\u001B[0m \u001B[31m34.7 MB/s\u001B[0m eta \u001B[36m0:00:20\u001B[0m\n\u001B[2K   \u001B[91m━━━━━\u001B[0m\u001B[90m╺\u001B[0m\u001B[90m━━━━━━━━━━━━━━━━━━━━━━━━━━━━━━━━━━\u001B[0m \u001B[32m105.1/797.1 MB\u001B[0m \u001B[31m36.7 MB/s\u001B[0m eta \u001B[36m0:00:19\u001B[0m\n\u001B[2K   \u001B[91m━━━━━\u001B[0m\u001B[90m╺\u001B[0m\u001B[90m━━━━━━━━━━━━━━━━━━━━━━━━━━━━━━━━━━\u001B[0m \u001B[32m106.4/797.1 MB\u001B[0m \u001B[31m33.5 MB/s\u001B[0m eta \u001B[36m0:00:21\u001B[0m\n\u001B[2K   \u001B[91m━━━━━\u001B[0m\u001B[90m╺\u001B[0m\u001B[90m━━━━━━━━━━━━━━━━━━━━━━━━━━━━━━━━━━\u001B[0m \u001B[32m107.5/797.1 MB\u001B[0m \u001B[31m34.0 MB/s\u001B[0m eta \u001B[36m0:00:21\u001B[0m\n\u001B[2K   \u001B[91m━━━━━\u001B[0m\u001B[90m╺\u001B[0m\u001B[90m━━━━━━━━━━━━━━━━━━━━━━━━━━━━━━━━━━\u001B[0m \u001B[32m108.8/797.1 MB\u001B[0m \u001B[31m34.1 MB/s\u001B[0m eta \u001B[36m0:00:21\u001B[0m\n\u001B[2K   \u001B[91m━━━━━\u001B[0m\u001B[91m╸\u001B[0m\u001B[90m━━━━━━━━━━━━━━━━━━━━━━━━━━━━━━━━━━\u001B[0m \u001B[32m110.0/797.1 MB\u001B[0m \u001B[31m34.3 MB/s\u001B[0m eta \u001B[36m0:00:21\u001B[0m\n\u001B[2K   \u001B[91m━━━━━\u001B[0m\u001B[91m╸\u001B[0m\u001B[90m━━━━━━━━━━━━━━━━━━━━━━━━━━━━━━━━━━\u001B[0m \u001B[32m111.2/797.1 MB\u001B[0m \u001B[31m34.3 MB/s\u001B[0m eta \u001B[36m0:00:21\u001B[0m\n\u001B[2K   \u001B[91m━━━━━\u001B[0m\u001B[91m╸\u001B[0m\u001B[90m━━━━━━━━━━━━━━━━━━━━━━━━━━━━━━━━━━\u001B[0m \u001B[32m112.4/797.1 MB\u001B[0m \u001B[31m34.5 MB/s\u001B[0m eta \u001B[36m0:00:20\u001B[0m\n\u001B[2K   \u001B[91m━━━━━\u001B[0m\u001B[91m╸\u001B[0m\u001B[90m━━━━━━━━━━━━━━━━━━━━━━━━━━━━━━━━━━\u001B[0m \u001B[32m113.6/797.1 MB\u001B[0m \u001B[31m34.5 MB/s\u001B[0m eta \u001B[36m0:00:20\u001B[0m\n\u001B[2K   \u001B[91m━━━━━\u001B[0m\u001B[91m╸\u001B[0m\u001B[90m━━━━━━━━━━━━━━━━━━━━━━━━━━━━━━━━━━\u001B[0m \u001B[32m114.8/797.1 MB\u001B[0m \u001B[31m34.8 MB/s\u001B[0m eta \u001B[36m0:00:20\u001B[0m\n\u001B[2K   \u001B[91m━━━━━\u001B[0m\u001B[91m╸\u001B[0m\u001B[90m━━━━━━━━━━━━━━━━━━━━━━━━━━━━━━━━━━\u001B[0m \u001B[32m116.1/797.1 MB\u001B[0m \u001B[31m35.0 MB/s\u001B[0m eta \u001B[36m0:00:20\u001B[0m\n\u001B[2K   \u001B[91m━━━━━\u001B[0m\u001B[91m╸\u001B[0m\u001B[90m━━━━━━━━━━━━━━━━━━━━━━━━━━━━━━━━━━\u001B[0m \u001B[32m117.3/797.1 MB\u001B[0m \u001B[31m35.1 MB/s\u001B[0m eta \u001B[36m0:00:20\u001B[0m\n\u001B[2K   \u001B[91m━━━━━\u001B[0m\u001B[91m╸\u001B[0m\u001B[90m━━━━━━━━━━━━━━━━━━━━━━━━━━━━━━━━━━\u001B[0m \u001B[32m118.6/797.1 MB\u001B[0m \u001B[31m35.4 MB/s\u001B[0m eta \u001B[36m0:00:20\u001B[0m\n\u001B[2K   \u001B[91m━━━━━━\u001B[0m\u001B[90m╺\u001B[0m\u001B[90m━━━━━━━━━━━━━━━━━━━━━━━━━━━━━━━━━\u001B[0m \u001B[32m119.8/797.1 MB\u001B[0m \u001B[31m35.3 MB/s\u001B[0m eta \u001B[36m0:00:20\u001B[0m\n\u001B[2K   \u001B[91m━━━━━━\u001B[0m\u001B[90m╺\u001B[0m\u001B[90m━━━━━━━━━━━━━━━━━━━━━━━━━━━━━━━━━\u001B[0m \u001B[32m121.0/797.1 MB\u001B[0m \u001B[31m35.6 MB/s\u001B[0m eta \u001B[36m0:00:19\u001B[0m\n\u001B[2K   \u001B[91m━━━━━━\u001B[0m\u001B[90m╺\u001B[0m\u001B[90m━━━━━━━━━━━━━━━━━━━━━━━━━━━━━━━━━\u001B[0m \u001B[32m122.3/797.1 MB\u001B[0m \u001B[31m35.6 MB/s\u001B[0m eta \u001B[36m0:00:19\u001B[0m\n\u001B[2K   \u001B[91m━━━━━━\u001B[0m\u001B[90m╺\u001B[0m\u001B[90m━━━━━━━━━━━━━━━━━━━━━━━━━━━━━━━━━\u001B[0m \u001B[32m123.5/797.1 MB\u001B[0m \u001B[31m35.8 MB/s\u001B[0m eta \u001B[36m0:00:19\u001B[0m\n\u001B[2K   \u001B[91m━━━━━━\u001B[0m\u001B[90m╺\u001B[\n\n*** WARNING: max output size exceeded, skipping output. ***\n\nm13.3 MB/s\u001B[0m eta \u001B[36m0:00:01\u001B[0m\n\u001B[2K   \u001B[91m━━━━━━━━━━━━━━━━━━━━━━━━━━━━━━━━━━━━━━━\u001B[0m\u001B[91m╸\u001B[0m \u001B[32m209.4/209.4 MB\u001B[0m \u001B[31m13.3 MB/s\u001B[0m eta \u001B[36m0:00:01\u001B[0m\n\u001B[2K   \u001B[91m━━━━━━━━━━━━━━━━━━━━━━━━━━━━━━━━━━━━━━━\u001B[0m\u001B[91m╸\u001B[0m \u001B[32m209.4/209.4 MB\u001B[0m \u001B[31m13.3 MB/s\u001B[0m eta \u001B[36m0:00:01\u001B[0m\n\u001B[2K   \u001B[91m━━━━━━━━━━━━━━━━━━━━━━━━━━━━━━━━━━━━━━━\u001B[0m\u001B[91m╸\u001B[0m \u001B[32m209.4/209.4 MB\u001B[0m \u001B[31m13.3 MB/s\u001B[0m eta \u001B[36m0:00:01\u001B[0m\n\u001B[2K   \u001B[91m━━━━━━━━━━━━━━━━━━━━━━━━━━━━━━━━━━━━━━━\u001B[0m\u001B[91m╸\u001B[0m \u001B[32m209.4/209.4 MB\u001B[0m \u001B[31m13.3 MB/s\u001B[0m eta \u001B[36m0:00:01\u001B[0m\n\u001B[2K   \u001B[91m━━━━━━━━━━━━━━━━━━━━━━━━━━━━━━━━━━━━━━━\u001B[0m\u001B[91m╸\u001B[0m \u001B[32m209.4/209.4 MB\u001B[0m \u001B[31m13.3 MB/s\u001B[0m eta \u001B[36m0:00:01\u001B[0m\n\u001B[2K   \u001B[91m━━━━━━━━━━━━━━━━━━━━━━━━━━━━━━━━━━━━━━━\u001B[0m\u001B[91m╸\u001B[0m \u001B[32m209.4/209.4 MB\u001B[0m \u001B[31m13.3 MB/s\u001B[0m eta \u001B[36m0:00:01\u001B[0m\n\u001B[2K   \u001B[91m━━━━━━━━━━━━━━━━━━━━━━━━━━━━━━━━━━━━━━━\u001B[0m\u001B[91m╸\u001B[0m \u001B[32m209.4/209.4 MB\u001B[0m \u001B[31m13.3 MB/s\u001B[0m eta \u001B[36m0:00:01\u001B[0m\n\u001B[2K   \u001B[91m━━━━━━━━━━━━━━━━━━━━━━━━━━━━━━━━━━━━━━━\u001B[0m\u001B[91m╸\u001B[0m \u001B[32m209.4/209.4 MB\u001B[0m \u001B[31m13.3 MB/s\u001B[0m eta \u001B[36m0:00:01\u001B[0m\n\u001B[2K   \u001B[91m━━━━━━━━━━━━━━━━━━━━━━━━━━━━━━━━━━━━━━━\u001B[0m\u001B[91m╸\u001B[0m \u001B[32m209.4/209.4 MB\u001B[0m \u001B[31m13.3 MB/s\u001B[0m eta \u001B[36m0:00:01\u001B[0m\n\u001B[2K   \u001B[91m━━━━━━━━━━━━━━━━━━━━━━━━━━━━━━━━━━━━━━━\u001B[0m\u001B[91m╸\u001B[0m \u001B[32m209.4/209.4 MB\u001B[0m \u001B[31m13.3 MB/s\u001B[0m eta \u001B[36m0:00:01\u001B[0m\n\u001B[2K   \u001B[91m━━━━━━━━━━━━━━━━━━━━━━━━━━━━━━━━━━━━━━━\u001B[0m\u001B[91m╸\u001B[0m \u001B[32m209.4/209.4 MB\u001B[0m \u001B[31m13.3 MB/s\u001B[0m eta \u001B[36m0:00:01\u001B[0m\n\u001B[2K   \u001B[91m━━━━━━━━━━━━━━━━━━━━━━━━━━━━━━━━━━━━━━━\u001B[0m\u001B[91m╸\u001B[0m \u001B[32m209.4/209.4 MB\u001B[0m \u001B[31m13.3 MB/s\u001B[0m eta \u001B[36m0:00:01\u001B[0m\n\u001B[2K   \u001B[91m━━━━━━━━━━━━━━━━━━━━━━━━━━━━━━━━━━━━━━━\u001B[0m\u001B[91m╸\u001B[0m \u001B[32m209.4/209.4 MB\u001B[0m \u001B[31m13.3 MB/s\u001B[0m eta \u001B[36m0:00:01\u001B[0m\n\u001B[2K   \u001B[91m━━━━━━━━━━━━━━━━━━━━━━━━━━━━━━━━━━━━━━━\u001B[0m\u001B[91m╸\u001B[0m \u001B[32m209.4/209.4 MB\u001B[0m \u001B[31m13.3 MB/s\u001B[0m eta \u001B[36m0:00:01\u001B[0m\n\u001B[2K   \u001B[91m━━━━━━━━━━━━━━━━━━━━━━━━━━━━━━━━━━━━━━━\u001B[0m\u001B[91m╸\u001B[0m \u001B[32m209.4/209.4 MB\u001B[0m \u001B[31m13.3 MB/s\u001B[0m eta \u001B[36m0:00:01\u001B[0m\n\u001B[2K   \u001B[91m━━━━━━━━━━━━━━━━━━━━━━━━━━━━━━━━━━━━━━━\u001B[0m\u001B[91m╸\u001B[0m \u001B[32m209.4/209.4 MB\u001B[0m \u001B[31m13.3 MB/s\u001B[0m eta \u001B[36m0:00:01\u001B[0m\n\u001B[2K   \u001B[91m━━━━━━━━━━━━━━━━━━━━━━━━━━━━━━━━━━━━━━━\u001B[0m\u001B[91m╸\u001B[0m \u001B[32m209.4/209.4 MB\u001B[0m \u001B[31m13.3 MB/s\u001B[0m eta \u001B[36m0:00:01\u001B[0m\n\u001B[2K   \u001B[91m━━━━━━━━━━━━━━━━━━━━━━━━━━━━━━━━━━━━━━━\u001B[0m\u001B[91m╸\u001B[0m \u001B[32m209.4/209.4 MB\u001B[0m \u001B[31m13.3 MB/s\u001B[0m eta \u001B[36m0:00:01\u001B[0m\n\u001B[2K   \u001B[91m━━━━━━━━━━━━━━━━━━━━━━━━━━━━━━━━━━━━━━━\u001B[0m\u001B[91m╸\u001B[0m \u001B[32m209.4/209.4 MB\u001B[0m \u001B[31m13.3 MB/s\u001B[0m eta \u001B[36m0:00:01\u001B[0m\n\u001B[2K   \u001B[90m━━━━━━━━━━━━━━━━━━━━━━━━━━━━━━━━━━━━━━━━\u001B[0m \u001B[32m209.4/209.4 MB\u001B[0m \u001B[31m3.9 MB/s\u001B[0m eta \u001B[36m0:00:00\u001B[0m\n\u001B[?25hDownloading jinja2-3.1.4-py3-none-any.whl (133 kB)\n\u001B[?25l   \u001B[90m━━━━━━━━━━━━━━━━━━━━━━━━━━━━━━━━━━━━━━━━\u001B[0m \u001B[32m0.0/133.3 kB\u001B[0m \u001B[31m?\u001B[0m eta \u001B[36m-:--:--\u001B[0m\n\u001B[2K   \u001B[90m━━━━━━━━━━━━━━━━━━━━━━━━━━━━━━━━━━━━━━━━\u001B[0m \u001B[32m133.3/133.3 kB\u001B[0m \u001B[31m9.9 MB/s\u001B[0m eta \u001B[36m0:00:00\u001B[0m\n\u001B[?25hDownloading networkx-3.3-py3-none-any.whl (1.7 MB)\n\u001B[?25l   \u001B[90m━━━━━━━━━━━━━━━━━━━━━━━━━━━━━━━━━━━━━━━━\u001B[0m \u001B[32m0.0/1.7 MB\u001B[0m \u001B[31m?\u001B[0m eta \u001B[36m-:--:--\u001B[0m\n\u001B[2K   \u001B[91m━━━━━━━━\u001B[0m\u001B[91m╸\u001B[0m\u001B[90m━━━━━━━━━━━━━━━━━━━━━━━━━━━━━━━\u001B[0m \u001B[32m0.4/1.7 MB\u001B[0m \u001B[31m11.0 MB/s\u001B[0m eta \u001B[36m0:00:01\u001B[0m\n\u001B[2K   \u001B[91m━━━━━━━━━━━━━━━━\u001B[0m\u001B[91m╸\u001B[0m\u001B[90m━━━━━━━━━━━━━━━━━━━━━━━\u001B[0m \u001B[32m0.7/1.7 MB\u001B[0m \u001B[31m11.0 MB/s\u001B[0m eta \u001B[36m0:00:01\u001B[0m\n\u001B[2K   \u001B[91m━━━━━━━━━━━━━━━━━━━━━━━━━━\u001B[0m\u001B[90m╺\u001B[0m\u001B[90m━━━━━━━━━━━━━\u001B[0m \u001B[32m1.1/1.7 MB\u001B[0m \u001B[31m10.8 MB/s\u001B[0m eta \u001B[36m0:00:01\u001B[0m\n\u001B[2K   \u001B[91m━━━━━━━━━━━━━━━━━━━━━━━━━━━━━━━━━━\u001B[0m\u001B[90m╺\u001B[0m\u001B[90m━━━━━\u001B[0m \u001B[32m1.5/1.7 MB\u001B[0m \u001B[31m10.8 MB/s\u001B[0m eta \u001B[36m0:00:01\u001B[0m\n\u001B[2K   \u001B[90m━━━━━━━━━━━━━━━━━━━━━━━━━━━━━━━━━━━━━━━━\u001B[0m \u001B[32m1.7/1.7 MB\u001B[0m \u001B[31m10.2 MB/s\u001B[0m eta \u001B[36m0:00:00\u001B[0m\n\u001B[?25hDownloading sympy-1.13.3-py3-none-any.whl (6.2 MB)\n\u001B[?25l   \u001B[90m━━━━━━━━━━━━━━━━━━━━━━━━━━━━━━━━━━━━━━━━\u001B[0m \u001B[32m0.0/6.2 MB\u001B[0m \u001B[31m?\u001B[0m eta \u001B[36m-:--:--\u001B[0m\n\u001B[2K   \u001B[91m━━\u001B[0m\u001B[91m╸\u001B[0m\u001B[90m━━━━━━━━━━━━━━━━━━━━━━━━━━━━━━━━━━━━━\u001B[0m \u001B[32m0.4/6.2 MB\u001B[0m \u001B[31m11.6 MB/s\u001B[0m eta \u001B[36m0:00:01\u001B[0m\n\u001B[2K   \u001B[91m━━━━\u001B[0m\u001B[91m╸\u001B[0m\u001B[90m━━━━━━━━━━━━━━━━━━━━━━━━━━━━━━━━━━━\u001B[0m \u001B[32m0.7/6.2 MB\u001B[0m \u001B[31m11.2 MB/s\u001B[0m eta \u001B[36m0:00:01\u001B[0m\n\u001B[2K   \u001B[91m━━━━━━━\u001B[0m\u001B[90m╺\u001B[0m\u001B[90m━━━━━━━━━━━━━━━━━━━━━━━━━━━━━━━━\u001B[0m \u001B[32m1.2/6.2 MB\u001B[0m \u001B[31m11.2 MB/s\u001B[0m eta \u001B[36m0:00:01\u001B[0m\n\u001B[2K   \u001B[91m━━━━━━━━━\u001B[0m\u001B[91m╸\u001B[0m\u001B[90m━━━━━━━━━━━━━━━━━━━━━━━━━━━━━━\u001B[0m \u001B[32m1.5/6.2 MB\u001B[0m \u001B[31m11.2 MB/s\u001B[0m eta \u001B[36m0:00:01\u001B[0m\n\u001B[2K   \u001B[91m━━━━━━━━━━━━\u001B[0m\u001B[90m╺\u001B[0m\u001B[90m━━━━━━━━━━━━━━━━━━━━━━━━━━━\u001B[0m \u001B[32m1.9/6.2 MB\u001B[0m \u001B[31m11.1 MB/s\u001B[0m eta \u001B[36m0:00:01\u001B[0m\n\u001B[2K   \u001B[91m━━━━━━━━━━━━━━\u001B[0m\u001B[91m╸\u001B[0m\u001B[90m━━━━━━━━━━━━━━━━━━━━━━━━━\u001B[0m \u001B[32m2.3/6.2 MB\u001B[0m \u001B[31m11.2 MB/s\u001B[0m eta \u001B[36m0:00:01\u001B[0m\n\u001B[2K   \u001B[91m━━━━━━━━━━━━━━━━━\u001B[0m\u001B[90m╺\u001B[0m\u001B[90m━━━━━━━━━━━━━━━━━━━━━━\u001B[0m \u001B[32m2.7/6.2 MB\u001B[0m \u001B[31m11.1 MB/s\u001B[0m eta \u001B[36m0:00:01\u001B[0m\n\u001B[2K   \u001B[91m━━━━━━━━━━━━━━━━━━━\u001B[0m\u001B[91m╸\u001B[0m\u001B[90m━━━━━━━━━━━━━━━━━━━━\u001B[0m \u001B[32m3.0/6.2 MB\u001B[0m \u001B[31m11.0 MB/s\u001B[0m eta \u001B[36m0:00:01\u001B[0m\n\u001B[2K   \u001B[91m━━━━━━━━━━━━━━━━━━━━━━\u001B[0m\u001B[90m╺\u001B[0m\u001B[90m━━━━━━━━━━━━━━━━━\u001B[0m \u001B[32m3.5/6.2 MB\u001B[0m \u001B[31m11.1 MB/s\u001B[0m eta \u001B[36m0:00:01\u001B[0m\n\u001B[2K   \u001B[91m━━━━━━━━━━━━━━━━━━━━━━━━\u001B[0m\u001B[91m╸\u001B[0m\u001B[90m━━━━━━━━━━━━━━━\u001B[0m \u001B[32m3.9/6.2 MB\u001B[0m \u001B[31m11.1 MB/s\u001B[0m eta \u001B[36m0:00:01\u001B[0m\n\u001B[2K   \u001B[91m━━━━━━━━━━━━━━━━━━━━━━━━━━━\u001B[0m\u001B[91m╸\u001B[0m\u001B[90m━━━━━━━━━━━━\u001B[0m \u001B[32m4.3/6.2 MB\u001B[0m \u001B[31m11.2 MB/s\u001B[0m eta \u001B[36m0:00:01\u001B[0m\n\u001B[2K   \u001B[91m━━━━━━━━━━━━━━━━━━━━━━━━━━━━━━\u001B[0m\u001B[90m╺\u001B[0m\u001B[90m━━━━━━━━━\u001B[0m \u001B[32m4.7/6.2 MB\u001B[0m \u001B[31m11.2 MB/s\u001B[0m eta \u001B[36m0:00:01\u001B[0m\n\u001B[2K   \u001B[91m━━━━━━━━━━━━━━━━━━━━━━━━━━━━━━━━\u001B[0m\u001B[91m╸\u001B[0m\u001B[90m━━━━━━━\u001B[0m \u001B[32m5.1/6.2 MB\u001B[0m \u001B[31m11.3 MB/s\u001B[0m eta \u001B[36m0:00:01\u001B[0m\n\u001B[2K   \u001B[91m━━━━━━━━━━━━━━━━━━━━━━━━━━━━━━━━━━━\u001B[0m\u001B[90m╺\u001B[0m\u001B[90m━━━━\u001B[0m \u001B[32m5.5/6.2 MB\u001B[0m \u001B[31m11.3 MB/s\u001B[0m eta \u001B[36m0:00:01\u001B[0m\n\u001B[2K   \u001B[91m━━━━━━━━━━━━━━━━━━━━━━━━━━━━━━━━━━━━━━\u001B[0m\u001B[90m╺\u001B[0m\u001B[90m━\u001B[0m \u001B[32m5.9/6.2 MB\u001B[0m \u001B[31m11.3 MB/s\u001B[0m eta \u001B[36m0:00:01\u001B[0m\n\u001B[2K   \u001B[91m━━━━━━━━━━━━━━━━━━━━━━━━━━━━━━━━━━━━━━━\u001B[0m\u001B[91m╸\u001B[0m \u001B[32m6.2/6.2 MB\u001B[0m \u001B[31m11.3 MB/s\u001B[0m eta \u001B[36m0:00:01\u001B[0m\n\u001B[2K   \u001B[90m━━━━━━━━━━━━━━━━━━━━━━━━━━━━━━━━━━━━━━━━\u001B[0m \u001B[32m6.2/6.2 MB\u001B[0m \u001B[31m10.9 MB/s\u001B[0m eta \u001B[36m0:00:00\u001B[0m\n\u001B[?25hDownloading MarkupSafe-2.1.5-cp311-cp311-manylinux_2_17_x86_64.manylinux2014_x86_64.whl (28 kB)\nDownloading mpmath-1.3.0-py3-none-any.whl (536 kB)\n\u001B[?25l   \u001B[90m━━━━━━━━━━━━━━━━━━━━━━━━━━━━━━━━━━━━━━━━\u001B[0m \u001B[32m0.0/536.2 kB\u001B[0m \u001B[31m?\u001B[0m eta \u001B[36m-:--:--\u001B[0m\n\u001B[2K   \u001B[91m━━━━━━━━━━━━━━━━━━━━━━━━━━━━━━\u001B[0m\u001B[91m╸\u001B[0m\u001B[90m━━━━━━━━━\u001B[0m \u001B[32m409.6/536.2 kB\u001B[0m \u001B[31m12.7 MB/s\u001B[0m eta \u001B[36m0:00:01\u001B[0m\n\u001B[2K   \u001B[90m━━━━━━━━━━━━━━━━━━━━━━━━━━━━━━━━━━━━━━━━\u001B[0m \u001B[32m536.2/536.2 kB\u001B[0m \u001B[31m11.2 MB/s\u001B[0m eta \u001B[36m0:00:00\u001B[0m\n\u001B[?25hDownloading nvidia_nvjitlink_cu12-12.6.68-py3-none-manylinux2014_x86_64.whl (19.7 MB)\n\u001B[?25l   \u001B[90m━━━━━━━━━━━━━━━━━━━━━━━━━━━━━━━━━━━━━━━━\u001B[0m \u001B[32m0.0/19.7 MB\u001B[0m \u001B[31m?\u001B[0m eta \u001B[36m-:--:--\u001B[0m\n\u001B[2K   \u001B[91m╸\u001B[0m\u001B[90m━━━━━━━━━━━━━━━━━━━━━━━━━━━━━━━━━━━━━━━\u001B[0m \u001B[32m0.4/19.7 MB\u001B[0m \u001B[31m12.3 MB/s\u001B[0m eta \u001B[36m0:00:02\u001B[0m\n\u001B[2K   \u001B[91m━\u001B[0m\u001B[91m╸\u001B[0m\u001B[90m━━━━━━━━━━━━━━━━━━━━━━━━━━━━━━━━━━━━━━\u001B[0m \u001B[32m0.8/19.7 MB\u001B[0m \u001B[31m12.6 MB/s\u001B[0m eta \u001B[36m0:00:02\u001B[0m\n\u001B[2K   \u001B[91m━━\u001B[0m\u001B[91m╸\u001B[0m\u001B[90m━━━━━━━━━━━━━━━━━━━━━━━━━━━━━━━━━━━━━\u001B[0m \u001B[32m1.3/19.7 MB\u001B[0m \u001B[31m12.4 MB/s\u001B[0m eta \u001B[36m0:00:02\u001B[0m\n\u001B[2K   \u001B[91m━━━\u001B[0m\u001B[90m╺\u001B[0m\u001B[90m━━━━━━━━━━━━━━━━━━━━━━━━━━━━━━━━━━━━\u001B[0m \u001B[32m1.7/19.7 MB\u001B[0m \u001B[31m12.4 MB/s\u001B[0m eta \u001B[36m0:00:02\u001B[0m\n\u001B[2K   \u001B[91m━━━━\u001B[0m\u001B[90m╺\u001B[0m\u001B[90m━━━━━━━━━━━━━━━━━━━━━━━━━━━━━━━━━━━\u001B[0m \u001B[32m2.1/19.7 MB\u001B[0m \u001B[31m12.3 MB/s\u001B[0m eta \u001B[36m0:00:02\u001B[0m\n\u001B[2K   \u001B[91m━━━━━\u001B[0m\u001B[90m╺\u001B[0m\u001B[90m━━━━━━━━━━━━━━━━━━━━━━━━━━━━━━━━━━\u001B[0m \u001B[32m2.5/19.7 MB\u001B[0m \u001B[31m12.4 MB/s\u001B[0m eta \u001B[36m0:00:02\u001B[0m\n\u001B[2K   \u001B[91m━━━━━━\u001B[0m\u001B[90m╺\u001B[0m\u001B[90m━━━━━━━━━━━━━━━━━━━━━━━━━━━━━━━━━\u001B[0m \u001B[32m3.0/19.7 MB\u001B[0m \u001B[31m12.4 MB/s\u001B[0m eta \u001B[36m0:00:02\u001B[0m\n\u001B[2K   \u001B[91m━━━━━━\u001B[0m\u001B[91m╸\u001B[0m\u001B[90m━━━━━━━━━━━━━━━━━━━━━━━━━━━━━━━━━\u001B[0m \u001B[32m3.4/19.7 MB\u001B[0m \u001B[31m12.2 MB/s\u001B[0m eta \u001B[36m0:00:02\u001B[0m\n\u001B[2K   \u001B[91m━━━━━━━\u001B[0m\u001B[91m╸\u001B[0m\u001B[90m━━━━━━━━━━━━━━━━━━━━━━━━━━━━━━━━\u001B[0m \u001B[32m3.8/19.7 MB\u001B[0m \u001B[31m12.3 MB/s\u001B[0m eta \u001B[36m0:00:02\u001B[0m\n\u001B[2K   \u001B[91m━━━━━━━━\u001B[0m\u001B[91m╸\u001B[0m\u001B[90m━━━━━━━━━━━━━━━━━━━━━━━━━━━━━━━\u001B[0m \u001B[32m4.2/19.7 MB\u001B[0m \u001B[31m12.3 MB/s\u001B[0m eta \u001B[36m0:00:02\u001B[0m\n\u001B[2K   \u001B[91m━━━━━━━━━\u001B[0m\u001B[91m╸\u001B[0m\u001B[90m━━━━━━━━━━━━━━━━━━━━━━━━━━━━━━\u001B[0m \u001B[32m4.7/19.7 MB\u001B[0m \u001B[31m12.3 MB/s\u001B[0m eta \u001B[36m0:00:02\u001B[0m\n\u001B[2K   \u001B[91m━━━━━━━━━━\u001B[0m\u001B[90m╺\u001B[0m\u001B[90m━━━━━━━━━━━━━━━━━━━━━━━━━━━━━\u001B[0m \u001B[32m5.1/19.7 MB\u001B[0m \u001B[31m12.3 MB/s\u001B[0m eta \u001B[36m0:00:02\u001B[0m\n\u001B[2K   \u001B[91m━━━━━━━━━━━\u001B[0m\u001B[90m╺\u001B[0m\u001B[90m━━━━━━━━━━━━━━━━━━━━━━━━━━━━\u001B[0m \u001B[32m5.6/19.7 MB\u001B[0m \u001B[31m12.4 MB/s\u001B[0m eta \u001B[36m0:00:02\u001B[0m\n\u001B[2K   \u001B[91m━━━━━━━━━━━━\u001B[0m\u001B[90m╺\u001B[0m\u001B[90m━━━━━━━━━━━━━━━━━━━━━━━━━━━\u001B[0m \u001B[32m6.0/19.7 MB\u001B[0m \u001B[31m12.4 MB/s\u001B[0m eta \u001B[36m0:00:02\u001B[0m\n\u001B[2K   \u001B[91m━━━━━━━━━━━━━\u001B[0m\u001B[90m╺\u001B[0m\u001B[90m━━━━━━━━━━━━━━━━━━━━━━━━━━\u001B[0m \u001B[32m6.4/19.7 MB\u001B[0m \u001B[31m12.4 MB/s\u001B[0m eta \u001B[36m0:00:02\u001B[0m\n\u001B[2K   \u001B[91m━━━━━━━━━━━━━\u001B[0m\u001B[91m╸\u001B[0m\u001B[90m━━━━━━━━━━━━━━━━━━━━━━━━━━\u001B[0m \u001B[32m6.9/19.7 MB\u001B[0m \u001B[31m12.4 MB/s\u001B[0m eta \u001B[36m0:00:02\u001B[0m\n\u001B[2K   \u001B[91m━━━━━━━━━━━━━━\u001B[0m\u001B[91m╸\u001B[0m\u001B[90m━━━━━━━━━━━━━━━━━━━━━━━━━\u001B[0m \u001B[32m7.3/19.7 MB\u001B[0m \u001B[31m12.4 MB/s\u001B[0m eta \u001B[36m0:00:02\u001B[0m\n\u001B[2K   \u001B[91m━━━━━━━━━━━━━━━\u001B[0m\u001B[91m╸\u001B[0m\u001B[90m━━━━━━━━━━━━━━━━━━━━━━━━\u001B[0m \u001B[32m7.7/19.7 MB\u001B[0m \u001B[31m12.5 MB/s\u001B[0m eta \u001B[36m0:00:01\u001B[0m\n\u001B[2K   \u001B[91m━━━━━━━━━━━━━━━━\u001B[0m\u001B[91m╸\u001B[0m\u001B[90m━━━━━━━━━━━━━━━━━━━━━━━\u001B[0m \u001B[32m8.2/19.7 MB\u001B[0m \u001B[31m12.5 MB/s\u001B[0m eta \u001B[36m0:00:01\u001B[0m\n\u001B[2K   \u001B[91m━━━━━━━━━━━━━━━━━\u001B[0m\u001B[90m╺\u001B[0m\u001B[90m━━━━━━━━━━━━━━━━━━━━━━\u001B[0m \u001B[32m8.6/19.7 MB\u001B[0m \u001B[31m12.5 MB/s\u001B[0m eta \u001B[36m0:00:01\u001B[0m\n\u001B[2K   \u001B[91m━━━━━━━━━━━━━━━━━━\u001B[0m\u001B[90m╺\u001B[0m\u001B[90m━━━━━━━━━━━━━━━━━━━━━\u001B[0m \u001B[32m9.1/19.7 MB\u001B[0m \u001B[31m12.5 MB/s\u001B[0m eta \u001B[36m0:00:01\u001B[0m\n\u001B[2K   \u001B[91m━━━━━━━━━━━━━━━━━━━\u001B[0m\u001B[90m╺\u001B[0m\u001B[90m━━━━━━━━━━━━━━━━━━━━\u001B[0m \u001B[32m9.5/19.7 MB\u001B[0m \u001B[31m12.6 MB/s\u001B[0m eta \u001B[36m0:00:01\u001B[0m\n\u001B[2K   \u001B[91m━━━━━━━━━━━━━━━━━━━━\u001B[0m\u001B[90m╺\u001B[0m\u001B[90m━━━━━━━━━━━━━━━━━━━\u001B[0m \u001B[32m10.0/19.7 MB\u001B[0m \u001B[31m12.6 MB/s\u001B[0m eta \u001B[36m0:00:01\u001B[0m\n\u001B[2K   \u001B[91m━━━━━━━━━━━━━━━━━━━━━\u001B[0m\u001B[90m╺\u001B[0m\u001B[90m━━━━━━━━━━━━━━━━━━\u001B[0m \u001B[32m10.5/19.7 MB\u001B[0m \u001B[31m12.6 MB/s\u001B[0m eta \u001B[36m0:00:01\u001B[0m\n\u001B[2K   \u001B[91m━━━━━━━━━━━━━━━━━━━━━━\u001B[0m\u001B[90m╺\u001B[0m\u001B[90m━━━━━━━━━━━━━━━━━\u001B[0m \u001B[32m10.9/19.7 MB\u001B[0m \u001B[31m12.6 MB/s\u001B[0m eta \u001B[36m0:00:01\u001B[0m\n\u001B[2K   \u001B[91m━━━━━━━━━━━━━━━━━━━━━━━\u001B[0m\u001B[90m╺\u001B[0m\u001B[90m━━━━━━━━━━━━━━━━\u001B[0m \u001B[32m11.4/19.7 MB\u001B[0m \u001B[31m12.7 MB/s\u001B[0m eta \u001B[36m0:00:01\u001B[0m\n\u001B[2K   \u001B[91m━━━━━━━━━━━━━━━━━━━━━━━\u001B[0m\u001B[91m╸\u001B[0m\u001B[90m━━━━━━━━━━━━━━━━\u001B[0m \u001B[32m11.8/19.7 MB\u001B[0m \u001B[31m12.7 MB/s\u001B[0m eta \u001B[36m0:00:01\u001B[0m\n\u001B[2K   \u001B[91m━━━━━━━━━━━━━━━━━━━━━━━━\u001B[0m\u001B[91m╸\u001B[0m\u001B[90m━━━━━━━━━━━━━━━\u001B[0m \u001B[32m12.3/19.7 MB\u001B[0m \u001B[31m12.8 MB/s\u001B[0m eta \u001B[36m0:00:01\u001B[0m\n\u001B[2K   \u001B[91m━━━━━━━━━━━━━━━━━━━━━━━━━\u001B[0m\u001B[91m╸\u001B[0m\u001B[90m━━━━━━━━━━━━━━\u001B[0m \u001B[32m12.7/19.7 MB\u001B[0m \u001B[31m12.8 MB/s\u001B[0m eta \u001B[36m0:00:01\u001B[0m\n\u001B[2K   \u001B[91m━━━━━━━━━━━━━━━━━━━━━━━━━━\u001B[0m\u001B[91m╸\u001B[0m\u001B[90m━━━━━━━━━━━━━\u001B[0m \u001B[32m13.2/19.7 MB\u001B[0m \u001B[31m12.8 MB/s\u001B[0m eta \u001B[36m0:00:01\u001B[0m\n\u001B[2K   \u001B[91m━━━━━━━━━━━━━━━━━━━━━━━━━━━\u001B[0m\u001B[90m╺\u001B[0m\u001B[90m━━━━━━━━━━━━\u001B[0m \u001B[32m13.6/19.7 MB\u001B[0m \u001B[31m12.8 MB/s\u001B[0m eta \u001B[36m0:00:01\u001B[0m\n\u001B[2K   \u001B[91m━━━━━━━━━━━━━━━━━━━━━━━━━━━━\u001B[0m\u001B[91m╸\u001B[0m\u001B[90m━━━━━━━━━━━\u001B[0m \u001B[32m14.1/19.7 MB\u001B[0m \u001B[31m12.9 MB/s\u001B[0m eta \u001B[36m0:00:01\u001B[0m\n\u001B[2K   \u001B[91m━━━━━━━━━━━━━━━━━━━━━━━━━━━━━\u001B[0m\u001B[90m╺\u001B[0m\u001B[90m━━━━━━━━━━\u001B[0m \u001B[32m14.5/19.7 MB\u001B[0m \u001B[31m12.9 MB/s\u001B[0m eta \u001B[36m0:00:01\u001B[0m\n\u001B[2K   \u001B[91m━━━━━━━━━━━━━━━━━━━━━━━━━━━━━━\u001B[0m\u001B[90m╺\u001B[0m\u001B[90m━━━━━━━━━\u001B[0m \u001B[32m15.0/19.7 MB\u001B[0m \u001B[31m13.0 MB/s\u001B[0m eta \u001B[36m0:00:01\u001B[0m\n\u001B[2K   \u001B[91m━━━━━━━━━━━━━━━━━━━━━━━━━━━━━━━\u001B[0m\u001B[90m╺\u001B[0m\u001B[90m━━━━━━━━\u001B[0m \u001B[32m15.4/19.7 MB\u001B[0m \u001B[31m13.0 MB/s\u001B[0m eta \u001B[36m0:00:01\u001B[0m\n\u001B[2K   \u001B[91m━━━━━━━━━━━━━━━━━━━━━━━━━━━━━━━━\u001B[0m\u001B[90m╺\u001B[0m\u001B[90m━━━━━━━\u001B[0m \u001B[32m15.9/19.7 MB\u001B[0m \u001B[31m13.0 MB/s\u001B[0m eta \u001B[36m0:00:01\u001B[0m\n\u001B[2K   \u001B[91m━━━━━━━━━━━━━━━━━━━━━━━━━━━━━━━━━\u001B[0m\u001B[90m╺\u001B[0m\u001B[90m━━━━━━\u001B[0m \u001B[32m16.3/19.7 MB\u001B[0m \u001B[31m13.0 MB/s\u001B[0m eta \u001B[36m0:00:01\u001B[0m\n\u001B[2K   \u001B[91m━━━━━━━━━━━━━━━━━━━━━━━━━━━━━━━━━━\u001B[0m\u001B[90m╺\u001B[0m\u001B[90m━━━━━\u001B[0m \u001B[32m16.8/19.7 MB\u001B[0m \u001B[31m13.1 MB/s\u001B[0m eta \u001B[36m0:00:01\u001B[0m\n\u001B[2K   \u001B[91m━━━━━━━━━━━━━━━━━━━━━━━━━━━━━━━━━━━\u001B[0m\u001B[90m╺\u001B[0m\u001B[90m━━━━\u001B[0m \u001B[32m17.3/19.7 MB\u001B[0m \u001B[31m13.1 MB/s\u001B[0m eta \u001B[36m0:00:01\u001B[0m\n\u001B[2K   \u001B[91m━━━━━━━━━━━━━━━━━━━━━━━━━━━━━━━━━━━━\u001B[0m\u001B[90m╺\u001B[0m\u001B[90m━━━\u001B[0m \u001B[32m17.8/19.7 MB\u001B[0m \u001B[31m13.2 MB/s\u001B[0m eta \u001B[36m0:00:01\u001B[0m\n\u001B[2K   \u001B[91m━━━━━━━━━━━━━━━━━━━━━━━━━━━━━━━━━━━━━\u001B[0m\u001B[90m╺\u001B[0m\u001B[90m━━\u001B[0m \u001B[32m18.3/19.7 MB\u001B[0m \u001B[31m13.2 MB/s\u001B[0m eta \u001B[36m0:00:01\u001B[0m\n\u001B[2K   \u001B[91m━━━━━━━━━━━━━━━━━━━━━━━━━━━━━━━━━━━━━━\u001B[0m\u001B[90m╺\u001B[0m\u001B[90m━\u001B[0m \u001B[32m18.8/19.7 MB\u001B[0m \u001B[31m13.3 MB/s\u001B[0m eta \u001B[36m0:00:01\u001B[0m\n\u001B[2K   \u001B[91m━━━━━━━━━━━━━━━━━━━━━━━━━━━━━━━━━━━━━━\u001B[0m\u001B[91m╸\u001B[0m\u001B[90m━\u001B[0m \u001B[32m19.2/19.7 MB\u001B[0m \u001B[31m13.3 MB/s\u001B[0m eta \u001B[36m0:00:01\u001B[0m\n\u001B[2K   \u001B[91m━━━━━━━━━━━━━━━━━━━━━━━━━━━━━━━━━━━━━━━\u001B[0m\u001B[91m╸\u001B[0m \u001B[32m19.6/19.7 MB\u001B[0m \u001B[31m13.2 MB/s\u001B[0m eta \u001B[36m0:00:01\u001B[0m\n\u001B[2K   \u001B[91m━━━━━━━━━━━━━━━━━━━━━━━━━━━━━━━━━━━━━━━\u001B[0m\u001B[91m╸\u001B[0m \u001B[32m19.7/19.7 MB\u001B[0m \u001B[31m13.2 MB/s\u001B[0m eta \u001B[36m0:00:01\u001B[0m\n\u001B[2K   \u001B[91m━━━━━━━━━━━━━━━━━━━━━━━━━━━━━━━━━━━━━━━\u001B[0m\u001B[91m╸\u001B[0m \u001B[32m19.7/19.7 MB\u001B[0m \u001B[31m13.2 MB/s\u001B[0m eta \u001B[36m0:00:01\u001B[0m\n\u001B[2K   \u001B[91m━━━━━━━━━━━━━━━━━━━━━━━━━━━━━━━━━━━━━━━\u001B[0m\u001B[91m╸\u001B[0m \u001B[32m19.7/19.7 MB\u001B[0m \u001B[31m13.2 MB/s\u001B[0m eta \u001B[36m0:00:01\u001B[0m\n\u001B[2K   \u001B[91m━━━━━━━━━━━━━━━━━━━━━━━━━━━━━━━━━━━━━━━\u001B[0m\u001B[91m╸\u001B[0m \u001B[32m19.7/19.7 MB\u001B[0m \u001B[31m13.2 MB/s\u001B[0m eta \u001B[36m0:00:01\u001B[0m\n\u001B[2K   \u001B[91m━━━━━━━━━━━━━━━━━━━━━━━━━━━━━━━━━━━━━━━\u001B[0m\u001B[91m╸\u001B[0m \u001B[32m19.7/19.7 MB\u001B[0m \u001B[31m13.2 MB/s\u001B[0m eta \u001B[36m0:00:01\u001B[0m\n\u001B[2K   \u001B[91m━━━━━━━━━━━━━━━━━━━━━━━━━━━━━━━━━━━━━━━\u001B[0m\u001B[91m╸\u001B[0m \u001B[32m19.7/19.7 MB\u001B[0m \u001B[31m13.2 MB/s\u001B[0m eta \u001B[36m0:00:01\u001B[0m\n\u001B[2K   \u001B[91m━━━━━━━━━━━━━━━━━━━━━━━━━━━━━━━━━━━━━━━\u001B[0m\u001B[91m╸\u001B[0m \u001B[32m19.7/19.7 MB\u001B[0m \u001B[31m13.2 MB/s\u001B[0m eta \u001B[36m0:00:01\u001B[0m\n\u001B[2K   \u001B[91m━━━━━━━━━━━━━━━━━━━━━━━━━━━━━━━━━━━━━━━\u001B[0m\u001B[91m╸\u001B[0m \u001B[32m19.7/19.7 MB\u001B[0m \u001B[31m13.2 MB/s\u001B[0m eta \u001B[36m0:00:01\u001B[0m\n\u001B[2K   \u001B[91m━━━━━━━━━━━━━━━━━━━━━━━━━━━━━━━━━━━━━━━\u001B[0m\u001B[91m╸\u001B[0m \u001B[32m19.7/19.7 MB\u001B[0m \u001B[31m13.2 MB/s\u001B[0m eta \u001B[36m0:00:01\u001B[0m\n\u001B[2K   \u001B[91m━━━━━━━━━━━━━━━━━━━━━━━━━━━━━━━━━━━━━━━\u001B[0m\u001B[91m╸\u001B[0m \u001B[32m19.7/19.7 MB\u001B[0m \u001B[31m13.2 MB/s\u001B[0m eta \u001B[36m0:00:01\u001B[0m\n\u001B[2K   \u001B[91m━━━━━━━━━━━━━━━━━━━━━━━━━━━━━━━━━━━━━━━\u001B[0m\u001B[91m╸\u001B[0m \u001B[32m19.7/19.7 MB\u001B[0m \u001B[31m13.2 MB/s\u001B[0m eta \u001B[36m0:00:01\u001B[0m\n\u001B[2K   \u001B[91m━━━━━━━━━━━━━━━━━━━━━━━━━━━━━━━━━━━━━━━\u001B[0m\u001B[91m╸\u001B[0m \u001B[32m19.7/19.7 MB\u001B[0m \u001B[31m13.2 MB/s\u001B[0m eta \u001B[36m0:00:01\u001B[0m\n\u001B[2K   \u001B[91m━━━━━━━━━━━━━━━━━━━━━━━━━━━━━━━━━━━━━━━\u001B[0m\u001B[91m╸\u001B[0m \u001B[32m19.7/19.7 MB\u001B[0m \u001B[31m13.2 MB/s\u001B[0m eta \u001B[36m0:00:01\u001B[0m\n\u001B[2K   \u001B[91m━━━━━━━━━━━━━━━━━━━━━━━━━━━━━━━━━━━━━━━\u001B[0m\u001B[91m╸\u001B[0m \u001B[32m19.7/19.7 MB\u001B[0m \u001B[31m13.2 MB/s\u001B[0m eta \u001B[36m0:00:01\u001B[0m\n\u001B[2K   \u001B[90m━━━━━━━━━━━━━━━━━━━━━━━━━━━━━━━━━━━━━━━━\u001B[0m \u001B[32m19.7/19.7 MB\u001B[0m \u001B[31m8.0 MB/s\u001B[0m eta \u001B[36m0:00:00\u001B[0m\n\u001B[?25hInstalling collected packages: mpmath, triton, sympy, nvidia-nvtx-cu12, nvidia-nvjitlink-cu12, nvidia-nccl-cu12, nvidia-curand-cu12, nvidia-cufft-cu12, nvidia-cuda-runtime-cu12, nvidia-cuda-nvrtc-cu12, nvidia-cuda-cupti-cu12, nvidia-cublas-cu12, networkx, MarkupSafe, nvidia-cusparse-cu12, nvidia-cudnn-cu12, jinja2, nvidia-cusolver-cu12, torch\nSuccessfully installed MarkupSafe-2.1.5 jinja2-3.1.4 mpmath-1.3.0 networkx-3.3 nvidia-cublas-cu12-12.1.3.1 nvidia-cuda-cupti-cu12-12.1.105 nvidia-cuda-nvrtc-cu12-12.1.105 nvidia-cuda-runtime-cu12-12.1.105 nvidia-cudnn-cu12-9.1.0.70 nvidia-cufft-cu12-11.0.2.54 nvidia-curand-cu12-10.3.2.106 nvidia-cusolver-cu12-11.4.5.107 nvidia-cusparse-cu12-12.1.0.106 nvidia-nccl-cu12-2.20.5 nvidia-nvjitlink-cu12-12.6.68 nvidia-nvtx-cu12-12.1.105 sympy-1.13.3 torch-2.4.1 triton-3.0.0\n\u001B[43mNote: you may need to restart the kernel using %restart_python or dbutils.library.restartPython() to use updated packages.\u001B[0m\nCollecting sentence-transformers\n  Obtaining dependency information for sentence-transformers from https://files.pythonhosted.org/packages/75/0c/0bbbf03748c3c7c69f41f016b14cbee946cbd8880d0fb91a05c6f7b7a176/sentence_transformers-3.1.1-py3-none-any.whl.metadata\n  Downloading sentence_transformers-3.1.1-py3-none-any.whl.metadata (10 kB)\nRequirement already satisfied: transformers<5.0.0,>=4.38.0 in /local_disk0/.ephemeral_nfs/envs/pythonEnv-25bc4018-83b4-4550-99fe-5b9d573e81ae/lib/python3.11/site-packages (from sentence-transformers) (4.45.0)\nRequirement already satisfied: tqdm in /local_disk0/.ephemeral_nfs/envs/pythonEnv-25bc4018-83b4-4550-99fe-5b9d573e81ae/lib/python3.11/site-packages (from sentence-transformers) (4.66.5)\nRequirement already satisfied: torch>=1.11.0 in /local_disk0/.ephemeral_nfs/envs/pythonEnv-25bc4018-83b4-4550-99fe-5b9d573e81ae/lib/python3.11/site-packages (from sentence-transformers) (2.4.1)\nRequirement already satisfied: scikit-learn in /databricks/python3/lib/python3.11/site-packages (from sentence-transformers) (1.3.0)\nRequirement already satisfied: scipy in /databricks/python3/lib/python3.11/site-packages (from sentence-transformers) (1.11.1)\nRequirement already satisfied: huggingface-hub>=0.19.3 in /local_disk0/.ephemeral_nfs/envs/pythonEnv-25bc4018-83b4-4550-99fe-5b9d573e81ae/lib/python3.11/site-packages (from sentence-transformers) (0.25.1)\nRequirement already satisfied: Pillow in /databricks/python3/lib/python3.11/site-packages (from sentence-transformers) (9.4.0)\nRequirement already satisfied: filelock in /databricks/python3/lib/python3.11/site-packages (from huggingface-hub>=0.19.3->sentence-transformers) (3.13.4)\nRequirement already satisfied: fsspec>=2023.5.0 in /local_disk0/.ephemeral_nfs/envs/pythonEnv-25bc4018-83b4-4550-99fe-5b9d573e81ae/lib/python3.11/site-packages (from huggingface-hub>=0.19.3->sentence-transformers) (2024.9.0)\nRequirement already satisfied: packaging>=20.9 in /databricks/python3/lib/python3.11/site-packages (from huggingface-hub>=0.19.3->sentence-transformers) (23.2)\nRequirement already satisfied: pyyaml>=5.1 in /databricks/python3/lib/python3.11/site-packages (from huggingface-hub>=0.19.3->sentence-transformers) (6.0)\nRequirement already satisfied: requests in /databricks/python3/lib/python3.11/site-packages (from huggingface-hub>=0.19.3->sentence-transformers) (2.31.0)\nRequirement already satisfied: typing-extensions>=3.7.4.3 in /databricks/python3/lib/python3.11/site-packages (from huggingface-hub>=0.19.3->sentence-transformers) (4.10.0)\nRequirement already satisfied: sympy in /local_disk0/.ephemeral_nfs/envs/pythonEnv-25bc4018-83b4-4550-99fe-5b9d573e81ae/lib/python3.11/site-packages (from torch>=1.11.0->sentence-transformers) (1.13.3)\nRequirement already satisfied: networkx in /local_disk0/.ephemeral_nfs/envs/pythonEnv-25bc4018-83b4-4550-99fe-5b9d573e81ae/lib/python3.11/site-packages (from torch>=1.11.0->sentence-transformers) (3.3)\nRequirement already satisfied: jinja2 in /local_disk0/.ephemeral_nfs/envs/pythonEnv-25bc4018-83b4-4550-99fe-5b9d573e81ae/lib/python3.11/site-packages (from torch>=1.11.0->sentence-transformers) (3.1.4)\nRequirement already satisfied: nvidia-cuda-nvrtc-cu12==12.1.105 in /local_disk0/.ephemeral_nfs/envs/pythonEnv-25bc4018-83b4-4550-99fe-5b9d573e81ae/lib/python3.11/site-packages (from torch>=1.11.0->sentence-transformers) (12.1.105)\nRequirement already satisfied: nvidia-cuda-runtime-cu12==12.1.105 in /local_disk0/.ephemeral_nfs/envs/pythonEnv-25bc4018-83b4-4550-99fe-5b9d573e81ae/lib/python3.11/site-packages (from torch>=1.11.0->sentence-transformers) (12.1.105)\nRequirement already satisfied: nvidia-cuda-cupti-cu12==12.1.105 in /local_disk0/.ephemeral_nfs/envs/pythonEnv-25bc4018-83b4-4550-99fe-5b9d573e81ae/lib/python3.11/site-packages (from torch>=1.11.0->sentence-transformers) (12.1.105)\nRequirement already satisfied: nvidia-cudnn-cu12==9.1.0.70 in /local_disk0/.ephemeral_nfs/envs/pythonEnv-25bc4018-83b4-4550-99fe-5b9d573e81ae/lib/python3.11/site-packages (from torch>=1.11.0->sentence-transformers) (9.1.0.70)\nRequirement already satisfied: nvidia-cublas-cu12==12.1.3.1 in /local_disk0/.ephemeral_nfs/envs/pythonEnv-25bc4018-83b4-4550-99fe-5b9d573e81ae/lib/python3.11/site-packages (from torch>=1.11.0->sentence-transformers) (12.1.3.1)\nRequirement already satisfied: nvidia-cufft-cu12==11.0.2.54 in /local_disk0/.ephemeral_nfs/envs/pythonEnv-25bc4018-83b4-4550-99fe-5b9d573e81ae/lib/python3.11/site-packages (from torch>=1.11.0->sentence-transformers) (11.0.2.54)\nRequirement already satisfied: nvidia-curand-cu12==10.3.2.106 in /local_disk0/.ephemeral_nfs/envs/pythonEnv-25bc4018-83b4-4550-99fe-5b9d573e81ae/lib/python3.11/site-packages (from torch>=1.11.0->sentence-transformers) (10.3.2.106)\nRequirement already satisfied: nvidia-cusolver-cu12==11.4.5.107 in /local_disk0/.ephemeral_nfs/envs/pythonEnv-25bc4018-83b4-4550-99fe-5b9d573e81ae/lib/python3.11/site-packages (from torch>=1.11.0->sentence-transformers) (11.4.5.107)\nRequirement already satisfied: nvidia-cusparse-cu12==12.1.0.106 in /local_disk0/.ephemeral_nfs/envs/pythonEnv-25bc4018-83b4-4550-99fe-5b9d573e81ae/lib/python3.11/site-packages (from torch>=1.11.0->sentence-transformers) (12.1.0.106)\nRequirement already satisfied: nvidia-nccl-cu12==2.20.5 in /local_disk0/.ephemeral_nfs/envs/pythonEnv-25bc4018-83b4-4550-99fe-5b9d573e81ae/lib/python3.11/site-packages (from torch>=1.11.0->sentence-transformers) (2.20.5)\nRequirement already satisfied: nvidia-nvtx-cu12==12.1.105 in /local_disk0/.ephemeral_nfs/envs/pythonEnv-25bc4018-83b4-4550-99fe-5b9d573e81ae/lib/python3.11/site-packages (from torch>=1.11.0->sentence-transformers) (12.1.105)\nRequirement already satisfied: triton==3.0.0 in /local_disk0/.ephemeral_nfs/envs/pythonEnv-25bc4018-83b4-4550-99fe-5b9d573e81ae/lib/python3.11/site-packages (from torch>=1.11.0->sentence-transformers) (3.0.0)\nRequirement already satisfied: nvidia-nvjitlink-cu12 in /local_disk0/.ephemeral_nfs/envs/pythonEnv-25bc4018-83b4-4550-99fe-5b9d573e81ae/lib/python3.11/site-packages (from nvidia-cusolver-cu12==11.4.5.107->torch>=1.11.0->sentence-transformers) (12.6.68)\nRequirement already satisfied: numpy>=1.17 in /databricks/python3/lib/python3.11/site-packages (from transformers<5.0.0,>=4.38.0->sentence-transformers) (1.23.5)\nRequirement already satisfied: regex!=2019.12.17 in /local_disk0/.ephemeral_nfs/envs/pythonEnv-25bc4018-83b4-4550-99fe-5b9d573e81ae/lib/python3.11/site-packages (from transformers<5.0.0,>=4.38.0->sentence-transformers) (2024.9.11)\nRequirement already satisfied: tokenizers<0.21,>=0.20 in /local_disk0/.ephemeral_nfs/envs/pythonEnv-25bc4018-83b4-4550-99fe-5b9d573e81ae/lib/python3.11/site-packages (from transformers<5.0.0,>=4.38.0->sentence-transformers) (0.20.0)\nRequirement already satisfied: safetensors>=0.4.1 in /local_disk0/.ephemeral_nfs/envs/pythonEnv-25bc4018-83b4-4550-99fe-5b9d573e81ae/lib/python3.11/site-packages (from transformers<5.0.0,>=4.38.0->sentence-transformers) (0.4.5)\nRequirement already satisfied: joblib>=1.1.1 in /databricks/python3/lib/python3.11/site-packages (from scikit-learn->sentence-transformers) (1.2.0)\nRequirement already satisfied: threadpoolctl>=2.0.0 in /databricks/python3/lib/python3.11/site-packages (from scikit-learn->sentence-transformers) (2.2.0)\nRequirement already satisfied: MarkupSafe>=2.0 in /local_disk0/.ephemeral_nfs/envs/pythonEnv-25bc4018-83b4-4550-99fe-5b9d573e81ae/lib/python3.11/site-packages (from jinja2->torch>=1.11.0->sentence-transformers) (2.1.5)\nRequirement already satisfied: charset-normalizer<4,>=2 in /databricks/python3/lib/python3.11/site-packages (from requests->huggingface-hub>=0.19.3->sentence-transformers) (2.0.4)\nRequirement already satisfied: idna<4,>=2.5 in /databricks/python3/lib/python3.11/site-packages (from requests->huggingface-hub>=0.19.3->sentence-transformers) (3.4)\nRequirement already satisfied: urllib3<3,>=1.21.1 in /databricks/python3/lib/python3.11/site-packages (from requests->huggingface-hub>=0.19.3->sentence-transformers) (1.26.16)\nRequirement already satisfied: certifi>=2017.4.17 in /databricks/python3/lib/python3.11/site-packages (from requests->huggingface-hub>=0.19.3->sentence-transformers) (2023.7.22)\nRequirement already satisfied: mpmath<1.4,>=1.1.0 in /local_disk0/.ephemeral_nfs/envs/pythonEnv-25bc4018-83b4-4550-99fe-5b9d573e81ae/lib/python3.11/site-packages (from sympy->torch>=1.11.0->sentence-transformers) (1.3.0)\nDownloading sentence_transformers-3.1.1-py3-none-any.whl (245 kB)\n\u001B[?25l   \u001B[90m━━━━━━━━━━━━━━━━━━━━━━━━━━━━━━━━━━━━━━━━\u001B[0m \u001B[32m0.0/245.3 kB\u001B[0m \u001B[31m?\u001B[0m eta \u001B[36m-:--:--\u001B[0m\n\u001B[2K   \u001B[91m━━━━━━\u001B[0m\u001B[91m╸\u001B[0m\u001B[90m━━━━━━━━━━━━━━━━━━━━━━━━━━━━━━━━━\u001B[0m \u001B[32m41.0/245.3 kB\u001B[0m \u001B[31m1.3 MB/s\u001B[0m eta \u001B[36m0:00:01\u001B[0m\n\u001B[2K   \u001B[91m━━━━━━━━━━━━━━━━━━━━━━━━━━━━━━━━━\u001B[0m\u001B[90m╺\u001B[0m\u001B[90m━━━━━━\u001B[0m \u001B[32m204.8/245.3 kB\u001B[0m \u001B[31m3.1 MB/s\u001B[0m eta \u001B[36m0:00:01\u001B[0m\n\u001B[2K   \u001B[90m━━━━━━━━━━━━━━━━━━━━━━━━━━━━━━━━━━━━━━━━\u001B[0m \u001B[32m245.3/245.3 kB\u001B[0m \u001B[31m3.2 MB/s\u001B[0m eta \u001B[36m0:00:00\u001B[0m\n\u001B[?25hInstalling collected packages: sentence-transformers\nSuccessfully installed sentence-transformers-3.1.1\n\u001B[43mNote: you may need to restart the kernel using %restart_python or dbutils.library.restartPython() to use updated packages.\u001B[0m\n"
     ]
    }
   ],
   "source": [
    "%pip install transformers\n",
    "%pip install torch\n",
    "%pip install sentence-transformers\n"
   ]
  },
  {
   "cell_type": "code",
   "execution_count": 0,
   "metadata": {
    "application/vnd.databricks.v1+cell": {
     "cellMetadata": {
      "byteLimit": 2048000,
      "rowLimit": 10000
     },
     "inputWidgets": {},
     "nuid": "875ea09f-cf5e-4e88-afc0-bbe4853d5eeb",
     "showTitle": false,
     "title": ""
    }
   },
   "outputs": [],
   "source": [
    "import pandas as pd\n",
    "\n",
    "# Load data from a CSV file\n",
    "data = pd.read_csv('/Volumes/formula1_dev/gold/images/csv/employee_data_4.csv')"
   ]
  },
  {
   "cell_type": "code",
   "execution_count": 0,
   "metadata": {
    "application/vnd.databricks.v1+cell": {
     "cellMetadata": {
      "byteLimit": 2048000,
      "rowLimit": 10000
     },
     "inputWidgets": {},
     "nuid": "98e32631-ea8a-4bbe-b933-222f19b74f3c",
     "showTitle": false,
     "title": ""
    }
   },
   "outputs": [
    {
     "output_type": "display_data",
     "data": {
      "text/html": [
       "<style scoped>\n",
       "  .table-result-container {\n",
       "    max-height: 300px;\n",
       "    overflow: auto;\n",
       "  }\n",
       "  table, th, td {\n",
       "    border: 1px solid black;\n",
       "    border-collapse: collapse;\n",
       "  }\n",
       "  th, td {\n",
       "    padding: 5px;\n",
       "  }\n",
       "  th {\n",
       "    text-align: left;\n",
       "  }\n",
       "</style><div class='table-result-container'><table class='table-result'><thead style='background-color: white'><tr><th>id</th><th>first_name</th><th>last_name</th><th>email</th><th>location</th><th>department</th></tr></thead><tbody><tr><td>1</td><td>Nerita</td><td>Colby</td><td>ncolby0@blogger.com</td><td>Heyin</td><td>Sales</td></tr><tr><td>2</td><td>Odetta</td><td>Buckle</td><td>obuckle1@tinypic.com</td><td>Sośnie</td><td>Support</td></tr><tr><td>3</td><td>Normie</td><td>Sutherley</td><td>nsutherley2@illinois.edu</td><td>Bayuin</td><td>Marketing</td></tr><tr><td>4</td><td>Odille</td><td>Camillo</td><td>ocamillo3@yahoo.co.jp</td><td>Karangturi</td><td>Engineering</td></tr><tr><td>5</td><td>Ulrikaumeko</td><td>Folli</td><td>ufolli4@engadget.com</td><td>Xinxu</td><td>Product Management</td></tr><tr><td>6</td><td>Belicia</td><td>Paroni</td><td>bparoni5@etsy.com</td><td>Billdal</td><td>Human Resources</td></tr><tr><td>7</td><td>Leland</td><td>Povele</td><td>lpovele6@tamu.edu</td><td>Zemio</td><td>Human Resources</td></tr><tr><td>8</td><td>Maire</td><td>Swidenbank</td><td>mswidenbank7@quantcast.com</td><td>Wangmo</td><td>Sales</td></tr><tr><td>9</td><td>Pail</td><td>Rembrant</td><td>prembrant8@apache.org</td><td>Gostimë</td><td>Product Management</td></tr><tr><td>10</td><td>Collette</td><td>Kurt</td><td>ckurt9@nbcnews.com</td><td>Jiahu</td><td>Engineering</td></tr><tr><td>11</td><td>Cecilio</td><td>Hauxby</td><td>chauxbya@cpanel.net</td><td>Nangaroro</td><td>Engineering</td></tr><tr><td>12</td><td>Danica</td><td>Yockley</td><td>dyockleyb@shutterfly.com</td><td>Taunan</td><td>Human Resources</td></tr><tr><td>13</td><td>Morgen</td><td>Husher</td><td>mhusherc@bravesites.com</td><td>Amagbagan</td><td>Sales</td></tr><tr><td>14</td><td>Nial</td><td>Hurtado</td><td>nhurtadod@nsw.gov.au</td><td>Soe</td><td>Research and Development</td></tr><tr><td>15</td><td>Osbourn</td><td>Whooley</td><td>owhooleye@utexas.edu</td><td>Saint Paul</td><td>Support</td></tr><tr><td>16</td><td>Marve</td><td>Staniford</td><td>mstanifordf@t.co</td><td>Concepcion</td><td>Engineering</td></tr><tr><td>17</td><td>Grethel</td><td>Thewless</td><td>gthewlessg@wordpress.org</td><td>Chengnan</td><td>Legal</td></tr><tr><td>18</td><td>Chris</td><td>Biermatowicz</td><td>cbiermatowiczh@smh.com.au</td><td>Guihulñgan</td><td>Business Development</td></tr><tr><td>19</td><td>Al</td><td>Gerauld</td><td>agerauldi@ucsd.edu</td><td>Prantaan</td><td>Business Development</td></tr><tr><td>20</td><td>Frazer</td><td>Rizzetti</td><td>frizzettij@cdbaby.com</td><td>Ḩarīb</td><td>Legal</td></tr><tr><td>21</td><td>Brew</td><td>Travers</td><td>btraversk@miibeian.gov.cn</td><td>Cam Ranh</td><td>Business Development</td></tr><tr><td>22</td><td>Nollie</td><td>Jannequin</td><td>njannequinl@mail.ru</td><td>Båstad</td><td>Human Resources</td></tr><tr><td>23</td><td>Nessy</td><td>Bruty</td><td>nbrutym@intel.com</td><td>Liudong</td><td>Services</td></tr><tr><td>24</td><td>Elyn</td><td>Jantzen</td><td>ejantzenn@businessweek.com</td><td>Si Mahosot</td><td>Support</td></tr><tr><td>25</td><td>Basil</td><td>Hazelhurst</td><td>bhazelhursto@hhs.gov</td><td>Stockholm</td><td>Product Management</td></tr><tr><td>26</td><td>Dina</td><td>Paty</td><td>dpatyp@pbs.org</td><td>Bāfq</td><td>Human Resources</td></tr><tr><td>27</td><td>Raven</td><td>Dillow</td><td>rdillowq@scribd.com</td><td>Ihosy</td><td>Training</td></tr><tr><td>28</td><td>Vitoria</td><td>Pitchers</td><td>vpitchersr@github.io</td><td>Shiree</td><td>Legal</td></tr><tr><td>29</td><td>Worthington</td><td>Dike</td><td>wdikes@dropbox.com</td><td>Sa Bot</td><td>Marketing</td></tr><tr><td>30</td><td>Angy</td><td>Carthew</td><td>acarthewt@addtoany.com</td><td>Biloxi</td><td>Human Resources</td></tr><tr><td>31</td><td>Zara</td><td>Ketley</td><td>zketleyu@instagram.com</td><td>Dziadkowice</td><td>Engineering</td></tr><tr><td>32</td><td>Paolina</td><td>Crippell</td><td>pcrippellv@bloglines.com</td><td>Aborlan</td><td>Engineering</td></tr><tr><td>33</td><td>Cami</td><td>Scammell</td><td>cscammellw@google.cn</td><td>Sablé-sur-Sarthe</td><td>Services</td></tr><tr><td>34</td><td>Emili</td><td>Furse</td><td>efursex@springer.com</td><td>Yiliu</td><td>Product Management</td></tr><tr><td>35</td><td>Jannelle</td><td>Dean</td><td>jdeany@mapquest.com</td><td>Jackson</td><td>Engineering</td></tr><tr><td>36</td><td>Barnie</td><td>Ciric</td><td>bciricz@wufoo.com</td><td>Khong</td><td>Services</td></tr><tr><td>37</td><td>Leonelle</td><td>Trevear</td><td>ltrevear10@npr.org</td><td>Puerto Cabezas</td><td>Services</td></tr><tr><td>38</td><td>Marlon</td><td>Benbow</td><td>mbenbow11@dion.ne.jp</td><td>Sîngerei</td><td>Sales</td></tr><tr><td>39</td><td>Fania</td><td>Rolfini</td><td>frolfini12@theguardian.com</td><td>Maputo</td><td>Engineering</td></tr><tr><td>40</td><td>Hermy</td><td>Ramsdell</td><td>hramsdell13@bigcartel.com</td><td>Kunduz</td><td>Sales</td></tr><tr><td>41</td><td>Mair</td><td>Sarney</td><td>msarney14@squarespace.com</td><td>Langsa</td><td>Engineering</td></tr><tr><td>42</td><td>Brandise</td><td>Antrim</td><td>bantrim15@mayoclinic.com</td><td>Leipsoí</td><td>Legal</td></tr><tr><td>43</td><td>Theodore</td><td>Kitchingham</td><td>tkitchingham16@java.com</td><td>Cibetung Dua</td><td>Product Management</td></tr><tr><td>44</td><td>Charley</td><td>Berntsson</td><td>cberntsson17@naver.com</td><td>Bakunase</td><td>Marketing</td></tr><tr><td>45</td><td>Amelia</td><td>Slocombe</td><td>aslocombe18@squarespace.com</td><td>Sembungan Kidul</td><td>Training</td></tr><tr><td>46</td><td>Lorettalorna</td><td>Ungerechts</td><td>lungerechts19@phoca.cz</td><td>Hengxizhen</td><td>Marketing</td></tr><tr><td>47</td><td>Shayla</td><td>Lewknor</td><td>slewknor1a@slate.com</td><td>Taoling</td><td>Product Management</td></tr><tr><td>48</td><td>Valida</td><td>Gatland</td><td>vgatland1b@gnu.org</td><td>General Conesa</td><td>Human Resources</td></tr><tr><td>49</td><td>Thia</td><td>Falla</td><td>tfalla1c@prnewswire.com</td><td>Leyuan</td><td>Accounting</td></tr><tr><td>50</td><td>Dave</td><td>Darnody</td><td>ddarnody1d@adobe.com</td><td>Chexi</td><td>Product Management</td></tr><tr><td>51</td><td>Birgitta</td><td>Philipsen</td><td>bphilipsen1e@timesonline.co.uk</td><td>Porsgrunn</td><td>Engineering</td></tr><tr><td>52</td><td>Prudence</td><td>Bortolutti</td><td>pbortolutti1f@i2i.jp</td><td>Pudasjärvi</td><td>Support</td></tr><tr><td>53</td><td>Clemmie</td><td>Keiley</td><td>ckeiley1g@angelfire.com</td><td>Macklin</td><td>Training</td></tr><tr><td>54</td><td>Honey</td><td>Darrach</td><td>hdarrach1h@sina.com.cn</td><td>Fengmu</td><td>Research and Development</td></tr><tr><td>55</td><td>Ave</td><td>Cawcutt</td><td>acawcutt1i@ucsd.edu</td><td>Angao</td><td>Training</td></tr><tr><td>56</td><td>Orsola</td><td>Jukes</td><td>ojukes1j@examiner.com</td><td>Adygeysk</td><td>Marketing</td></tr><tr><td>57</td><td>Romain</td><td>Wherrit</td><td>rwherrit1k@discovery.com</td><td>Sosnovo-Ozerskoye</td><td>Marketing</td></tr><tr><td>58</td><td>Britteny</td><td>Ygou</td><td>bygou1l@yellowpages.com</td><td>Khorostkiv</td><td>Research and Development</td></tr><tr><td>59</td><td>Conway</td><td>Lapenna</td><td>clapenna1m@123-reg.co.uk</td><td>Nevers</td><td>Business Development</td></tr><tr><td>60</td><td>Winna</td><td>Fleckney</td><td>wfleckney1n@unicef.org</td><td>Tambakan</td><td>Services</td></tr><tr><td>61</td><td>Meredithe</td><td>Barajas</td><td>mbarajas1o@reference.com</td><td>Bungoma</td><td>Sales</td></tr><tr><td>62</td><td>Myrah</td><td>Johnsee</td><td>mjohnsee1p@instagram.com</td><td>Matumadua</td><td>Training</td></tr><tr><td>63</td><td>Anne-marie</td><td>Carabet</td><td>acarabet1q@clickbank.net</td><td>Gondomar</td><td>Human Resources</td></tr><tr><td>64</td><td>Padgett</td><td>Licquorish</td><td>plicquorish1r@prweb.com</td><td>Mawa</td><td>Research and Development</td></tr><tr><td>65</td><td>Sarine</td><td>Volcker</td><td>svolcker1s@mac.com</td><td>Verona</td><td>Research and Development</td></tr><tr><td>66</td><td>Derward</td><td>Thoms</td><td>dthoms1t@hp.com</td><td>As Salţ</td><td>Research and Development</td></tr><tr><td>67</td><td>Carly</td><td>McGrouther</td><td>cmcgrouther1u@angelfire.com</td><td>Mojorejo</td><td>Legal</td></tr><tr><td>68</td><td>Meghan</td><td>Gloster</td><td>mgloster1v@sohu.com</td><td>Książki</td><td>Human Resources</td></tr><tr><td>69</td><td>De</td><td>Licquorish</td><td>dlicquorish1w@latimes.com</td><td>Banjar Dauhpura</td><td>Product Management</td></tr><tr><td>70</td><td>Bailey</td><td>Doiley</td><td>bdoiley1x@biglobe.ne.jp</td><td>Perivóli</td><td>Accounting</td></tr><tr><td>71</td><td>Truman</td><td>Morffew</td><td>tmorffew1y@salon.com</td><td>Niedrzwica Duża</td><td>Training</td></tr><tr><td>72</td><td>Dulcia</td><td>Gudgion</td><td>dgudgion1z@dailymotion.com</td><td>Xiwanzi</td><td>Research and Development</td></tr><tr><td>73</td><td>Lori</td><td>McKeown</td><td>lmckeown20@aol.com</td><td>Yanchi</td><td>Product Management</td></tr><tr><td>74</td><td>Nataline</td><td>Jowle</td><td>njowle21@etsy.com</td><td>Kaishantun</td><td>Support</td></tr><tr><td>75</td><td>Weylin</td><td>Couche</td><td>wcouche22@meetup.com</td><td>Şūrān</td><td>Training</td></tr><tr><td>76</td><td>Nataniel</td><td>Diver</td><td>ndiver23@howstuffworks.com</td><td>Ashikaga</td><td>Business Development</td></tr><tr><td>77</td><td>Inessa</td><td>Andreev</td><td>iandreev24@china.com.cn</td><td>Dukuhmencek Lor</td><td>Training</td></tr><tr><td>78</td><td>Gerard</td><td>Hexum</td><td>ghexum25@wix.com</td><td>Радолишта</td><td>Research and Development</td></tr><tr><td>79</td><td>Vonni</td><td>Flucker</td><td>vflucker26@discuz.net</td><td>Quezon</td><td>Legal</td></tr><tr><td>80</td><td>Quinta</td><td>Dowty</td><td>qdowty27@irs.gov</td><td>Vaiamonte</td><td>Research and Development</td></tr><tr><td>81</td><td>Alleyn</td><td>Myner</td><td>amyner28@weather.com</td><td>Tīkāpur</td><td>Engineering</td></tr><tr><td>82</td><td>Zia</td><td>Caccavari</td><td>zcaccavari29@twitter.com</td><td>Karangtengah</td><td>Product Management</td></tr><tr><td>83</td><td>Lillian</td><td>Ludye</td><td>lludye2a@twitpic.com</td><td>Shido</td><td>Accounting</td></tr><tr><td>84</td><td>Trever</td><td>Spencer</td><td>tspencer2b@intel.com</td><td>Tanumshede</td><td>Training</td></tr><tr><td>85</td><td>Carol</td><td>Macura</td><td>cmacura2c@sina.com.cn</td><td>Rudnya</td><td>Sales</td></tr><tr><td>86</td><td>Alix</td><td>Coster</td><td>acoster2d@i2i.jp</td><td>Kotlyarevskaya</td><td>Services</td></tr><tr><td>87</td><td>Laetitia</td><td>Breffitt</td><td>lbreffitt2e@nhs.uk</td><td>San Juan de Mata</td><td>Legal</td></tr><tr><td>88</td><td>Noellyn</td><td>Hubbocks</td><td>nhubbocks2f@google.cn</td><td>Undurkhaan</td><td>Training</td></tr><tr><td>89</td><td>Genvieve</td><td>Lello</td><td>glello2g@delicious.com</td><td>Chendian</td><td>Engineering</td></tr><tr><td>90</td><td>Joaquin</td><td>Duckham</td><td>jduckham2h@behance.net</td><td>Zelenogradsk</td><td>Sales</td></tr><tr><td>91</td><td>Arturo</td><td>Bosquet</td><td>abosquet2i@canalblog.com</td><td>Sergokala</td><td>Engineering</td></tr><tr><td>92</td><td>Curry</td><td>O'Kuddyhy</td><td>cokuddyhy2j@trellian.com</td><td>Kinalaglagan</td><td>Human Resources</td></tr><tr><td>93</td><td>Petey</td><td>Gasparro</td><td>pgasparro2k@1und1.de</td><td>Kauit</td><td>Human Resources</td></tr><tr><td>94</td><td>Basia</td><td>Couvet</td><td>bcouvet2l@comsenz.com</td><td>Itabuna</td><td>Human Resources</td></tr><tr><td>95</td><td>Grannie</td><td>Peatheyjohns</td><td>gpeatheyjohns2m@cbslocal.com</td><td>Kramat</td><td>Human Resources</td></tr><tr><td>96</td><td>Cirillo</td><td>Pochon</td><td>cpochon2n@ed.gov</td><td>Paucar</td><td>Product Management</td></tr><tr><td>97</td><td>Thurstan</td><td>Sallter</td><td>tsallter2o@qq.com</td><td>Mencon</td><td>Engineering</td></tr><tr><td>98</td><td>Erskine</td><td>Perell</td><td>eperell2p@sogou.com</td><td>Sainte-Geneviève-des-Bois</td><td>Human Resources</td></tr><tr><td>99</td><td>Padraic</td><td>Learmonth</td><td>plearmonth2q@gizmodo.com</td><td>Sokol</td><td>Product Management</td></tr><tr><td>100</td><td>Dorri</td><td>Beecker</td><td>dbeecker2r@deliciousdays.com</td><td>Atlanta</td><td>Training</td></tr></tbody></table></div>"
      ]
     },
     "metadata": {
      "application/vnd.databricks.v1+output": {
       "addedWidgets": {},
       "aggData": [],
       "aggError": "",
       "aggOverflow": false,
       "aggSchema": [],
       "aggSeriesLimitReached": false,
       "aggType": "",
       "arguments": {},
       "columnCustomDisplayInfos": {},
       "data": [
        [
         1,
         "Nerita",
         "Colby",
         "ncolby0@blogger.com",
         "Heyin",
         "Sales"
        ],
        [
         2,
         "Odetta",
         "Buckle",
         "obuckle1@tinypic.com",
         "Sośnie",
         "Support"
        ],
        [
         3,
         "Normie",
         "Sutherley",
         "nsutherley2@illinois.edu",
         "Bayuin",
         "Marketing"
        ],
        [
         4,
         "Odille",
         "Camillo",
         "ocamillo3@yahoo.co.jp",
         "Karangturi",
         "Engineering"
        ],
        [
         5,
         "Ulrikaumeko",
         "Folli",
         "ufolli4@engadget.com",
         "Xinxu",
         "Product Management"
        ],
        [
         6,
         "Belicia",
         "Paroni",
         "bparoni5@etsy.com",
         "Billdal",
         "Human Resources"
        ],
        [
         7,
         "Leland",
         "Povele",
         "lpovele6@tamu.edu",
         "Zemio",
         "Human Resources"
        ],
        [
         8,
         "Maire",
         "Swidenbank",
         "mswidenbank7@quantcast.com",
         "Wangmo",
         "Sales"
        ],
        [
         9,
         "Pail",
         "Rembrant",
         "prembrant8@apache.org",
         "Gostimë",
         "Product Management"
        ],
        [
         10,
         "Collette",
         "Kurt",
         "ckurt9@nbcnews.com",
         "Jiahu",
         "Engineering"
        ],
        [
         11,
         "Cecilio",
         "Hauxby",
         "chauxbya@cpanel.net",
         "Nangaroro",
         "Engineering"
        ],
        [
         12,
         "Danica",
         "Yockley",
         "dyockleyb@shutterfly.com",
         "Taunan",
         "Human Resources"
        ],
        [
         13,
         "Morgen",
         "Husher",
         "mhusherc@bravesites.com",
         "Amagbagan",
         "Sales"
        ],
        [
         14,
         "Nial",
         "Hurtado",
         "nhurtadod@nsw.gov.au",
         "Soe",
         "Research and Development"
        ],
        [
         15,
         "Osbourn",
         "Whooley",
         "owhooleye@utexas.edu",
         "Saint Paul",
         "Support"
        ],
        [
         16,
         "Marve",
         "Staniford",
         "mstanifordf@t.co",
         "Concepcion",
         "Engineering"
        ],
        [
         17,
         "Grethel",
         "Thewless",
         "gthewlessg@wordpress.org",
         "Chengnan",
         "Legal"
        ],
        [
         18,
         "Chris",
         "Biermatowicz",
         "cbiermatowiczh@smh.com.au",
         "Guihulñgan",
         "Business Development"
        ],
        [
         19,
         "Al",
         "Gerauld",
         "agerauldi@ucsd.edu",
         "Prantaan",
         "Business Development"
        ],
        [
         20,
         "Frazer",
         "Rizzetti",
         "frizzettij@cdbaby.com",
         "Ḩarīb",
         "Legal"
        ],
        [
         21,
         "Brew",
         "Travers",
         "btraversk@miibeian.gov.cn",
         "Cam Ranh",
         "Business Development"
        ],
        [
         22,
         "Nollie",
         "Jannequin",
         "njannequinl@mail.ru",
         "Båstad",
         "Human Resources"
        ],
        [
         23,
         "Nessy",
         "Bruty",
         "nbrutym@intel.com",
         "Liudong",
         "Services"
        ],
        [
         24,
         "Elyn",
         "Jantzen",
         "ejantzenn@businessweek.com",
         "Si Mahosot",
         "Support"
        ],
        [
         25,
         "Basil",
         "Hazelhurst",
         "bhazelhursto@hhs.gov",
         "Stockholm",
         "Product Management"
        ],
        [
         26,
         "Dina",
         "Paty",
         "dpatyp@pbs.org",
         "Bāfq",
         "Human Resources"
        ],
        [
         27,
         "Raven",
         "Dillow",
         "rdillowq@scribd.com",
         "Ihosy",
         "Training"
        ],
        [
         28,
         "Vitoria",
         "Pitchers",
         "vpitchersr@github.io",
         "Shiree",
         "Legal"
        ],
        [
         29,
         "Worthington",
         "Dike",
         "wdikes@dropbox.com",
         "Sa Bot",
         "Marketing"
        ],
        [
         30,
         "Angy",
         "Carthew",
         "acarthewt@addtoany.com",
         "Biloxi",
         "Human Resources"
        ],
        [
         31,
         "Zara",
         "Ketley",
         "zketleyu@instagram.com",
         "Dziadkowice",
         "Engineering"
        ],
        [
         32,
         "Paolina",
         "Crippell",
         "pcrippellv@bloglines.com",
         "Aborlan",
         "Engineering"
        ],
        [
         33,
         "Cami",
         "Scammell",
         "cscammellw@google.cn",
         "Sablé-sur-Sarthe",
         "Services"
        ],
        [
         34,
         "Emili",
         "Furse",
         "efursex@springer.com",
         "Yiliu",
         "Product Management"
        ],
        [
         35,
         "Jannelle",
         "Dean",
         "jdeany@mapquest.com",
         "Jackson",
         "Engineering"
        ],
        [
         36,
         "Barnie",
         "Ciric",
         "bciricz@wufoo.com",
         "Khong",
         "Services"
        ],
        [
         37,
         "Leonelle",
         "Trevear",
         "ltrevear10@npr.org",
         "Puerto Cabezas",
         "Services"
        ],
        [
         38,
         "Marlon",
         "Benbow",
         "mbenbow11@dion.ne.jp",
         "Sîngerei",
         "Sales"
        ],
        [
         39,
         "Fania",
         "Rolfini",
         "frolfini12@theguardian.com",
         "Maputo",
         "Engineering"
        ],
        [
         40,
         "Hermy",
         "Ramsdell",
         "hramsdell13@bigcartel.com",
         "Kunduz",
         "Sales"
        ],
        [
         41,
         "Mair",
         "Sarney",
         "msarney14@squarespace.com",
         "Langsa",
         "Engineering"
        ],
        [
         42,
         "Brandise",
         "Antrim",
         "bantrim15@mayoclinic.com",
         "Leipsoí",
         "Legal"
        ],
        [
         43,
         "Theodore",
         "Kitchingham",
         "tkitchingham16@java.com",
         "Cibetung Dua",
         "Product Management"
        ],
        [
         44,
         "Charley",
         "Berntsson",
         "cberntsson17@naver.com",
         "Bakunase",
         "Marketing"
        ],
        [
         45,
         "Amelia",
         "Slocombe",
         "aslocombe18@squarespace.com",
         "Sembungan Kidul",
         "Training"
        ],
        [
         46,
         "Lorettalorna",
         "Ungerechts",
         "lungerechts19@phoca.cz",
         "Hengxizhen",
         "Marketing"
        ],
        [
         47,
         "Shayla",
         "Lewknor",
         "slewknor1a@slate.com",
         "Taoling",
         "Product Management"
        ],
        [
         48,
         "Valida",
         "Gatland",
         "vgatland1b@gnu.org",
         "General Conesa",
         "Human Resources"
        ],
        [
         49,
         "Thia",
         "Falla",
         "tfalla1c@prnewswire.com",
         "Leyuan",
         "Accounting"
        ],
        [
         50,
         "Dave",
         "Darnody",
         "ddarnody1d@adobe.com",
         "Chexi",
         "Product Management"
        ],
        [
         51,
         "Birgitta",
         "Philipsen",
         "bphilipsen1e@timesonline.co.uk",
         "Porsgrunn",
         "Engineering"
        ],
        [
         52,
         "Prudence",
         "Bortolutti",
         "pbortolutti1f@i2i.jp",
         "Pudasjärvi",
         "Support"
        ],
        [
         53,
         "Clemmie",
         "Keiley",
         "ckeiley1g@angelfire.com",
         "Macklin",
         "Training"
        ],
        [
         54,
         "Honey",
         "Darrach",
         "hdarrach1h@sina.com.cn",
         "Fengmu",
         "Research and Development"
        ],
        [
         55,
         "Ave",
         "Cawcutt",
         "acawcutt1i@ucsd.edu",
         "Angao",
         "Training"
        ],
        [
         56,
         "Orsola",
         "Jukes",
         "ojukes1j@examiner.com",
         "Adygeysk",
         "Marketing"
        ],
        [
         57,
         "Romain",
         "Wherrit",
         "rwherrit1k@discovery.com",
         "Sosnovo-Ozerskoye",
         "Marketing"
        ],
        [
         58,
         "Britteny",
         "Ygou",
         "bygou1l@yellowpages.com",
         "Khorostkiv",
         "Research and Development"
        ],
        [
         59,
         "Conway",
         "Lapenna",
         "clapenna1m@123-reg.co.uk",
         "Nevers",
         "Business Development"
        ],
        [
         60,
         "Winna",
         "Fleckney",
         "wfleckney1n@unicef.org",
         "Tambakan",
         "Services"
        ],
        [
         61,
         "Meredithe",
         "Barajas",
         "mbarajas1o@reference.com",
         "Bungoma",
         "Sales"
        ],
        [
         62,
         "Myrah",
         "Johnsee",
         "mjohnsee1p@instagram.com",
         "Matumadua",
         "Training"
        ],
        [
         63,
         "Anne-marie",
         "Carabet",
         "acarabet1q@clickbank.net",
         "Gondomar",
         "Human Resources"
        ],
        [
         64,
         "Padgett",
         "Licquorish",
         "plicquorish1r@prweb.com",
         "Mawa",
         "Research and Development"
        ],
        [
         65,
         "Sarine",
         "Volcker",
         "svolcker1s@mac.com",
         "Verona",
         "Research and Development"
        ],
        [
         66,
         "Derward",
         "Thoms",
         "dthoms1t@hp.com",
         "As Salţ",
         "Research and Development"
        ],
        [
         67,
         "Carly",
         "McGrouther",
         "cmcgrouther1u@angelfire.com",
         "Mojorejo",
         "Legal"
        ],
        [
         68,
         "Meghan",
         "Gloster",
         "mgloster1v@sohu.com",
         "Książki",
         "Human Resources"
        ],
        [
         69,
         "De",
         "Licquorish",
         "dlicquorish1w@latimes.com",
         "Banjar Dauhpura",
         "Product Management"
        ],
        [
         70,
         "Bailey",
         "Doiley",
         "bdoiley1x@biglobe.ne.jp",
         "Perivóli",
         "Accounting"
        ],
        [
         71,
         "Truman",
         "Morffew",
         "tmorffew1y@salon.com",
         "Niedrzwica Duża",
         "Training"
        ],
        [
         72,
         "Dulcia",
         "Gudgion",
         "dgudgion1z@dailymotion.com",
         "Xiwanzi",
         "Research and Development"
        ],
        [
         73,
         "Lori",
         "McKeown",
         "lmckeown20@aol.com",
         "Yanchi",
         "Product Management"
        ],
        [
         74,
         "Nataline",
         "Jowle",
         "njowle21@etsy.com",
         "Kaishantun",
         "Support"
        ],
        [
         75,
         "Weylin",
         "Couche",
         "wcouche22@meetup.com",
         "Şūrān",
         "Training"
        ],
        [
         76,
         "Nataniel",
         "Diver",
         "ndiver23@howstuffworks.com",
         "Ashikaga",
         "Business Development"
        ],
        [
         77,
         "Inessa",
         "Andreev",
         "iandreev24@china.com.cn",
         "Dukuhmencek Lor",
         "Training"
        ],
        [
         78,
         "Gerard",
         "Hexum",
         "ghexum25@wix.com",
         "Радолишта",
         "Research and Development"
        ],
        [
         79,
         "Vonni",
         "Flucker",
         "vflucker26@discuz.net",
         "Quezon",
         "Legal"
        ],
        [
         80,
         "Quinta",
         "Dowty",
         "qdowty27@irs.gov",
         "Vaiamonte",
         "Research and Development"
        ],
        [
         81,
         "Alleyn",
         "Myner",
         "amyner28@weather.com",
         "Tīkāpur",
         "Engineering"
        ],
        [
         82,
         "Zia",
         "Caccavari",
         "zcaccavari29@twitter.com",
         "Karangtengah",
         "Product Management"
        ],
        [
         83,
         "Lillian",
         "Ludye",
         "lludye2a@twitpic.com",
         "Shido",
         "Accounting"
        ],
        [
         84,
         "Trever",
         "Spencer",
         "tspencer2b@intel.com",
         "Tanumshede",
         "Training"
        ],
        [
         85,
         "Carol",
         "Macura",
         "cmacura2c@sina.com.cn",
         "Rudnya",
         "Sales"
        ],
        [
         86,
         "Alix",
         "Coster",
         "acoster2d@i2i.jp",
         "Kotlyarevskaya",
         "Services"
        ],
        [
         87,
         "Laetitia",
         "Breffitt",
         "lbreffitt2e@nhs.uk",
         "San Juan de Mata",
         "Legal"
        ],
        [
         88,
         "Noellyn",
         "Hubbocks",
         "nhubbocks2f@google.cn",
         "Undurkhaan",
         "Training"
        ],
        [
         89,
         "Genvieve",
         "Lello",
         "glello2g@delicious.com",
         "Chendian",
         "Engineering"
        ],
        [
         90,
         "Joaquin",
         "Duckham",
         "jduckham2h@behance.net",
         "Zelenogradsk",
         "Sales"
        ],
        [
         91,
         "Arturo",
         "Bosquet",
         "abosquet2i@canalblog.com",
         "Sergokala",
         "Engineering"
        ],
        [
         92,
         "Curry",
         "O'Kuddyhy",
         "cokuddyhy2j@trellian.com",
         "Kinalaglagan",
         "Human Resources"
        ],
        [
         93,
         "Petey",
         "Gasparro",
         "pgasparro2k@1und1.de",
         "Kauit",
         "Human Resources"
        ],
        [
         94,
         "Basia",
         "Couvet",
         "bcouvet2l@comsenz.com",
         "Itabuna",
         "Human Resources"
        ],
        [
         95,
         "Grannie",
         "Peatheyjohns",
         "gpeatheyjohns2m@cbslocal.com",
         "Kramat",
         "Human Resources"
        ],
        [
         96,
         "Cirillo",
         "Pochon",
         "cpochon2n@ed.gov",
         "Paucar",
         "Product Management"
        ],
        [
         97,
         "Thurstan",
         "Sallter",
         "tsallter2o@qq.com",
         "Mencon",
         "Engineering"
        ],
        [
         98,
         "Erskine",
         "Perell",
         "eperell2p@sogou.com",
         "Sainte-Geneviève-des-Bois",
         "Human Resources"
        ],
        [
         99,
         "Padraic",
         "Learmonth",
         "plearmonth2q@gizmodo.com",
         "Sokol",
         "Product Management"
        ],
        [
         100,
         "Dorri",
         "Beecker",
         "dbeecker2r@deliciousdays.com",
         "Atlanta",
         "Training"
        ]
       ],
       "datasetInfos": [],
       "dbfsResultPath": null,
       "isJsonSchema": true,
       "metadata": {},
       "overflow": false,
       "plotOptions": {
        "customPlotOptions": {},
        "displayType": "table",
        "pivotAggregation": null,
        "pivotColumns": null,
        "xColumns": null,
        "yColumns": null
       },
       "removedWidgets": [],
       "schema": [
        {
         "metadata": "{}",
         "name": "id",
         "type": "\"long\""
        },
        {
         "metadata": "{}",
         "name": "first_name",
         "type": "\"string\""
        },
        {
         "metadata": "{}",
         "name": "last_name",
         "type": "\"string\""
        },
        {
         "metadata": "{}",
         "name": "email",
         "type": "\"string\""
        },
        {
         "metadata": "{}",
         "name": "location",
         "type": "\"string\""
        },
        {
         "metadata": "{}",
         "name": "department",
         "type": "\"string\""
        }
       ],
       "type": "table"
      }
     },
     "output_type": "display_data"
    }
   ],
   "source": [
    "display(data)"
   ]
  },
  {
   "cell_type": "code",
   "execution_count": 0,
   "metadata": {
    "application/vnd.databricks.v1+cell": {
     "cellMetadata": {
      "byteLimit": 2048000,
      "rowLimit": 10000
     },
     "inputWidgets": {},
     "nuid": "ce32a5db-24b5-4295-b3c3-372e0484c669",
     "showTitle": false,
     "title": ""
    }
   },
   "outputs": [
    {
     "output_type": "display_data",
     "data": {
      "application/vnd.jupyter.widget-view+json": {
       "model_id": "3fc1d6b4e8a6478d9abc9c566f2c877c",
       "version_major": 2,
       "version_minor": 0
      },
      "text/plain": [
       "config.json:   0%|          | 0.00/665 [00:00<?, ?B/s]"
      ]
     },
     "metadata": {},
     "output_type": "display_data"
    },
    {
     "output_type": "display_data",
     "data": {
      "application/vnd.jupyter.widget-view+json": {
       "model_id": "9c376934e88248da884bb4701c03e85e",
       "version_major": 2,
       "version_minor": 0
      },
      "text/plain": [
       "model.safetensors:   0%|          | 0.00/548M [00:00<?, ?B/s]"
      ]
     },
     "metadata": {},
     "output_type": "display_data"
    },
    {
     "output_type": "display_data",
     "data": {
      "application/vnd.jupyter.widget-view+json": {
       "model_id": "e9e1a8ecfd804b6a947b3a3ac331212a",
       "version_major": 2,
       "version_minor": 0
      },
      "text/plain": [
       "generation_config.json:   0%|          | 0.00/124 [00:00<?, ?B/s]"
      ]
     },
     "metadata": {},
     "output_type": "display_data"
    },
    {
     "output_type": "display_data",
     "data": {
      "application/vnd.jupyter.widget-view+json": {
       "model_id": "2b801cf5f64346eb928c4e7829b19a69",
       "version_major": 2,
       "version_minor": 0
      },
      "text/plain": [
       "tokenizer_config.json:   0%|          | 0.00/26.0 [00:00<?, ?B/s]"
      ]
     },
     "metadata": {},
     "output_type": "display_data"
    },
    {
     "output_type": "display_data",
     "data": {
      "application/vnd.jupyter.widget-view+json": {
       "model_id": "8444bc3756fb464c88e56bc61622c197",
       "version_major": 2,
       "version_minor": 0
      },
      "text/plain": [
       "vocab.json:   0%|          | 0.00/1.04M [00:00<?, ?B/s]"
      ]
     },
     "metadata": {},
     "output_type": "display_data"
    },
    {
     "output_type": "display_data",
     "data": {
      "application/vnd.jupyter.widget-view+json": {
       "model_id": "d23a0661d7d147c99eabea65435b0abd",
       "version_major": 2,
       "version_minor": 0
      },
      "text/plain": [
       "merges.txt:   0%|          | 0.00/456k [00:00<?, ?B/s]"
      ]
     },
     "metadata": {},
     "output_type": "display_data"
    },
    {
     "output_type": "display_data",
     "data": {
      "application/vnd.jupyter.widget-view+json": {
       "model_id": "7597bb0819a6407bbdd958730c695e67",
       "version_major": 2,
       "version_minor": 0
      },
      "text/plain": [
       "tokenizer.json:   0%|          | 0.00/1.36M [00:00<?, ?B/s]"
      ]
     },
     "metadata": {},
     "output_type": "display_data"
    },
    {
     "output_type": "stream",
     "name": "stderr",
     "output_type": "stream",
     "text": [
      "/local_disk0/.ephemeral_nfs/envs/pythonEnv-25bc4018-83b4-4550-99fe-5b9d573e81ae/lib/python3.11/site-packages/transformers/tokenization_utils_base.py:1617: FutureWarning: `clean_up_tokenization_spaces` was not set. It will be set to `True` by default. This behavior will be deprecated in transformers v4.45, and will be then set to `False` by default. For more details check this issue: https://github.com/huggingface/transformers/issues/31884\n  warnings.warn(\nTruncation was not explicitly activated but `max_length` is provided a specific value, please use `truncation=True` to explicitly truncate examples to max length. Defaulting to 'longest_first' truncation strategy. If you encode pairs of sequences (GLUE-style) with the tokenizer you can select this strategy more precisely by providing a specific strategy to `truncation`.\nSetting `pad_token_id` to `eos_token_id`:None for open-end generation.\nSetting `pad_token_id` to `eos_token_id`:None for open-end generation.\nSetting `pad_token_id` to `eos_token_id`:None for open-end generation.\nSetting `pad_token_id` to `eos_token_id`:None for open-end generation.\nSetting `pad_token_id` to `eos_token_id`:None for open-end generation.\nSetting `pad_token_id` to `eos_token_id`:None for open-end generation.\nSetting `pad_token_id` to `eos_token_id`:None for open-end generation.\nSetting `pad_token_id` to `eos_token_id`:None for open-end generation.\nSetting `pad_token_id` to `eos_token_id`:None for open-end generation.\nSetting `pad_token_id` to `eos_token_id`:None for open-end generation.\nSetting `pad_token_id` to `eos_token_id`:None for open-end generation.\nSetting `pad_token_id` to `eos_token_id`:None for open-end generation.\nSetting `pad_token_id` to `eos_token_id`:None for open-end generation.\nSetting `pad_token_id` to `eos_token_id`:None for open-end generation.\nSetting `pad_token_id` to `eos_token_id`:None for open-end generation.\nSetting `pad_token_id` to `eos_token_id`:None for open-end generation.\nSetting `pad_token_id` to `eos_token_id`:None for open-end generation.\nSetting `pad_token_id` to `eos_token_id`:None for open-end generation.\nSetting `pad_token_id` to `eos_token_id`:None for open-end generation.\nSetting `pad_token_id` to `eos_token_id`:None for open-end generation.\nSetting `pad_token_id` to `eos_token_id`:None for open-end generation.\nSetting `pad_token_id` to `eos_token_id`:None for open-end generation.\nSetting `pad_token_id` to `eos_token_id`:None for open-end generation.\nSetting `pad_token_id` to `eos_token_id`:None for open-end generation.\nSetting `pad_token_id` to `eos_token_id`:None for open-end generation.\nSetting `pad_token_id` to `eos_token_id`:None for open-end generation.\nSetting `pad_token_id` to `eos_token_id`:None for open-end generation.\nSetting `pad_token_id` to `eos_token_id`:None for open-end generation.\nSetting `pad_token_id` to `eos_token_id`:None for open-end generation.\nSetting `pad_token_id` to `eos_token_id`:None for open-end generation.\nSetting `pad_token_id` to `eos_token_id`:None for open-end generation.\nSetting `pad_token_id` to `eos_token_id`:None for open-end generation.\nSetting `pad_token_id` to `eos_token_id`:None for open-end generation.\nSetting `pad_token_id` to `eos_token_id`:None for open-end generation.\nSetting `pad_token_id` to `eos_token_id`:None for open-end generation.\nSetting `pad_token_id` to `eos_token_id`:None for open-end generation.\nSetting `pad_token_id` to `eos_token_id`:None for open-end generation.\nSetting `pad_token_id` to `eos_token_id`:None for open-end generation.\nSetting `pad_token_id` to `eos_token_id`:None for open-end generation.\nSetting `pad_token_id` to `eos_token_id`:None for open-end generation.\nSetting `pad_token_id` to `eos_token_id`:None for open-end generation.\nSetting `pad_token_id` to `eos_token_id`:None for open-end generation.\nSetting `pad_token_id` to `eos_token_id`:None for open-end generation.\nSetting `pad_token_id` to `eos_token_id`:None for open-end generation.\nSetting `pad_token_id` to `eos_token_id`:None for open-end generation.\nSetting `pad_token_id` to `eos_token_id`:None for open-end generation.\nSetting `pad_token_id` to `eos_token_id`:None for open-end generation.\nSetting `pad_token_id` to `eos_token_id`:None for open-end generation.\nSetting `pad_token_id` to `eos_token_id`:None for open-end generation.\nSetting `pad_token_id` to `eos_token_id`:None for open-end generation.\nSetting `pad_token_id` to `eos_token_id`:None for open-end generation.\nSetting `pad_token_id` to `eos_token_id`:None for open-end generation.\nSetting `pad_token_id` to `eos_token_id`:None for open-end generation.\nSetting `pad_token_id` to `eos_token_id`:None for open-end generation.\nSetting `pad_token_id` to `eos_token_id`:None for open-end generation.\nSetting `pad_token_id` to `eos_token_id`:None for open-end generation.\nSetting `pad_token_id` to `eos_token_id`:None for open-end generation.\nSetting `pad_token_id` to `eos_token_id`:None for open-end generation.\nSetting `pad_token_id` to `eos_token_id`:None for open-end generation.\nSetting `pad_token_id` to `eos_token_id`:None for open-end generation.\nSetting `pad_token_id` to `eos_token_id`:None for open-end generation.\nSetting `pad_token_id` to `eos_token_id`:None for open-end generation.\nSetting `pad_token_id` to `eos_token_id`:None for open-end generation.\nSetting `pad_token_id` to `eos_token_id`:None for open-end generation.\nSetting `pad_token_id` to `eos_token_id`:None for open-end generation.\nSetting `pad_token_id` to `eos_token_id`:None for open-end generation.\nSetting `pad_token_id` to `eos_token_id`:None for open-end generation.\nSetting `pad_token_id` to `eos_token_id`:None for open-end generation.\nSetting `pad_token_id` to `eos_token_id`:None for open-end generation.\nSetting `pad_token_id` to `eos_token_id`:None for open-end generation.\nSetting `pad_token_id` to `eos_token_id`:None for open-end generation.\nSetting `pad_token_id` to `eos_token_id`:None for open-end generation.\nSetting `pad_token_id` to `eos_token_id`:None for open-end generation.\nSetting `pad_token_id` to `eos_token_id`:None for open-end generation.\nSetting `pad_token_id` to `eos_token_id`:None for open-end generation.\nSetting `pad_token_id` to `eos_token_id`:None for open-end generation.\nSetting `pad_token_id` to `eos_token_id`:None for open-end generation.\nSetting `pad_token_id` to `eos_token_id`:None for open-end generation.\nSetting `pad_token_id` to `eos_token_id`:None for open-end generation.\nSetting `pad_token_id` to `eos_token_id`:None for open-end generation.\nSetting `pad_token_id` to `eos_token_id`:None for open-end generation.\nSetting `pad_token_id` to `eos_token_id`:None for open-end generation.\nSetting `pad_token_id` to `eos_token_id`:None for open-end generation.\nSetting `pad_token_id` to `eos_token_id`:None for open-end generation.\nSetting `pad_token_id` to `eos_token_id`:None for open-end generation.\nSetting `pad_token_id` to `eos_token_id`:None for open-end generation.\nSetting `pad_token_id` to `eos_token_id`:None for open-end generation.\nSetting `pad_token_id` to `eos_token_id`:None for open-end generation.\nSetting `pad_token_id` to `eos_token_id`:None for open-end generation.\nSetting `pad_token_id` to `eos_token_id`:None for open-end generation.\nSetting `pad_token_id` to `eos_token_id`:None for open-end generation.\nSetting `pad_token_id` to `eos_token_id`:None for open-end generation.\nSetting `pad_token_id` to `eos_token_id`:None for open-end generation.\nSetting `pad_token_id` to `eos_token_id`:None for open-end generation.\nSetting `pad_token_id` to `eos_token_id`:None for open-end generation.\nSetting `pad_token_id` to `eos_token_id`:None for open-end generation.\nSetting `pad_token_id` to `eos_token_id`:None for open-end generation.\nSetting `pad_token_id` to `eos_token_id`:None for open-end generation.\nSetting `pad_token_id` to `eos_token_id`:None for open-end generation.\nSetting `pad_token_id` to `eos_token_id`:None for open-end generation.\n"
     ]
    },
    {
     "output_type": "display_data",
     "data": {
      "text/html": [
       "<style scoped>\n",
       "  .table-result-container {\n",
       "    max-height: 300px;\n",
       "    overflow: auto;\n",
       "  }\n",
       "  table, th, td {\n",
       "    border: 1px solid black;\n",
       "    border-collapse: collapse;\n",
       "  }\n",
       "  th, td {\n",
       "    padding: 5px;\n",
       "  }\n",
       "  th {\n",
       "    text-align: left;\n",
       "  }\n",
       "</style><div class='table-result-container'><table class='table-result'><thead style='background-color: white'><tr><th>id</th><th>first_name</th><th>last_name</th><th>email</th><th>location</th><th>department</th><th>summary</th></tr></thead><tbody><tr><td>1</td><td>Nerita</td><td>Colby</td><td>ncolby0@blogger.com</td><td>Heyin</td><td>Sales</td><td>Heyin' is getting hot right now, we'll see what happens.\" She said that her brother was in good humor, and that she loved him too much to ignore her.\n",
       "\n",
       "\"So you're gonna say I'm gonna have to get</td></tr><tr><td>2</td><td>Odetta</td><td>Buckle</td><td>obuckle1@tinypic.com</td><td>Sośnie</td><td>Support</td><td>Sośniek is the most important thing. This isn't some old saying which says \"the chief of the entire army is good from his position of power: therefore he has to be considered a good one\", but as the war drags</td></tr><tr><td>3</td><td>Normie</td><td>Sutherley</td><td>nsutherley2@illinois.edu</td><td>Bayuin</td><td>Marketing</td><td>Bayuin and Deltas are a very common two-player team, but are also the second best club in Europe.\n",
       "\n",
       "The only other players from this season's Europa League are Aleksandar Kolarov, Evgeny H</td></tr><tr><td>4</td><td>Odille</td><td>Camillo</td><td>ocamillo3@yahoo.co.jp</td><td>Karangturi</td><td>Engineering</td><td>Karangturi.\n",
       "\n",
       "The former leader of the opposition party called Mr Maduro's decision a \"disastrous development.\" The move could destabilise some conservative groups \"which are not satisfied with how he is handling the country,\" he said.\n",
       "</td></tr><tr><td>5</td><td>Ulrikaumeko</td><td>Folli</td><td>ufolli4@engadget.com</td><td>Xinxu</td><td>Product Management</td><td>Xinxu. There is also the possibility that the two processes are simultaneously creating different data types. The two processes, i.e., the two processes (Xinxu and IKEF) simultaneously want to share memory between each other, thereby</td></tr><tr><td>6</td><td>Belicia</td><td>Paroni</td><td>bparoni5@etsy.com</td><td>Billdal</td><td>Human Resources</td><td>Billdal,\" he said.\n",
       "\n",
       "\n",
       "Coffee, a coffee machine and light-duty gas station and grocery store in Lake Worth, is a major part of what will be $1 billion of economic activity.\n",
       "\n",
       "\n",
       "And in other areas of</td></tr><tr><td>7</td><td>Leland</td><td>Povele</td><td>lpovele6@tamu.edu</td><td>Zemio</td><td>Human Resources</td><td>Zemio's book: I think this is actually part of the problem, which is he claims that he did not do a lot and just went into the game, and played at maximum capacity for three hours a game which is a typical game.</td></tr><tr><td>8</td><td>Maire</td><td>Swidenbank</td><td>mswidenbank7@quantcast.com</td><td>Wangmo</td><td>Sales</td><td>Wangmo, a senior developer for The Void, talks with a journalist about what they're working on during his time working on The Void:\n",
       "\n",
       "It's been really fun and I'm not complaining about anything. There is still a lot of</td></tr><tr><td>9</td><td>Pail</td><td>Rembrant</td><td>prembrant8@apache.org</td><td>Gostimë</td><td>Product Management</td><td>Gostimë.\n",
       "\n",
       "If the Greeks could have kept their heads low, this would not have happened. When you see anything, you're seeing a phenomenon we call a \"psychocephalic experience\" that is actually a sign of something</td></tr><tr><td>10</td><td>Collette</td><td>Kurt</td><td>ckurt9@nbcnews.com</td><td>Jiahu</td><td>Engineering</td><td>Jiahu said.\n",
       "\n",
       "Brig. Gen. Michael Flynn, who faces national security and ethics questions with his resignation on Monday, has since become President Mike Pence's chief of staff and under Trump's leadership has continued to push to improve cooperation</td></tr><tr><td>11</td><td>Cecilio</td><td>Hauxby</td><td>chauxbya@cpanel.net</td><td>Nangaroro</td><td>Engineering</td><td>Nangaroro's main concerns are safety and the health of residents.\n",
       "\n",
       "\"On our road to Bali we are facing many potential incidents that could disrupt air quality,\" she said.\n",
       "\n",
       "She also stresses that the current infrastructure being constructed</td></tr><tr><td>12</td><td>Danica</td><td>Yockley</td><td>dyockleyb@shutterfly.com</td><td>Taunan</td><td>Human Resources</td><td>Taunan said earlier this year that his efforts would not save the nation.\n",
       "\n",
       "\"We want to go to Washington and play a strong game that we can both win and lose,\" he said.\n",
       "\n",
       "Brett Hundley contributed to</td></tr><tr><td>13</td><td>Morgen</td><td>Husher</td><td>mhusherc@bravesites.com</td><td>Amagbagan</td><td>Sales</td><td>Amagbagan\n",
       "\n",
       "Laguna Beach, CA 94510\n",
       "\n",
       "\n",
       "Voyager's\n",
       "\n",
       "Chitanda Center\n",
       "\n",
       "Cleveland, OH 43218\n",
       "\n",
       "\n",
       "Sophia's\n",
       "\n",
       "Earl Mills\n",
       "\n",
       "Min</td></tr><tr><td>14</td><td>Nial</td><td>Hurtado</td><td>nhurtadod@nsw.gov.au</td><td>Soe</td><td>Research and Development</td><td>Soe will not die after finishing that line. That line is dead. You'll probably get some more of that in your next game.\n",
       "\n",
       "Q. My wife tells me that the other day she said she liked Taylor Swift. Are you thinking</td></tr><tr><td>15</td><td>Osbourn</td><td>Whooley</td><td>owhooleye@utexas.edu</td><td>Saint Paul</td><td>Support</td><td>Saint Paul University in Paul, Minnesota.\n",
       "\n",
       "In the early 2000s, when she started her career on a nonprofit, I started working alongside her there at the beginning of the fall of 2011. Our first project for our organization was to send her</td></tr><tr><td>16</td><td>Marve</td><td>Staniford</td><td>mstanifordf@t.co</td><td>Concepcion</td><td>Engineering</td><td>Concepcion (and the other two as they get to be more closely identified) but I've included their respective categories below.\n",
       "\n",
       "Binary categories:\n",
       "\n",
       "1. Univariate (n 2 + p2 < p3)\n",
       "</td></tr><tr><td>17</td><td>Grethel</td><td>Thewless</td><td>gthewlessg@wordpress.org</td><td>Chengnan</td><td>Legal</td><td>Chengnan's two sons, Zheng and Yi, were living out of jail but the family would have to turn this over to the local authorities.\n",
       "\n",
       "If they don't allow this to happen, the government would only be able to hold them</td></tr><tr><td>18</td><td>Chris</td><td>Biermatowicz</td><td>cbiermatowiczh@smh.com.au</td><td>Guihulñgan</td><td>Business Development</td><td>Guihulñgan, founder of the Bhopal Project, the most well-known, and largest community-based human rights NGO in North East Africa.\n",
       "\n",
       "To make his case for the rights and social inclusion of migrant labourers,</td></tr><tr><td>19</td><td>Al</td><td>Gerauld</td><td>agerauldi@ucsd.edu</td><td>Prantaan</td><td>Business Development</td><td>Prantaan Nama\n",
       "\n",
       "Kathleen Jaffer\n",
       "\n",
       "Rebecca D.</td></tr><tr><td>20</td><td>Frazer</td><td>Rizzetti</td><td>frizzettij@cdbaby.com</td><td>Ḩarīb</td><td>Legal</td><td>Ḩarīb-s-dār shaykh darqās.\n",
       "\n",
       "The term 'dara' comes from a Darya; the form dara means 'all this is, every substance' (1 t</td></tr><tr><td>21</td><td>Brew</td><td>Travers</td><td>btraversk@miibeian.gov.cn</td><td>Cam Ranh</td><td>Business Development</td><td>Cam Ranh M Khokla, D. (2005) On the development of artificial neural mechanisms for language learning in the language-processing area. Advances in the Research of Artificial Intelligence (pdf).\n",
       "\n",
       "Hodgkinson A. (</td></tr><tr><td>22</td><td>Nollie</td><td>Jannequin</td><td>njannequinl@mail.ru</td><td>Båstad</td><td>Human Resources</td><td>Båstad\n",
       "\n",
       "[28] Poulsen P, Stolz N, Schneissing-Stahl B, Wieseltich J, Aarons G (2016) A review of three models of neurodegenerative</td></tr><tr><td>23</td><td>Nessy</td><td>Bruty</td><td>nbrutym@intel.com</td><td>Liudong</td><td>Services</td><td>Liudong-Jaeger was taken to the South Korean Medical Services, where he was transferred to the hospital, where he was brought back with the result that he was reanimated, the court filing explains.\n",
       "\n",
       "Jaeger's</td></tr><tr><td>24</td><td>Elyn</td><td>Jantzen</td><td>ejantzenn@businessweek.com</td><td>Si Mahosot</td><td>Support</td><td>Si Mahosotan.\n",
       "\n",
       "A man with a beard, who had a beard that was nearly as big as his shoulders, was being treated at an unlicensed clinic called \"Cases and Clinics\" and he was being given injections of</td></tr><tr><td>25</td><td>Basil</td><td>Hazelhurst</td><td>bhazelhursto@hhs.gov</td><td>Stockholm</td><td>Product Management</td><td>Stockholm, the mayor of Stockholm, and his party, the Social Democrats, on Friday accused Sweden of seeking to impose more stringent anti-immigrant laws as warring factions tried to break up a fragile but powerful economy.\n",
       "\n",
       "\"The government wanted</td></tr><tr><td>26</td><td>Dina</td><td>Paty</td><td>dpatyp@pbs.org</td><td>Bāfq</td><td>Human Resources</td><td>Bāfqat-taghāḤā ākū-iḥt-ṣbē ḥrāmaṭī (in the first ten chapters). This passage is a commentary on the first</td></tr><tr><td>27</td><td>Raven</td><td>Dillow</td><td>rdillowq@scribd.com</td><td>Ihosy</td><td>Training</td><td>Ihosy's wife, Elvira, whose son has been killed by a group of members, is still recovering at a clinic in Las Vegas.\n",
       "\n",
       "As one of the first parents to leave, many people were stunned by her decision</td></tr><tr><td>28</td><td>Vitoria</td><td>Pitchers</td><td>vpitchersr@github.io</td><td>Shiree</td><td>Legal</td><td>Shiree is also a part of a community of students. The event features workshops for both undergraduate and graduate students in the subject of urbanism.\n",
       "\n",
       "The event will be held at the following locations in New York City on September 12-13</td></tr><tr><td>29</td><td>Worthington</td><td>Dike</td><td>wdikes@dropbox.com</td><td>Sa Bot</td><td>Marketing</td><td>Sa Botts\n",
       "\n",
       "Marksman-Nite\n",
       "\n",
       "Rangers\n",
       "\n",
       "Rangers of the Sun\n",
       "\n",
       "Rangers of the Moon\n",
       "\n",
       "Rangers of the Solar System\n",
       "\n",
       "Sons of Anarchy\n",
       "\n",
       "Sons of the Sun</td></tr><tr><td>30</td><td>Angy</td><td>Carthew</td><td>acarthewt@addtoany.com</td><td>Biloxi</td><td>Human Resources</td><td>Biloxi & Spire, a joint venture of the National Institute of Alcohol Abuse and Alcoholism (NIAAA), and the University of California, Berkeley. The study was funded by the National Institute of Drug Abuse and Alcohol Abuse and the</td></tr><tr><td>31</td><td>Zara</td><td>Ketley</td><td>zketleyu@instagram.com</td><td>Dziadkowice</td><td>Engineering</td><td>Dziadkowice has been put in charge of drafting and promoting pro-Ukraine legislation, which will become law in Ukraine with the signing of the \"Crimea Accord of 2012.\"\n",
       "\n",
       "Read more\n",
       "\n",
       "\"It will be a difficult</td></tr><tr><td>32</td><td>Paolina</td><td>Crippell</td><td>pcrippellv@bloglines.com</td><td>Aborlan</td><td>Engineering</td><td>Aborlan Road in Toronto</td></tr><tr><td>33</td><td>Cami</td><td>Scammell</td><td>cscammellw@google.cn</td><td>Sablé-sur-Sarthe</td><td>Services</td><td>Sablé-sur-Sartheville.\n",
       "\n",
       "The French are expected to take part in a day-long meeting on Nov. 20.\n",
       "\n",
       "Prime Minister Philippe Coutinho said U.S. President Donald Trump will attend. He</td></tr><tr><td>34</td><td>Emili</td><td>Furse</td><td>efursex@springer.com</td><td>Yiliu</td><td>Product Management</td><td>Yiliu and Oli, but that's only the beginning. If Oliu and Oliu are tied up, how will they pay for their debts? When Oliu came, his wife, Pami, was his wife.</td></tr><tr><td>35</td><td>Jannelle</td><td>Dean</td><td>jdeany@mapquest.com</td><td>Jackson</td><td>Engineering</td><td>Jackson.com.\n",
       "\n",
       "The \"I Can't Believe I'm Doing This Again\" video has been played more than 100,000 times. A video titled 'Boys Gone Girl': A Little Story About A Teen Killed by Teenage Terrorists</td></tr><tr><td>36</td><td>Barnie</td><td>Ciric</td><td>bciricz@wufoo.com</td><td>Khong</td><td>Services</td><td>Khong Jia, Jihaon Yu, Jin Shi, and Yi Zhang, The effect of an antidepressant on behavioral disturbances in the patients taking antidepressants: The effects of postmarketing and clinical trials on the effects of antidepressant on behavioral symptoms in mice</td></tr><tr><td>37</td><td>Leonelle</td><td>Trevear</td><td>ltrevear10@npr.org</td><td>Puerto Cabezas</td><td>Services</td><td>Puerto Cabezas, the president of the International Organization for Red Cross and Firefighters.\n",
       "\n",
       "The group added that \"the death is being reported in less than 6 hours, although it is clear that not all of them are being brought</td></tr><tr><td>38</td><td>Marlon</td><td>Benbow</td><td>mbenbow11@dion.ne.jp</td><td>Sîngerei</td><td>Sales</td><td>Sîngerei (I'm a writer) in the West (I'm a writer).\n",
       "\n",
       "The first place, of course, is the French for \"writer\".\n",
       "\n",
       "French. That's true.\n",
       "\n",
       "So here goes</td></tr><tr><td>39</td><td>Fania</td><td>Rolfini</td><td>frolfini12@theguardian.com</td><td>Maputo</td><td>Engineering</td><td>Maputo::AddReverseRange ( vr_idx, vr_size)\n",
       "\n",
       "{\n",
       "\n",
       "if (r_size > 2 == 0 )\n",
       "\n",
       "return ( char_back (vr_idx, v</td></tr><tr><td>40</td><td>Hermy</td><td>Ramsdell</td><td>hramsdell13@bigcartel.com</td><td>Kunduz</td><td>Sales</td><td>Kunduz is not alone in this; and as an independent city on the other side of the river, the government controls about 90 percent of the natural resources on it, including vast tracts of land. One of the people responsible for many of the</td></tr><tr><td>41</td><td>Mair</td><td>Sarney</td><td>msarney14@squarespace.com</td><td>Langsa</td><td>Engineering</td><td>Langsa, which has long been the biggest and oldest university in the country, is on its way to become one of China's best performing public schools of its kind, according to the Times of China report.\n",
       "\n",
       "The university's funding is</td></tr><tr><td>42</td><td>Brandise</td><td>Antrim</td><td>bantrim15@mayoclinic.com</td><td>Leipsoí</td><td>Legal</td><td>Leipsoíve Pública (L) is presented at the 2015 World Cup 2014 (World Cup Group B) fair. Photo: Daniel Martinez Nel\n",
       "\n",
       "FulbÁngel said his group had to play</td></tr><tr><td>43</td><td>Theodore</td><td>Kitchingham</td><td>tkitchingham16@java.com</td><td>Cibetung Dua</td><td>Product Management</td><td>Cibetung Dua, the country of origin of the Buddha, is currently part of Vietnam.\n",
       "\n",
       "The Baghch-Agu was created at a time when Vietnamese society was increasingly used by China to provide protection against terrorism.\n",
       "</td></tr><tr><td>44</td><td>Charley</td><td>Berntsson</td><td>cberntsson17@naver.com</td><td>Bakunase</td><td>Marketing</td><td>Bakunase, as he knew from the day he first arrived in Tokyo in 1944, took his eyes off the surface and asked.\n",
       "\n",
       "\"What did they want?\"\n",
       "\n",
       "\"They demanded that,\" Bukunase replied, eyes closed</td></tr><tr><td>45</td><td>Amelia</td><td>Slocombe</td><td>aslocombe18@squarespace.com</td><td>Sembungan Kidul</td><td>Training</td><td>Sembungan Kidulong, who was arrested near his home in Cheung Kong in January 2015. The girl's family says she came away from the school late this month feeling so vulnerable she had to hide it. (Photo by Hwan</td></tr><tr><td>46</td><td>Lorettalorna</td><td>Ungerechts</td><td>lungerechts19@phoca.cz</td><td>Hengxizhen</td><td>Marketing</td><td>Hengxizhen, Jiancheng, Ji-cheng. These characters are all unique, but the other characters are also unique. Those are characters from the first book, The Black Sword of Yin Qia, which is not the same</td></tr><tr><td>47</td><td>Shayla</td><td>Lewknor</td><td>slewknor1a@slate.com</td><td>Taoling</td><td>Product Management</td><td>Taoling says that while the law may not have been enforced, it's \"incredible\" to the city of Changchang, which has an 885 daily traffic law (a total of 11,000 traffic tickets) that affects thousands of residents</td></tr><tr><td>48</td><td>Valida</td><td>Gatland</td><td>vgatland1b@gnu.org</td><td>General Conesa</td><td>Human Resources</td><td>General Conesa\n",
       "\n",
       "Dane Henneman's company is the largest in the United States and has been at the forefront of building a robust business model with innovative products and services.\n",
       "\n",
       "Henneman & Co, Inc. (Chen</td></tr><tr><td>49</td><td>Thia</td><td>Falla</td><td>tfalla1c@prnewswire.com</td><td>Leyuan</td><td>Accounting</td><td>Leyuan, Taiwan, December 4, 2013. REUTERS/Jim Young/File photo\n",
       "\n",
       "Some economists have warned that the government could be forced to spend billions on roads and bridges if it decided it wants to spend its money on infrastructure projects.</td></tr><tr><td>50</td><td>Dave</td><td>Darnody</td><td>ddarnody1d@adobe.com</td><td>Chexi</td><td>Product Management</td><td>Chexi Mountain (China) (Cherry Blossom)\n",
       "\n",
       "Haiyakutsu ⓘ Gajimong Shukou District (Haiyakukou) N. et al. (1979) Gold and mineralogy of Xin</td></tr><tr><td>51</td><td>Birgitta</td><td>Philipsen</td><td>bphilipsen1e@timesonline.co.uk</td><td>Porsgrunn</td><td>Engineering</td><td>Porsgrunn J.J., Wilson J.M., & Kollman C.J. ( 2008 ). A genome-wide approach to genetic risk in the human immunodeficiency virus (HIV) susceptibility map (). We searched across</td></tr><tr><td>52</td><td>Prudence</td><td>Bortolutti</td><td>pbortolutti1f@i2i.jp</td><td>Pudasjärvi</td><td>Support</td><td>Pudasjärvić, Anastasiya, and Milos\n",
       "\n",
       "All those who don't want it is just to kill them! No way! Don't kill those who don't want it! The world is our oy</td></tr><tr><td>53</td><td>Clemmie</td><td>Keiley</td><td>ckeiley1g@angelfire.com</td><td>Macklin</td><td>Training</td><td>Macklin-Jakub) March 10, 2016\n",
       "\n",
       "The video shows a black man throwing punches at a bystander.\n",
       "\n",
       "Twitter user @KirkScoop has uploaded a picture of an alleged assault-with-bullies</td></tr><tr><td>54</td><td>Honey</td><td>Darrach</td><td>hdarrach1h@sina.com.cn</td><td>Fengmu</td><td>Research and Development</td><td>Fengmuang. They came to seek to secure her by raising the banner of the Great Zhao.\n",
       "\n",
       "\n",
       "\"You want to come with me?\" Liu Ying said as she spoke out. She wanted to get her sister back, and she was</td></tr><tr><td>55</td><td>Ave</td><td>Cawcutt</td><td>acawcutt1i@ucsd.edu</td><td>Angao</td><td>Training</td><td>Angao.\" The words \"Heaven\" and \"Hell\" are used in the Quran as metaphors throughout its text. It is an ancient word for \"devoted family,\" meaning for the believer to give his life for the right to die. Thus</td></tr><tr><td>56</td><td>Orsola</td><td>Jukes</td><td>ojukes1j@examiner.com</td><td>Adygeysk</td><td>Marketing</td><td>Adygeyskop.net / Vassiliya Bhattacharya / Vassiliya Vasanti / Vassiliya Ajaan-Sakshi / Vassiliya Darya / Vassiliya S</td></tr><tr><td>57</td><td>Romain</td><td>Wherrit</td><td>rwherrit1k@discovery.com</td><td>Sosnovo-Ozerskoye</td><td>Marketing</td><td>Sosnovo-Ozerskoye Soviet Moscow\n",
       "\n",
       "\n",
       "[13] Stadzhikov, D, Sovetsky, M, Volkov, S\n",
       "\n",
       "\n",
       "Dzurica and the Svetlana State: the</td></tr><tr><td>58</td><td>Britteny</td><td>Ygou</td><td>bygou1l@yellowpages.com</td><td>Khorostkiv</td><td>Research and Development</td><td>Khorostkiv/iStock\n",
       "\n",
       "\n",
       "On a very simple mathematical basis, the average IQ of a Ukrainian resident (under 30) is about four points higher than the average in Germany (+4) or Italy (+6). This explains why even</td></tr><tr><td>59</td><td>Conway</td><td>Lapenna</td><td>clapenna1m@123-reg.co.uk</td><td>Nevers</td><td>Business Development</td><td>Nevers are one of the most influential political thinkers in Europe, and to be an American citizen is to have a U.S. passport. But there are many other considerations as to who should be allowed to vote in the first place.\n",
       "\n",
       "</td></tr><tr><td>60</td><td>Winna</td><td>Fleckney</td><td>wfleckney1n@unicef.org</td><td>Tambakan</td><td>Services</td><td>Tambakan City Council is considering the case of three young male prostitutes in the city and police believe he was targeted due to his sexual preference.\n",
       "\n",
       "The women's bodies were found in a small field near the street where Bergdorf and</td></tr><tr><td>61</td><td>Meredithe</td><td>Barajas</td><td>mbarajas1o@reference.com</td><td>Bungoma</td><td>Sales</td><td>Bungoma - New Jersey Department of Health and Human Services\n",
       "\n",
       "The National Cancer Institute has a long track record of promoting low-birth-weight babies and children with cancer and other gastrointestinal disorders. They have developed a program for the mother of a</td></tr><tr><td>62</td><td>Myrah</td><td>Johnsee</td><td>mjohnsee1p@instagram.com</td><td>Matumadua</td><td>Training</td><td>Matumadua\n",
       "\n",
       "The Mardi Luas Celebration will begin Sunday, June 15th at 2pm at the Alvarado Hotel and Restaurant & Bar which open on July 3rd and close on August 12th. Admission is $40 for</td></tr><tr><td>63</td><td>Anne-marie</td><td>Carabet</td><td>acarabet1q@clickbank.net</td><td>Gondomar</td><td>Human Resources</td><td>Gondomar, C.R., DeCoster, J.W. ( 2001 ). Evolution of the 'L' word and the 'S' word. Journal of Natural Language Processing, 27, 879 - 898. doi:</td></tr><tr><td>64</td><td>Padgett</td><td>Licquorish</td><td>plicquorish1r@prweb.com</td><td>Mawa</td><td>Research and Development</td><td>Mawa: I wouldn't be so sure that's something that was brought up later.\n",
       "\n",
       "Dennis: All right. That would be an interesting question to answer. Would anything ever be brought up by him as to what he would be in</td></tr><tr><td>65</td><td>Sarine</td><td>Volcker</td><td>svolcker1s@mac.com</td><td>Verona</td><td>Research and Development</td><td>Verona City Council voted 2-1 on July 9 to ban all \"gender-balanced health care benefits\" for health insurance plans providing mental health care to African-Americans.\n",
       "\n",
       "This vote was done on a resolution from Councilman Joss Whedon</td></tr><tr><td>66</td><td>Derward</td><td>Thoms</td><td>dthoms1t@hp.com</td><td>As Salţ</td><td>Research and Development</td><td>As Salţelkiewicz, a psychologist and member of the faculty that conducted the survey, says there was a \"certainty of unease about attitudes and responses in a community where the term is still used widely.\" Many students were upset when</td></tr><tr><td>67</td><td>Carly</td><td>McGrouther</td><td>cmcgrouther1u@angelfire.com</td><td>Mojorejo</td><td>Legal</td><td>Mojorejo-sama.\"\n",
       "\n",
       "\"What are you saying?'\n",
       "\n",
       "\"You didn't feel like you had to make yourself feel like it right now.\"\n",
       "\n",
       "It's not just about the girls. It's about everyone in particular</td></tr><tr><td>68</td><td>Meghan</td><td>Gloster</td><td>mgloster1v@sohu.com</td><td>Książki</td><td>Human Resources</td><td>Książki and ŻybijaŻsżki. There's also the very popular Gedźki and Şjecsiąki from Russia, who also has a big name.</td></tr><tr><td>69</td><td>De</td><td>Licquorish</td><td>dlicquorish1w@latimes.com</td><td>Banjar Dauhpura</td><td>Product Management</td><td>Banjar Dauhpura [Saffron City] 9.3 2.4 [16] n/a 2 n/a No 9.4 0.5 [16] n/a 5 n/a n/a The Red</td></tr><tr><td>70</td><td>Bailey</td><td>Doiley</td><td>bdoiley1x@biglobe.ne.jp</td><td>Perivóli</td><td>Accounting</td><td>Perivóli on Tuesday said he was in a \"serious conversation\" with the mayor who had said that a proposed increase should be considered, but also did not elaborate on what that conversation would entail.\n",
       "\n",
       "Police officers stand in front of the</td></tr><tr><td>71</td><td>Truman</td><td>Morffew</td><td>tmorffew1y@salon.com</td><td>Niedrzwica Duża</td><td>Training</td><td>Niedrzwica Dużałięa (Mt. Błówka & Co.), 1844 - 1889 (Rózań Knašt. & Co.), 1899, p. 1</td></tr><tr><td>72</td><td>Dulcia</td><td>Gudgion</td><td>dgudgion1z@dailymotion.com</td><td>Xiwanzi</td><td>Research and Development</td><td>Xiwanzi is a small island just across the river from Chongqing. The island is the most important fishing center in the country of South Korea as it is part of the nation's strategic strategic area, home to a world class fishing boat.</td></tr><tr><td>73</td><td>Lori</td><td>McKeown</td><td>lmckeown20@aol.com</td><td>Yanchi</td><td>Product Management</td><td>Yanchi and their crew of six were forced to stand in the middle of an international convoy to evacuate the women and children from the burning compound, which they believed was a target of the Islamic State of Iraq and the Levant (ISIS) fighters.</td></tr><tr><td>74</td><td>Nataline</td><td>Jowle</td><td>njowle21@etsy.com</td><td>Kaishantun</td><td>Support</td><td>Kaishantunji said, explaining that this new test will serve as a new test for the country's new drug development program, which the ministry plans to roll out later this year.</td></tr><tr><td>75</td><td>Weylin</td><td>Couche</td><td>wcouche22@meetup.com</td><td>Şūrān</td><td>Training</td><td>Şūrān, who was first in her husband's family, but whom he could not take, because of the nature of his marriage was in no way perfect.\n",
       "\n",
       "Then when he finished eating, he went home a little,</td></tr><tr><td>76</td><td>Nataniel</td><td>Diver</td><td>ndiver23@howstuffworks.com</td><td>Ashikaga</td><td>Business Development</td><td>Ashikaga:\n",
       "\n",
       "They are a huge hit when I think about it. I know some of my teammates are great, and I have to trust them too. We've got a lot of good players here, and that's not what we</td></tr><tr><td>77</td><td>Inessa</td><td>Andreev</td><td>iandreev24@china.com.cn</td><td>Dukuhmencek Lor</td><td>Training</td><td>Dukuhmencek Lor.\n",
       "\n",
       "\"But at this stage, he only has a half-day of research until November 6 of this year…….\"\n",
       "\n",
       "In this time his plans have a slightly different start. Before returning to the</td></tr><tr><td>78</td><td>Gerard</td><td>Hexum</td><td>ghexum25@wix.com</td><td>Радолишта</td><td>Research and Development</td><td>Радолишта саздатат, превишь здорзяжинованным</td></tr><tr><td>79</td><td>Vonni</td><td>Flucker</td><td>vflucker26@discuz.net</td><td>Quezon</td><td>Legal</td><td>Quezon was captured at Camp Lejeune in the 1930s by French soldiers working to destroy the Spanish-funded anti-Semitic organization.\n",
       "\n",
       "Zurich, a member of the Jewish community in Switzerland, confirmed his relationship with Zul</td></tr><tr><td>80</td><td>Quinta</td><td>Dowty</td><td>qdowty27@irs.gov</td><td>Vaiamonte</td><td>Research and Development</td><td>Vaiamonte's response to that, and what he called the \"outrageous response\" from his \"favorite friends\", were both equally disheartening, he concluded.\n",
       "\n",
       "As for me and the other participants, I don't particularly care</td></tr><tr><td>81</td><td>Alleyn</td><td>Myner</td><td>amyner28@weather.com</td><td>Tīkāpur</td><td>Engineering</td><td>Tīkāpur's main argument – and no matter how great an argument it is made against it – is that the people who claim to have understood it are merely hypocrites. All of this should lead to the conclusion that many of them have</td></tr><tr><td>82</td><td>Zia</td><td>Caccavari</td><td>zcaccavari29@twitter.com</td><td>Karangtengah</td><td>Product Management</td><td>Karangtengahr is a UNESCO-listed UNESCO member and one of the major centres of archaeology within the Middle East.\n",
       "\n",
       "The museum in Kasumi, a small village in the middle of Kasumi's vast pastoral area, was</td></tr><tr><td>83</td><td>Lillian</td><td>Ludye</td><td>lludye2a@twitpic.com</td><td>Shido</td><td>Accounting</td><td>Shido's bodyguard was shot in the foot by the suspect.\n",
       "\n",
       "The case has garnered worldwide acclaim for its shocking, dramatic and chilling photos and videos. With help from an award-winning photographer, local activists and the Internet, we're</td></tr><tr><td>84</td><td>Trever</td><td>Spencer</td><td>tspencer2b@intel.com</td><td>Tanumshede</td><td>Training</td><td>Tanumshede Vymbalsha Vidywali Vyvaniyan, Darshan Das, Arvind Kalal and Jaya Kumar. 2003. 'The evolution of caste in India and its links to migration and migration of</td></tr><tr><td>85</td><td>Carol</td><td>Macura</td><td>cmacura2c@sina.com.cn</td><td>Rudnya</td><td>Sales</td><td>Rudnya Rolf H. J. Rocha, H. R. Peltzer, A. Todman, D. J. Schuler (2006) An overview of all the factors associated with a low energy diet,</td></tr><tr><td>86</td><td>Alix</td><td>Coster</td><td>acoster2d@i2i.jp</td><td>Kotlyarevskaya</td><td>Services</td><td>Kotlyarevskaya had in 1991 declared the \"political settlement of the [Siberian] peninsula\", and later used the term that had been used before.\n",
       "\n",
       "Vashinsky had also been involved in building and using Soviet-era</td></tr><tr><td>87</td><td>Laetitia</td><td>Breffitt</td><td>lbreffitt2e@nhs.uk</td><td>San Juan de Mata</td><td>Legal</td><td>San Juan de Mata.\n",
       "\n",
       "The former Manchester City midfielder made 32 appearances for Inter between 2009 and 2012.\n",
       "\n",
       "Perez joined United during the previous campaign when the Belgian were relegated.\n",
       "\n",
       "Perez will join Stoke City on a</td></tr><tr><td>88</td><td>Noellyn</td><td>Hubbocks</td><td>nhubbocks2f@google.cn</td><td>Undurkhaan</td><td>Training</td><td>Undurkhaan of the same name in 1885.\n",
       "We now deal with another term of abuse. \"Gloria\" means \"the one from whom all things come; she is not of God.\" Now, \"Gloria</td></tr><tr><td>89</td><td>Genvieve</td><td>Lello</td><td>glello2g@delicious.com</td><td>Chendian</td><td>Engineering</td><td>Chendian-led war-time Kurdish YPG fighters in northern Iraq and Syria.\n",
       "\n",
       "In an early tweet, the YPG spokesman, General Khuram Butt, said the government would not let any groups that entered Syria advance past its positions.</td></tr><tr><td>90</td><td>Joaquin</td><td>Duckham</td><td>jduckham2h@behance.net</td><td>Zelenogradsk</td><td>Sales</td><td>Zelenogradsköf and Tromnakovsköf who were also part of the government in Washington.\n",
       "\n",
       "They are on leave from the Soviet embassy in Stockholm, where they had also fled from, but were released</td></tr><tr><td>91</td><td>Arturo</td><td>Bosquet</td><td>abosquet2i@canalblog.com</td><td>Sergokala</td><td>Engineering</td><td>Sergokala's words were about it. When he got home, he started doing his laundry and he even said to Kavatala, \"Kavatala, when you ask, ask about me. When I ask about you,</td></tr><tr><td>92</td><td>Curry</td><td>O'Kuddyhy</td><td>cokuddyhy2j@trellian.com</td><td>Kinalaglagan</td><td>Human Resources</td><td>Kinalaglagan has a couple of questions. First, which company has a problem with this question, and why does it become something of a topic nowadays? He also mentions the many good things about the SACN and the CSN in</td></tr><tr><td>93</td><td>Petey</td><td>Gasparro</td><td>pgasparro2k@1und1.de</td><td>Kauit</td><td>Human Resources</td><td>Kauitou\n",
       "\n",
       "The third-floor apartment in the main street, on a hill above the intersection with the city's Hausa National Park. It comes to mind when you imagine it as something out of the post-apocalyptic city</td></tr><tr><td>94</td><td>Basia</td><td>Couvet</td><td>bcouvet2l@comsenz.com</td><td>Itabuna</td><td>Human Resources</td><td>Itabuna's own name should be Shoko, after Shoko's brother, Toto.\n",
       "\n",
       "\"This day, that day, he passed away from an illness in a very painful way, and as a result he suffered two miscarriages</td></tr><tr><td>95</td><td>Grannie</td><td>Peatheyjohns</td><td>gpeatheyjohns2m@cbslocal.com</td><td>Kramat</td><td>Human Resources</td><td>Kramat-X11R-Titanfall-2\n",
       "\n",
       "-Improved AI\n",
       "\n",
       "-Slightly better FPS\n",
       "\n",
       "\n",
       "Version 3.0.1\n",
       "\n",
       "-Fix crash on Steam client when exiting a game after installing or restarting</td></tr><tr><td>96</td><td>Cirillo</td><td>Pochon</td><td>cpochon2n@ed.gov</td><td>Paucar</td><td>Product Management</td><td>Paucarra says he has started doing research studies to find ways to decrease pain, because the effects of a drug in the clinic are so small.\n",
       "\n",
       "What people do with an IV drip system when they have arthritis is to use their own</td></tr><tr><td>97</td><td>Thurstan</td><td>Sallter</td><td>tsallter2o@qq.com</td><td>Mencon</td><td>Engineering</td><td>Mencon 2013)</td></tr><tr><td>98</td><td>Erskine</td><td>Perell</td><td>eperell2p@sogou.com</td><td>Sainte-Geneviève-des-Bois</td><td>Human Resources</td><td>Sainte-Geneviève-des-Bois-Saints (Saint-Jean)\n",
       "\n",
       "Tunisia (Monmouth)\n",
       "\n",
       "Sainte-Geneviève-des-Bois-Saints (</td></tr><tr><td>99</td><td>Padraic</td><td>Learmonth</td><td>plearmonth2q@gizmodo.com</td><td>Sokol</td><td>Product Management</td><td>Sokol and Kari, who won the 2017 Olympic Games in Beijing and Seoul for the United States.\n",
       "\n",
       "\"This was a huge step up for the team,\" he said. \"Not only they have a new coach, but they have</td></tr><tr><td>100</td><td>Dorri</td><td>Beecker</td><td>dbeecker2r@deliciousdays.com</td><td>Atlanta</td><td>Training</td><td>Atlanta to Seattle, but they are going to have to make some hard decisions about where they are as they're going to start rebuilding the D-Line. There's another area that could be challenging to deal with that seems like it would be a lot</td></tr></tbody></table></div>"
      ]
     },
     "metadata": {
      "application/vnd.databricks.v1+output": {
       "addedWidgets": {},
       "aggData": [],
       "aggError": "",
       "aggOverflow": false,
       "aggSchema": [],
       "aggSeriesLimitReached": false,
       "aggType": "",
       "arguments": {},
       "columnCustomDisplayInfos": {},
       "data": [
        [
         1,
         "Nerita",
         "Colby",
         "ncolby0@blogger.com",
         "Heyin",
         "Sales",
         "Heyin' is getting hot right now, we'll see what happens.\" She said that her brother was in good humor, and that she loved him too much to ignore her.\n\n\"So you're gonna say I'm gonna have to get"
        ],
        [
         2,
         "Odetta",
         "Buckle",
         "obuckle1@tinypic.com",
         "Sośnie",
         "Support",
         "Sośniek is the most important thing. This isn't some old saying which says \"the chief of the entire army is good from his position of power: therefore he has to be considered a good one\", but as the war drags"
        ],
        [
         3,
         "Normie",
         "Sutherley",
         "nsutherley2@illinois.edu",
         "Bayuin",
         "Marketing",
         "Bayuin and Deltas are a very common two-player team, but are also the second best club in Europe.\n\nThe only other players from this season's Europa League are Aleksandar Kolarov, Evgeny H"
        ],
        [
         4,
         "Odille",
         "Camillo",
         "ocamillo3@yahoo.co.jp",
         "Karangturi",
         "Engineering",
         "Karangturi.\n\nThe former leader of the opposition party called Mr Maduro's decision a \"disastrous development.\" The move could destabilise some conservative groups \"which are not satisfied with how he is handling the country,\" he said.\n"
        ],
        [
         5,
         "Ulrikaumeko",
         "Folli",
         "ufolli4@engadget.com",
         "Xinxu",
         "Product Management",
         "Xinxu. There is also the possibility that the two processes are simultaneously creating different data types. The two processes, i.e., the two processes (Xinxu and IKEF) simultaneously want to share memory between each other, thereby"
        ],
        [
         6,
         "Belicia",
         "Paroni",
         "bparoni5@etsy.com",
         "Billdal",
         "Human Resources",
         "Billdal,\" he said.\n\n\nCoffee, a coffee machine and light-duty gas station and grocery store in Lake Worth, is a major part of what will be $1 billion of economic activity.\n\n\nAnd in other areas of"
        ],
        [
         7,
         "Leland",
         "Povele",
         "lpovele6@tamu.edu",
         "Zemio",
         "Human Resources",
         "Zemio's book: I think this is actually part of the problem, which is he claims that he did not do a lot and just went into the game, and played at maximum capacity for three hours a game which is a typical game."
        ],
        [
         8,
         "Maire",
         "Swidenbank",
         "mswidenbank7@quantcast.com",
         "Wangmo",
         "Sales",
         "Wangmo, a senior developer for The Void, talks with a journalist about what they're working on during his time working on The Void:\n\nIt's been really fun and I'm not complaining about anything. There is still a lot of"
        ],
        [
         9,
         "Pail",
         "Rembrant",
         "prembrant8@apache.org",
         "Gostimë",
         "Product Management",
         "Gostimë.\n\nIf the Greeks could have kept their heads low, this would not have happened. When you see anything, you're seeing a phenomenon we call a \"psychocephalic experience\" that is actually a sign of something"
        ],
        [
         10,
         "Collette",
         "Kurt",
         "ckurt9@nbcnews.com",
         "Jiahu",
         "Engineering",
         "Jiahu said.\n\nBrig. Gen. Michael Flynn, who faces national security and ethics questions with his resignation on Monday, has since become President Mike Pence's chief of staff and under Trump's leadership has continued to push to improve cooperation"
        ],
        [
         11,
         "Cecilio",
         "Hauxby",
         "chauxbya@cpanel.net",
         "Nangaroro",
         "Engineering",
         "Nangaroro's main concerns are safety and the health of residents.\n\n\"On our road to Bali we are facing many potential incidents that could disrupt air quality,\" she said.\n\nShe also stresses that the current infrastructure being constructed"
        ],
        [
         12,
         "Danica",
         "Yockley",
         "dyockleyb@shutterfly.com",
         "Taunan",
         "Human Resources",
         "Taunan said earlier this year that his efforts would not save the nation.\n\n\"We want to go to Washington and play a strong game that we can both win and lose,\" he said.\n\nBrett Hundley contributed to"
        ],
        [
         13,
         "Morgen",
         "Husher",
         "mhusherc@bravesites.com",
         "Amagbagan",
         "Sales",
         "Amagbagan\n\nLaguna Beach, CA 94510\n\n\nVoyager's\n\nChitanda Center\n\nCleveland, OH 43218\n\n\nSophia's\n\nEarl Mills\n\nMin"
        ],
        [
         14,
         "Nial",
         "Hurtado",
         "nhurtadod@nsw.gov.au",
         "Soe",
         "Research and Development",
         "Soe will not die after finishing that line. That line is dead. You'll probably get some more of that in your next game.\n\nQ. My wife tells me that the other day she said she liked Taylor Swift. Are you thinking"
        ],
        [
         15,
         "Osbourn",
         "Whooley",
         "owhooleye@utexas.edu",
         "Saint Paul",
         "Support",
         "Saint Paul University in Paul, Minnesota.\n\nIn the early 2000s, when she started her career on a nonprofit, I started working alongside her there at the beginning of the fall of 2011. Our first project for our organization was to send her"
        ],
        [
         16,
         "Marve",
         "Staniford",
         "mstanifordf@t.co",
         "Concepcion",
         "Engineering",
         "Concepcion (and the other two as they get to be more closely identified) but I've included their respective categories below.\n\nBinary categories:\n\n1. Univariate (n 2 + p2 < p3)\n"
        ],
        [
         17,
         "Grethel",
         "Thewless",
         "gthewlessg@wordpress.org",
         "Chengnan",
         "Legal",
         "Chengnan's two sons, Zheng and Yi, were living out of jail but the family would have to turn this over to the local authorities.\n\nIf they don't allow this to happen, the government would only be able to hold them"
        ],
        [
         18,
         "Chris",
         "Biermatowicz",
         "cbiermatowiczh@smh.com.au",
         "Guihulñgan",
         "Business Development",
         "Guihulñgan, founder of the Bhopal Project, the most well-known, and largest community-based human rights NGO in North East Africa.\n\nTo make his case for the rights and social inclusion of migrant labourers,"
        ],
        [
         19,
         "Al",
         "Gerauld",
         "agerauldi@ucsd.edu",
         "Prantaan",
         "Business Development",
         "Prantaan Nama\n\nKathleen Jaffer\n\nRebecca D."
        ],
        [
         20,
         "Frazer",
         "Rizzetti",
         "frizzettij@cdbaby.com",
         "Ḩarīb",
         "Legal",
         "Ḩarīb-s-dār shaykh darqās.\n\nThe term 'dara' comes from a Darya; the form dara means 'all this is, every substance' (1 t"
        ],
        [
         21,
         "Brew",
         "Travers",
         "btraversk@miibeian.gov.cn",
         "Cam Ranh",
         "Business Development",
         "Cam Ranh M Khokla, D. (2005) On the development of artificial neural mechanisms for language learning in the language-processing area. Advances in the Research of Artificial Intelligence (pdf).\n\nHodgkinson A. ("
        ],
        [
         22,
         "Nollie",
         "Jannequin",
         "njannequinl@mail.ru",
         "Båstad",
         "Human Resources",
         "Båstad\n\n[28] Poulsen P, Stolz N, Schneissing-Stahl B, Wieseltich J, Aarons G (2016) A review of three models of neurodegenerative"
        ],
        [
         23,
         "Nessy",
         "Bruty",
         "nbrutym@intel.com",
         "Liudong",
         "Services",
         "Liudong-Jaeger was taken to the South Korean Medical Services, where he was transferred to the hospital, where he was brought back with the result that he was reanimated, the court filing explains.\n\nJaeger's"
        ],
        [
         24,
         "Elyn",
         "Jantzen",
         "ejantzenn@businessweek.com",
         "Si Mahosot",
         "Support",
         "Si Mahosotan.\n\nA man with a beard, who had a beard that was nearly as big as his shoulders, was being treated at an unlicensed clinic called \"Cases and Clinics\" and he was being given injections of"
        ],
        [
         25,
         "Basil",
         "Hazelhurst",
         "bhazelhursto@hhs.gov",
         "Stockholm",
         "Product Management",
         "Stockholm, the mayor of Stockholm, and his party, the Social Democrats, on Friday accused Sweden of seeking to impose more stringent anti-immigrant laws as warring factions tried to break up a fragile but powerful economy.\n\n\"The government wanted"
        ],
        [
         26,
         "Dina",
         "Paty",
         "dpatyp@pbs.org",
         "Bāfq",
         "Human Resources",
         "Bāfqat-taghāḤā ākū-iḥt-ṣbē ḥrāmaṭī (in the first ten chapters). This passage is a commentary on the first"
        ],
        [
         27,
         "Raven",
         "Dillow",
         "rdillowq@scribd.com",
         "Ihosy",
         "Training",
         "Ihosy's wife, Elvira, whose son has been killed by a group of members, is still recovering at a clinic in Las Vegas.\n\nAs one of the first parents to leave, many people were stunned by her decision"
        ],
        [
         28,
         "Vitoria",
         "Pitchers",
         "vpitchersr@github.io",
         "Shiree",
         "Legal",
         "Shiree is also a part of a community of students. The event features workshops for both undergraduate and graduate students in the subject of urbanism.\n\nThe event will be held at the following locations in New York City on September 12-13"
        ],
        [
         29,
         "Worthington",
         "Dike",
         "wdikes@dropbox.com",
         "Sa Bot",
         "Marketing",
         "Sa Botts\n\nMarksman-Nite\n\nRangers\n\nRangers of the Sun\n\nRangers of the Moon\n\nRangers of the Solar System\n\nSons of Anarchy\n\nSons of the Sun"
        ],
        [
         30,
         "Angy",
         "Carthew",
         "acarthewt@addtoany.com",
         "Biloxi",
         "Human Resources",
         "Biloxi & Spire, a joint venture of the National Institute of Alcohol Abuse and Alcoholism (NIAAA), and the University of California, Berkeley. The study was funded by the National Institute of Drug Abuse and Alcohol Abuse and the"
        ],
        [
         31,
         "Zara",
         "Ketley",
         "zketleyu@instagram.com",
         "Dziadkowice",
         "Engineering",
         "Dziadkowice has been put in charge of drafting and promoting pro-Ukraine legislation, which will become law in Ukraine with the signing of the \"Crimea Accord of 2012.\"\n\nRead more\n\n\"It will be a difficult"
        ],
        [
         32,
         "Paolina",
         "Crippell",
         "pcrippellv@bloglines.com",
         "Aborlan",
         "Engineering",
         "Aborlan Road in Toronto"
        ],
        [
         33,
         "Cami",
         "Scammell",
         "cscammellw@google.cn",
         "Sablé-sur-Sarthe",
         "Services",
         "Sablé-sur-Sartheville.\n\nThe French are expected to take part in a day-long meeting on Nov. 20.\n\nPrime Minister Philippe Coutinho said U.S. President Donald Trump will attend. He"
        ],
        [
         34,
         "Emili",
         "Furse",
         "efursex@springer.com",
         "Yiliu",
         "Product Management",
         "Yiliu and Oli, but that's only the beginning. If Oliu and Oliu are tied up, how will they pay for their debts? When Oliu came, his wife, Pami, was his wife."
        ],
        [
         35,
         "Jannelle",
         "Dean",
         "jdeany@mapquest.com",
         "Jackson",
         "Engineering",
         "Jackson.com.\n\nThe \"I Can't Believe I'm Doing This Again\" video has been played more than 100,000 times. A video titled 'Boys Gone Girl': A Little Story About A Teen Killed by Teenage Terrorists"
        ],
        [
         36,
         "Barnie",
         "Ciric",
         "bciricz@wufoo.com",
         "Khong",
         "Services",
         "Khong Jia, Jihaon Yu, Jin Shi, and Yi Zhang, The effect of an antidepressant on behavioral disturbances in the patients taking antidepressants: The effects of postmarketing and clinical trials on the effects of antidepressant on behavioral symptoms in mice"
        ],
        [
         37,
         "Leonelle",
         "Trevear",
         "ltrevear10@npr.org",
         "Puerto Cabezas",
         "Services",
         "Puerto Cabezas, the president of the International Organization for Red Cross and Firefighters.\n\nThe group added that \"the death is being reported in less than 6 hours, although it is clear that not all of them are being brought"
        ],
        [
         38,
         "Marlon",
         "Benbow",
         "mbenbow11@dion.ne.jp",
         "Sîngerei",
         "Sales",
         "Sîngerei (I'm a writer) in the West (I'm a writer).\n\nThe first place, of course, is the French for \"writer\".\n\nFrench. That's true.\n\nSo here goes"
        ],
        [
         39,
         "Fania",
         "Rolfini",
         "frolfini12@theguardian.com",
         "Maputo",
         "Engineering",
         "Maputo::AddReverseRange ( vr_idx, vr_size)\n\n{\n\nif (r_size > 2 == 0 )\n\nreturn ( char_back (vr_idx, v"
        ],
        [
         40,
         "Hermy",
         "Ramsdell",
         "hramsdell13@bigcartel.com",
         "Kunduz",
         "Sales",
         "Kunduz is not alone in this; and as an independent city on the other side of the river, the government controls about 90 percent of the natural resources on it, including vast tracts of land. One of the people responsible for many of the"
        ],
        [
         41,
         "Mair",
         "Sarney",
         "msarney14@squarespace.com",
         "Langsa",
         "Engineering",
         "Langsa, which has long been the biggest and oldest university in the country, is on its way to become one of China's best performing public schools of its kind, according to the Times of China report.\n\nThe university's funding is"
        ],
        [
         42,
         "Brandise",
         "Antrim",
         "bantrim15@mayoclinic.com",
         "Leipsoí",
         "Legal",
         "Leipsoíve Pública (L) is presented at the 2015 World Cup 2014 (World Cup Group B) fair. Photo: Daniel Martinez Nel\n\nFulbÁngel said his group had to play"
        ],
        [
         43,
         "Theodore",
         "Kitchingham",
         "tkitchingham16@java.com",
         "Cibetung Dua",
         "Product Management",
         "Cibetung Dua, the country of origin of the Buddha, is currently part of Vietnam.\n\nThe Baghch-Agu was created at a time when Vietnamese society was increasingly used by China to provide protection against terrorism.\n"
        ],
        [
         44,
         "Charley",
         "Berntsson",
         "cberntsson17@naver.com",
         "Bakunase",
         "Marketing",
         "Bakunase, as he knew from the day he first arrived in Tokyo in 1944, took his eyes off the surface and asked.\n\n\"What did they want?\"\n\n\"They demanded that,\" Bukunase replied, eyes closed"
        ],
        [
         45,
         "Amelia",
         "Slocombe",
         "aslocombe18@squarespace.com",
         "Sembungan Kidul",
         "Training",
         "Sembungan Kidulong, who was arrested near his home in Cheung Kong in January 2015. The girl's family says she came away from the school late this month feeling so vulnerable she had to hide it. (Photo by Hwan"
        ],
        [
         46,
         "Lorettalorna",
         "Ungerechts",
         "lungerechts19@phoca.cz",
         "Hengxizhen",
         "Marketing",
         "Hengxizhen, Jiancheng, Ji-cheng. These characters are all unique, but the other characters are also unique. Those are characters from the first book, The Black Sword of Yin Qia, which is not the same"
        ],
        [
         47,
         "Shayla",
         "Lewknor",
         "slewknor1a@slate.com",
         "Taoling",
         "Product Management",
         "Taoling says that while the law may not have been enforced, it's \"incredible\" to the city of Changchang, which has an 885 daily traffic law (a total of 11,000 traffic tickets) that affects thousands of residents"
        ],
        [
         48,
         "Valida",
         "Gatland",
         "vgatland1b@gnu.org",
         "General Conesa",
         "Human Resources",
         "General Conesa\n\nDane Henneman's company is the largest in the United States and has been at the forefront of building a robust business model with innovative products and services.\n\nHenneman & Co, Inc. (Chen"
        ],
        [
         49,
         "Thia",
         "Falla",
         "tfalla1c@prnewswire.com",
         "Leyuan",
         "Accounting",
         "Leyuan, Taiwan, December 4, 2013. REUTERS/Jim Young/File photo\n\nSome economists have warned that the government could be forced to spend billions on roads and bridges if it decided it wants to spend its money on infrastructure projects."
        ],
        [
         50,
         "Dave",
         "Darnody",
         "ddarnody1d@adobe.com",
         "Chexi",
         "Product Management",
         "Chexi Mountain (China) (Cherry Blossom)\n\nHaiyakutsu ⓘ Gajimong Shukou District (Haiyakukou) N. et al. (1979) Gold and mineralogy of Xin"
        ],
        [
         51,
         "Birgitta",
         "Philipsen",
         "bphilipsen1e@timesonline.co.uk",
         "Porsgrunn",
         "Engineering",
         "Porsgrunn J.J., Wilson J.M., & Kollman C.J. ( 2008 ). A genome-wide approach to genetic risk in the human immunodeficiency virus (HIV) susceptibility map (). We searched across"
        ],
        [
         52,
         "Prudence",
         "Bortolutti",
         "pbortolutti1f@i2i.jp",
         "Pudasjärvi",
         "Support",
         "Pudasjärvić, Anastasiya, and Milos\n\nAll those who don't want it is just to kill them! No way! Don't kill those who don't want it! The world is our oy"
        ],
        [
         53,
         "Clemmie",
         "Keiley",
         "ckeiley1g@angelfire.com",
         "Macklin",
         "Training",
         "Macklin-Jakub) March 10, 2016\n\nThe video shows a black man throwing punches at a bystander.\n\nTwitter user @KirkScoop has uploaded a picture of an alleged assault-with-bullies"
        ],
        [
         54,
         "Honey",
         "Darrach",
         "hdarrach1h@sina.com.cn",
         "Fengmu",
         "Research and Development",
         "Fengmuang. They came to seek to secure her by raising the banner of the Great Zhao.\n\n\n\"You want to come with me?\" Liu Ying said as she spoke out. She wanted to get her sister back, and she was"
        ],
        [
         55,
         "Ave",
         "Cawcutt",
         "acawcutt1i@ucsd.edu",
         "Angao",
         "Training",
         "Angao.\" The words \"Heaven\" and \"Hell\" are used in the Quran as metaphors throughout its text. It is an ancient word for \"devoted family,\" meaning for the believer to give his life for the right to die. Thus"
        ],
        [
         56,
         "Orsola",
         "Jukes",
         "ojukes1j@examiner.com",
         "Adygeysk",
         "Marketing",
         "Adygeyskop.net / Vassiliya Bhattacharya / Vassiliya Vasanti / Vassiliya Ajaan-Sakshi / Vassiliya Darya / Vassiliya S"
        ],
        [
         57,
         "Romain",
         "Wherrit",
         "rwherrit1k@discovery.com",
         "Sosnovo-Ozerskoye",
         "Marketing",
         "Sosnovo-Ozerskoye Soviet Moscow\n\n\n[13] Stadzhikov, D, Sovetsky, M, Volkov, S\n\n\nDzurica and the Svetlana State: the"
        ],
        [
         58,
         "Britteny",
         "Ygou",
         "bygou1l@yellowpages.com",
         "Khorostkiv",
         "Research and Development",
         "Khorostkiv/iStock\n\n\nOn a very simple mathematical basis, the average IQ of a Ukrainian resident (under 30) is about four points higher than the average in Germany (+4) or Italy (+6). This explains why even"
        ],
        [
         59,
         "Conway",
         "Lapenna",
         "clapenna1m@123-reg.co.uk",
         "Nevers",
         "Business Development",
         "Nevers are one of the most influential political thinkers in Europe, and to be an American citizen is to have a U.S. passport. But there are many other considerations as to who should be allowed to vote in the first place.\n\n"
        ],
        [
         60,
         "Winna",
         "Fleckney",
         "wfleckney1n@unicef.org",
         "Tambakan",
         "Services",
         "Tambakan City Council is considering the case of three young male prostitutes in the city and police believe he was targeted due to his sexual preference.\n\nThe women's bodies were found in a small field near the street where Bergdorf and"
        ],
        [
         61,
         "Meredithe",
         "Barajas",
         "mbarajas1o@reference.com",
         "Bungoma",
         "Sales",
         "Bungoma - New Jersey Department of Health and Human Services\n\nThe National Cancer Institute has a long track record of promoting low-birth-weight babies and children with cancer and other gastrointestinal disorders. They have developed a program for the mother of a"
        ],
        [
         62,
         "Myrah",
         "Johnsee",
         "mjohnsee1p@instagram.com",
         "Matumadua",
         "Training",
         "Matumadua\n\nThe Mardi Luas Celebration will begin Sunday, June 15th at 2pm at the Alvarado Hotel and Restaurant & Bar which open on July 3rd and close on August 12th. Admission is $40 for"
        ],
        [
         63,
         "Anne-marie",
         "Carabet",
         "acarabet1q@clickbank.net",
         "Gondomar",
         "Human Resources",
         "Gondomar, C.R., DeCoster, J.W. ( 2001 ). Evolution of the 'L' word and the 'S' word. Journal of Natural Language Processing, 27, 879 - 898. doi:"
        ],
        [
         64,
         "Padgett",
         "Licquorish",
         "plicquorish1r@prweb.com",
         "Mawa",
         "Research and Development",
         "Mawa: I wouldn't be so sure that's something that was brought up later.\n\nDennis: All right. That would be an interesting question to answer. Would anything ever be brought up by him as to what he would be in"
        ],
        [
         65,
         "Sarine",
         "Volcker",
         "svolcker1s@mac.com",
         "Verona",
         "Research and Development",
         "Verona City Council voted 2-1 on July 9 to ban all \"gender-balanced health care benefits\" for health insurance plans providing mental health care to African-Americans.\n\nThis vote was done on a resolution from Councilman Joss Whedon"
        ],
        [
         66,
         "Derward",
         "Thoms",
         "dthoms1t@hp.com",
         "As Salţ",
         "Research and Development",
         "As Salţelkiewicz, a psychologist and member of the faculty that conducted the survey, says there was a \"certainty of unease about attitudes and responses in a community where the term is still used widely.\" Many students were upset when"
        ],
        [
         67,
         "Carly",
         "McGrouther",
         "cmcgrouther1u@angelfire.com",
         "Mojorejo",
         "Legal",
         "Mojorejo-sama.\"\n\n\"What are you saying?'\n\n\"You didn't feel like you had to make yourself feel like it right now.\"\n\nIt's not just about the girls. It's about everyone in particular"
        ],
        [
         68,
         "Meghan",
         "Gloster",
         "mgloster1v@sohu.com",
         "Książki",
         "Human Resources",
         "Książki and ŻybijaŻsżki. There's also the very popular Gedźki and Şjecsiąki from Russia, who also has a big name."
        ],
        [
         69,
         "De",
         "Licquorish",
         "dlicquorish1w@latimes.com",
         "Banjar Dauhpura",
         "Product Management",
         "Banjar Dauhpura [Saffron City] 9.3 2.4 [16] n/a 2 n/a No 9.4 0.5 [16] n/a 5 n/a n/a The Red"
        ],
        [
         70,
         "Bailey",
         "Doiley",
         "bdoiley1x@biglobe.ne.jp",
         "Perivóli",
         "Accounting",
         "Perivóli on Tuesday said he was in a \"serious conversation\" with the mayor who had said that a proposed increase should be considered, but also did not elaborate on what that conversation would entail.\n\nPolice officers stand in front of the"
        ],
        [
         71,
         "Truman",
         "Morffew",
         "tmorffew1y@salon.com",
         "Niedrzwica Duża",
         "Training",
         "Niedrzwica Dużałięa (Mt. Błówka & Co.), 1844 - 1889 (Rózań Knašt. & Co.), 1899, p. 1"
        ],
        [
         72,
         "Dulcia",
         "Gudgion",
         "dgudgion1z@dailymotion.com",
         "Xiwanzi",
         "Research and Development",
         "Xiwanzi is a small island just across the river from Chongqing. The island is the most important fishing center in the country of South Korea as it is part of the nation's strategic strategic area, home to a world class fishing boat."
        ],
        [
         73,
         "Lori",
         "McKeown",
         "lmckeown20@aol.com",
         "Yanchi",
         "Product Management",
         "Yanchi and their crew of six were forced to stand in the middle of an international convoy to evacuate the women and children from the burning compound, which they believed was a target of the Islamic State of Iraq and the Levant (ISIS) fighters."
        ],
        [
         74,
         "Nataline",
         "Jowle",
         "njowle21@etsy.com",
         "Kaishantun",
         "Support",
         "Kaishantunji said, explaining that this new test will serve as a new test for the country's new drug development program, which the ministry plans to roll out later this year."
        ],
        [
         75,
         "Weylin",
         "Couche",
         "wcouche22@meetup.com",
         "Şūrān",
         "Training",
         "Şūrān, who was first in her husband's family, but whom he could not take, because of the nature of his marriage was in no way perfect.\n\nThen when he finished eating, he went home a little,"
        ],
        [
         76,
         "Nataniel",
         "Diver",
         "ndiver23@howstuffworks.com",
         "Ashikaga",
         "Business Development",
         "Ashikaga:\n\nThey are a huge hit when I think about it. I know some of my teammates are great, and I have to trust them too. We've got a lot of good players here, and that's not what we"
        ],
        [
         77,
         "Inessa",
         "Andreev",
         "iandreev24@china.com.cn",
         "Dukuhmencek Lor",
         "Training",
         "Dukuhmencek Lor.\n\n\"But at this stage, he only has a half-day of research until November 6 of this year…….\"\n\nIn this time his plans have a slightly different start. Before returning to the"
        ],
        [
         78,
         "Gerard",
         "Hexum",
         "ghexum25@wix.com",
         "Радолишта",
         "Research and Development",
         "Радолишта саздатат, превишь здорзяжинованным"
        ],
        [
         79,
         "Vonni",
         "Flucker",
         "vflucker26@discuz.net",
         "Quezon",
         "Legal",
         "Quezon was captured at Camp Lejeune in the 1930s by French soldiers working to destroy the Spanish-funded anti-Semitic organization.\n\nZurich, a member of the Jewish community in Switzerland, confirmed his relationship with Zul"
        ],
        [
         80,
         "Quinta",
         "Dowty",
         "qdowty27@irs.gov",
         "Vaiamonte",
         "Research and Development",
         "Vaiamonte's response to that, and what he called the \"outrageous response\" from his \"favorite friends\", were both equally disheartening, he concluded.\n\nAs for me and the other participants, I don't particularly care"
        ],
        [
         81,
         "Alleyn",
         "Myner",
         "amyner28@weather.com",
         "Tīkāpur",
         "Engineering",
         "Tīkāpur's main argument – and no matter how great an argument it is made against it – is that the people who claim to have understood it are merely hypocrites. All of this should lead to the conclusion that many of them have"
        ],
        [
         82,
         "Zia",
         "Caccavari",
         "zcaccavari29@twitter.com",
         "Karangtengah",
         "Product Management",
         "Karangtengahr is a UNESCO-listed UNESCO member and one of the major centres of archaeology within the Middle East.\n\nThe museum in Kasumi, a small village in the middle of Kasumi's vast pastoral area, was"
        ],
        [
         83,
         "Lillian",
         "Ludye",
         "lludye2a@twitpic.com",
         "Shido",
         "Accounting",
         "Shido's bodyguard was shot in the foot by the suspect.\n\nThe case has garnered worldwide acclaim for its shocking, dramatic and chilling photos and videos. With help from an award-winning photographer, local activists and the Internet, we're"
        ],
        [
         84,
         "Trever",
         "Spencer",
         "tspencer2b@intel.com",
         "Tanumshede",
         "Training",
         "Tanumshede Vymbalsha Vidywali Vyvaniyan, Darshan Das, Arvind Kalal and Jaya Kumar. 2003. 'The evolution of caste in India and its links to migration and migration of"
        ],
        [
         85,
         "Carol",
         "Macura",
         "cmacura2c@sina.com.cn",
         "Rudnya",
         "Sales",
         "Rudnya Rolf H. J. Rocha, H. R. Peltzer, A. Todman, D. J. Schuler (2006) An overview of all the factors associated with a low energy diet,"
        ],
        [
         86,
         "Alix",
         "Coster",
         "acoster2d@i2i.jp",
         "Kotlyarevskaya",
         "Services",
         "Kotlyarevskaya had in 1991 declared the \"political settlement of the [Siberian] peninsula\", and later used the term that had been used before.\n\nVashinsky had also been involved in building and using Soviet-era"
        ],
        [
         87,
         "Laetitia",
         "Breffitt",
         "lbreffitt2e@nhs.uk",
         "San Juan de Mata",
         "Legal",
         "San Juan de Mata.\n\nThe former Manchester City midfielder made 32 appearances for Inter between 2009 and 2012.\n\nPerez joined United during the previous campaign when the Belgian were relegated.\n\nPerez will join Stoke City on a"
        ],
        [
         88,
         "Noellyn",
         "Hubbocks",
         "nhubbocks2f@google.cn",
         "Undurkhaan",
         "Training",
         "Undurkhaan of the same name in 1885.\nWe now deal with another term of abuse. \"Gloria\" means \"the one from whom all things come; she is not of God.\" Now, \"Gloria"
        ],
        [
         89,
         "Genvieve",
         "Lello",
         "glello2g@delicious.com",
         "Chendian",
         "Engineering",
         "Chendian-led war-time Kurdish YPG fighters in northern Iraq and Syria.\n\nIn an early tweet, the YPG spokesman, General Khuram Butt, said the government would not let any groups that entered Syria advance past its positions."
        ],
        [
         90,
         "Joaquin",
         "Duckham",
         "jduckham2h@behance.net",
         "Zelenogradsk",
         "Sales",
         "Zelenogradsköf and Tromnakovsköf who were also part of the government in Washington.\n\nThey are on leave from the Soviet embassy in Stockholm, where they had also fled from, but were released"
        ],
        [
         91,
         "Arturo",
         "Bosquet",
         "abosquet2i@canalblog.com",
         "Sergokala",
         "Engineering",
         "Sergokala's words were about it. When he got home, he started doing his laundry and he even said to Kavatala, \"Kavatala, when you ask, ask about me. When I ask about you,"
        ],
        [
         92,
         "Curry",
         "O'Kuddyhy",
         "cokuddyhy2j@trellian.com",
         "Kinalaglagan",
         "Human Resources",
         "Kinalaglagan has a couple of questions. First, which company has a problem with this question, and why does it become something of a topic nowadays? He also mentions the many good things about the SACN and the CSN in"
        ],
        [
         93,
         "Petey",
         "Gasparro",
         "pgasparro2k@1und1.de",
         "Kauit",
         "Human Resources",
         "Kauitou\n\nThe third-floor apartment in the main street, on a hill above the intersection with the city's Hausa National Park. It comes to mind when you imagine it as something out of the post-apocalyptic city"
        ],
        [
         94,
         "Basia",
         "Couvet",
         "bcouvet2l@comsenz.com",
         "Itabuna",
         "Human Resources",
         "Itabuna's own name should be Shoko, after Shoko's brother, Toto.\n\n\"This day, that day, he passed away from an illness in a very painful way, and as a result he suffered two miscarriages"
        ],
        [
         95,
         "Grannie",
         "Peatheyjohns",
         "gpeatheyjohns2m@cbslocal.com",
         "Kramat",
         "Human Resources",
         "Kramat-X11R-Titanfall-2\n\n-Improved AI\n\n-Slightly better FPS\n\n\nVersion 3.0.1\n\n-Fix crash on Steam client when exiting a game after installing or restarting"
        ],
        [
         96,
         "Cirillo",
         "Pochon",
         "cpochon2n@ed.gov",
         "Paucar",
         "Product Management",
         "Paucarra says he has started doing research studies to find ways to decrease pain, because the effects of a drug in the clinic are so small.\n\nWhat people do with an IV drip system when they have arthritis is to use their own"
        ],
        [
         97,
         "Thurstan",
         "Sallter",
         "tsallter2o@qq.com",
         "Mencon",
         "Engineering",
         "Mencon 2013)"
        ],
        [
         98,
         "Erskine",
         "Perell",
         "eperell2p@sogou.com",
         "Sainte-Geneviève-des-Bois",
         "Human Resources",
         "Sainte-Geneviève-des-Bois-Saints (Saint-Jean)\n\nTunisia (Monmouth)\n\nSainte-Geneviève-des-Bois-Saints ("
        ],
        [
         99,
         "Padraic",
         "Learmonth",
         "plearmonth2q@gizmodo.com",
         "Sokol",
         "Product Management",
         "Sokol and Kari, who won the 2017 Olympic Games in Beijing and Seoul for the United States.\n\n\"This was a huge step up for the team,\" he said. \"Not only they have a new coach, but they have"
        ],
        [
         100,
         "Dorri",
         "Beecker",
         "dbeecker2r@deliciousdays.com",
         "Atlanta",
         "Training",
         "Atlanta to Seattle, but they are going to have to make some hard decisions about where they are as they're going to start rebuilding the D-Line. There's another area that could be challenging to deal with that seems like it would be a lot"
        ]
       ],
       "datasetInfos": [],
       "dbfsResultPath": null,
       "isJsonSchema": true,
       "metadata": {},
       "overflow": false,
       "plotOptions": {
        "customPlotOptions": {},
        "displayType": "table",
        "pivotAggregation": null,
        "pivotColumns": null,
        "xColumns": null,
        "yColumns": null
       },
       "removedWidgets": [],
       "schema": [
        {
         "metadata": "{}",
         "name": "id",
         "type": "\"long\""
        },
        {
         "metadata": "{}",
         "name": "first_name",
         "type": "\"string\""
        },
        {
         "metadata": "{}",
         "name": "last_name",
         "type": "\"string\""
        },
        {
         "metadata": "{}",
         "name": "email",
         "type": "\"string\""
        },
        {
         "metadata": "{}",
         "name": "location",
         "type": "\"string\""
        },
        {
         "metadata": "{}",
         "name": "department",
         "type": "\"string\""
        },
        {
         "metadata": "{}",
         "name": "summary",
         "type": "\"string\""
        }
       ],
       "type": "table"
      }
     },
     "output_type": "display_data"
    }
   ],
   "source": [
    "from transformers import pipeline\n",
    "\n",
    "# Load a pre-trained model for text generation\n",
    "text_generator = pipeline('text-generation', model='gpt2')\n",
    "\n",
    "# Function to clean and transform data\n",
    "def transform_data(row):\n",
    "    # Generate a summary for a text column\n",
    "    summary = text_generator(\n",
    "        row['location'], \n",
    "        max_length=50, \n",
    "        num_return_sequences=1\n",
    "    )[0]['generated_text']\n",
    "    row['summary'] = summary\n",
    "    return row\n",
    "\n",
    "# Ensure 'data' DataFrame has 'text_column'\n",
    "if 'location' in data.columns:\n",
    "    # Apply the transformation to the data\n",
    "    transformed_data = data.apply(transform_data, axis=1)\n",
    "    display(transformed_data)\n",
    "    transformed_data.to_csv('/Volumes/formula1_dev/gold/images/csv/transformed_data.csv', index=False)\n",
    "else:\n",
    "    print(\"Column 'location' does not exist in the DataFrame.\")"
   ]
  },
  {
   "cell_type": "code",
   "execution_count": 0,
   "metadata": {
    "application/vnd.databricks.v1+cell": {
     "cellMetadata": {
      "byteLimit": 2048000,
      "rowLimit": 10000
     },
     "inputWidgets": {},
     "nuid": "a74dd38f-8554-4d81-9515-6f876027ed6c",
     "showTitle": false,
     "title": ""
    }
   },
   "outputs": [
    {
     "output_type": "display_data",
     "data": {
      "text/plain": [
       "\u001B[0;31m---------------------------------------------------------------------------\u001B[0m\n",
       "\u001B[0;31mNameError\u001B[0m                                 Traceback (most recent call last)\n",
       "File \u001B[0;32m<command-165021201176596>, line 1\u001B[0m\n",
       "\u001B[0;32m----> 1\u001B[0m transformed_data\u001B[38;5;241m.\u001B[39mto_csv(\u001B[38;5;124m'\u001B[39m\u001B[38;5;124m/Volumes/formula1_dev/gold/images/csv/transformed_data.csv\u001B[39m\u001B[38;5;124m'\u001B[39m, index\u001B[38;5;241m=\u001B[39m\u001B[38;5;28;01mFalse\u001B[39;00m)\n",
       "\n",
       "\u001B[0;31mNameError\u001B[0m: name 'transformed_data' is not defined"
      ]
     },
     "metadata": {
      "application/vnd.databricks.v1+output": {
       "addedWidgets": {},
       "arguments": {},
       "datasetInfos": [],
       "jupyterProps": {
        "ename": "NameError",
        "evalue": "name 'transformed_data' is not defined"
       },
       "metadata": {
        "errorSummary": "<span class='ansi-red-fg'>NameError</span>: name 'transformed_data' is not defined"
       },
       "removedWidgets": [],
       "sqlProps": null,
       "stackFrames": [
        "\u001B[0;31m---------------------------------------------------------------------------\u001B[0m",
        "\u001B[0;31mNameError\u001B[0m                                 Traceback (most recent call last)",
        "File \u001B[0;32m<command-165021201176596>, line 1\u001B[0m\n\u001B[0;32m----> 1\u001B[0m transformed_data\u001B[38;5;241m.\u001B[39mto_csv(\u001B[38;5;124m'\u001B[39m\u001B[38;5;124m/Volumes/formula1_dev/gold/images/csv/transformed_data.csv\u001B[39m\u001B[38;5;124m'\u001B[39m, index\u001B[38;5;241m=\u001B[39m\u001B[38;5;28;01mFalse\u001B[39;00m)\n",
        "\u001B[0;31mNameError\u001B[0m: name 'transformed_data' is not defined"
       ],
       "type": "baseError"
      }
     },
     "output_type": "display_data"
    }
   ],
   "source": [
    "transformed_data.to_csv('/Volumes/formula1_dev/gold/images/csv/transformed_data.csv', index=False)"
   ]
  }
 ],
 "metadata": {
  "application/vnd.databricks.v1+notebook": {
   "dashboards": [],
   "environmentMetadata": null,
   "language": "python",
   "notebookMetadata": {
    "pythonIndentUnit": 4
   },
   "notebookName": "ETLwithGenAI",
   "widgets": {}
  }
 },
 "nbformat": 4,
 "nbformat_minor": 0
}
